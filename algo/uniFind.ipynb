{
 "cells": [
  {
   "cell_type": "code",
   "execution_count": 1,
   "metadata": {},
   "outputs": [],
   "source": [
    "class UnionFind():\n",
    "    def __init__(self, n):\n",
    "        self.n = n\n",
    "        self.parents = [-1] * n\n",
    "    \n",
    "    def root(self, x): #xの根を取得\n",
    "        if self.parents[x] < 0:\n",
    "            return x\n",
    "        else:\n",
    "            self.parents[x] = self.root(self.parents[x])\n",
    "            return self.parents[x]\n",
    "\n",
    "    def unite(self, x, y): #xとyをマージ\n",
    "        x = self.root(x)\n",
    "        y = self.root(y)\n",
    "\n",
    "        if x == y:\n",
    "            return\n",
    "        if self.parents[x] > self.parents[y]:\n",
    "            x, y = y, x\n",
    "\n",
    "        self.parents[x] += self.parents[y]\n",
    "        self.parents[y] = x\n",
    "\n",
    "    def is_same(self, x, y): #xとyが同じ連結成分か判定\n",
    "        return self.root(x) == self.root(y)\n",
    "\n",
    "    def size(self, x):\n",
    "        return -self.parents[self.root(x)]\n",
    "\n",
    "    def get_groups(self): #すべてのグループについて親とそのメンバーを辞書で返します\n",
    "        members = {}\n",
    "        for member in range(self.n):\n",
    "            p = self.root(member)        \n",
    "            if members.get(p, False):\n",
    "                members[p].append(member)\n",
    "            else:\n",
    "                members[p] = [member]\n",
    "\n",
    "            # if members.get(self.root(member), -1) == -1:\n",
    "            #     members[self.root(member)] = [member]\n",
    "            # else:\n",
    "            #     members[self.root(member)].append(member)\n",
    "        return members\n",
    "    \n",
    "    def __str__(self): #すべてのグループについて親とそのメンバーを文字列型で返します\n",
    "        members = self.get_groups()\n",
    "        return '\\n'.join([f'parents: {member}, member: {members[member]}' for member in members])"
   ]
  },
  {
   "cell_type": "code",
   "execution_count": 3,
   "metadata": {},
   "outputs": [
    {
     "name": "stdout",
     "output_type": "stream",
     "text": [
      "4\n",
      "2\n",
      "1\n",
      "{0: [0, 1, 2, 3], 4: [4, 5], 6: [6]}\n",
      "parents: 0, member: [0, 1, 2, 3]\n",
      "parents: 4, member: [4, 5]\n",
      "parents: 6, member: [6]\n"
     ]
    }
   ],
   "source": [
    "uf = UnionFind(7)\n",
    "uf.unite(0, 2)\n",
    "uf.unite(0, 3)\n",
    "uf.unite(0, 1)\n",
    "uf.unite(4, 5)\n",
    "print(uf.size(0))\n",
    "print(uf.size(4))\n",
    "print(uf.size(6))\n",
    "print(uf.get_groups())\n",
    "print(uf)"
   ]
  },
  {
   "cell_type": "code",
   "execution_count": 5,
   "metadata": {},
   "outputs": [
    {
     "data": {
      "text/plain": [
       "False"
      ]
     },
     "execution_count": 5,
     "metadata": {},
     "output_type": "execute_result"
    }
   ],
   "source": [
    "dic = {1: [23, -1]}\n",
    "dic.get(2, False)"
   ]
  },
  {
   "cell_type": "code",
   "execution_count": null,
   "metadata": {},
   "outputs": [],
   "source": []
  }
 ],
 "metadata": {
  "kernelspec": {
   "display_name": "Python 3.10.4 64-bit",
   "language": "python",
   "name": "python3"
  },
  "language_info": {
   "codemirror_mode": {
    "name": "ipython",
    "version": 3
   },
   "file_extension": ".py",
   "mimetype": "text/x-python",
   "name": "python",
   "nbconvert_exporter": "python",
   "pygments_lexer": "ipython3",
   "version": "3.10.4"
  },
  "orig_nbformat": 4,
  "vscode": {
   "interpreter": {
    "hash": "c036f8f3ad2f0d684820dfc35afda6e333e93b801313b3488a29c3dc9dff951a"
   }
  }
 },
 "nbformat": 4,
 "nbformat_minor": 2
}
