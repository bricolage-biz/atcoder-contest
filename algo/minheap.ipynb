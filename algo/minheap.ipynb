{
 "cells": [
  {
   "cell_type": "code",
   "execution_count": null,
   "metadata": {},
   "outputs": [],
   "source": [
    "def heap(A):\n",
    "    ret = []\n",
    "    for n, a in enumerate(A, 1):\n",
    "        ret.append(a)\n",
    "        if n == 1:\n",
    "            continue\n",
    "        child = n\n",
    "        parent = n // 2\n",
    "        while child != 1 and ret[parent - 1] > ret[child - 1]:\n",
    "            ret[parent - 1], ret[child - 1] = ret[child - 1], ret[parent - 1]\n",
    "            child = parent\n",
    "            parent = child // 2\n",
    "    return ret\n",
    "\n",
    "print(heap([5,4,3,100,2,1,1,0,0,1]))"
   ]
  }
 ],
 "metadata": {
  "kernelspec": {
   "display_name": "Python 3.10.4 64-bit",
   "language": "python",
   "name": "python3"
  },
  "language_info": {
   "name": "python",
   "version": "3.10.4"
  },
  "orig_nbformat": 4,
  "vscode": {
   "interpreter": {
    "hash": "c036f8f3ad2f0d684820dfc35afda6e333e93b801313b3488a29c3dc9dff951a"
   }
  }
 },
 "nbformat": 4,
 "nbformat_minor": 2
}
