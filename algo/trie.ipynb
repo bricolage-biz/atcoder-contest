{
 "cells": [
  {
   "cell_type": "markdown",
   "metadata": {},
   "source": [
    "## Trie\n",
    "store word in dictionary  \n",
    "search word in dictionary return True if exist  \n",
    "\n",
    "Time Complexity:  \n",
    "Insert: O(word_length)  \n",
    "search: O(word_length)  "
   ]
  },
  {
   "cell_type": "code",
   "execution_count": 1,
   "metadata": {},
   "outputs": [],
   "source": [
    "class Trie:\n",
    "    def __init__(self):\n",
    "        \"\"\"\n",
    "        Initialize your data structure here.\n",
    "        \"\"\"\n",
    "        self.root = {}\n",
    "    \n",
    "    def insert(self, word):\n",
    "        \"\"\"\n",
    "        Inserts a word into the trie.\n",
    "        \"\"\"\n",
    "        cur = self.root\n",
    "\n",
    "        for c in word:\n",
    "            if c not in cur:\n",
    "                cur[c] = {}\n",
    "            cur = cur[c]\n",
    "        cur['*'] = True\n",
    "    \n",
    "    def search(self, word):\n",
    "        \"\"\"\n",
    "        Returns if the word is in the trie.\n",
    "        \"\"\"\n",
    "        cur = self.root\n",
    "        for c in word:\n",
    "            if c not in cur:\n",
    "                return False\n",
    "            cur = cur[c]\n",
    "        if '*' in cur:\n",
    "            return True\n",
    "        else:\n",
    "            return False"
   ]
  },
  {
   "cell_type": "code",
   "execution_count": 3,
   "metadata": {},
   "outputs": [
    {
     "name": "stdout",
     "output_type": "stream",
     "text": [
      "True\n",
      "True\n",
      "False\n",
      "False\n"
     ]
    }
   ],
   "source": [
    "dictionary = Trie()\n",
    "\n",
    "dictionary.insert(\"hi\")\n",
    "dictionary.insert(\"hello\")\n",
    "print(dictionary.search('hi'))\n",
    "print(dictionary.search('hello'))\n",
    "print(dictionary.search('hel'))\n",
    "print(dictionary.search('hey'))"
   ]
  },
  {
   "cell_type": "code",
   "execution_count": null,
   "metadata": {},
   "outputs": [],
   "source": []
  }
 ],
 "metadata": {
  "kernelspec": {
   "display_name": "Python 3.10.4 64-bit",
   "language": "python",
   "name": "python3"
  },
  "language_info": {
   "codemirror_mode": {
    "name": "ipython",
    "version": 3
   },
   "file_extension": ".py",
   "mimetype": "text/x-python",
   "name": "python",
   "nbconvert_exporter": "python",
   "pygments_lexer": "ipython3",
   "version": "3.10.4"
  },
  "orig_nbformat": 4,
  "vscode": {
   "interpreter": {
    "hash": "c036f8f3ad2f0d684820dfc35afda6e333e93b801313b3488a29c3dc9dff951a"
   }
  }
 },
 "nbformat": 4,
 "nbformat_minor": 2
}
