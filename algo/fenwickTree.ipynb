{
 "cells": [
  {
   "cell_type": "code",
   "execution_count": 13,
   "metadata": {},
   "outputs": [],
   "source": [
    "class Fenwick_Tree:\n",
    "    def __init__(self, n) -> None:\n",
    "        self._n = n\n",
    "        self.data = [0] * n\n",
    "    \n",
    "    def add(self, p, x):\n",
    "        assert 0 <= p < self._n\n",
    "        p += 1\n",
    "        while p <= self._n:\n",
    "            self.data[p - 1] += x\n",
    "            p += p & -p\n",
    "    \n",
    "    # 左閉右開の区間和\n",
    "    def sum(self, l, r):\n",
    "        assert 0 <= l <= r <= self._n\n",
    "        return self._sum(r) - self._sum(l)\n",
    "    \n",
    "    def _sum(self, r):\n",
    "        s = 0\n",
    "        while r > 0:\n",
    "            s += self.data[r - 1]\n",
    "            # r - 1 -> 0-index, r -> 1-index\n",
    "            r -= r & -r\n",
    "        return s\n",
    "    \n",
    "    def select(self, p):\n",
    "        return self.sum(p, p + 1)\n"
   ]
  },
  {
   "cell_type": "code",
   "execution_count": 14,
   "metadata": {},
   "outputs": [
    {
     "name": "stdout",
     "output_type": "stream",
     "text": [
      "5\n",
      "6\n",
      "6\n",
      "[0, 1, 8, 3, 4, 4, 6, 7]\n",
      "9\n",
      "17\n"
     ]
    }
   ],
   "source": [
    "\n",
    "# Bit Index tree(BIT)\n",
    "n = 8 \n",
    "a = [0, 1, 2, 3, 4, 5, 6, 7]\n",
    "fw = Fenwick_Tree(n)\n",
    "for i, a_i in enumerate(a): fw.add(i, a_i)  # 数列aで初期化\n",
    "print(fw.sum(2, 4))  # 5\n",
    "print(fw.sum(6, 7))  # 6 sum(i, i + 1)でa[i]が得られる\n",
    "print(fw.select(6))\n",
    "fw.add(2, 6)  # a[2] += 6\n",
    "a[2] += 6\n",
    "fw.add(5, -1)  # a[5] += -1\n",
    "a[5] += -1\n",
    "print(a)  # [0, 1, 8, 3, 4, 4, 6, 7]\n",
    "print(fw.sum(0, 3))  # 9\n",
    "print(fw.sum(3, 7))  # 17\n"
   ]
  },
  {
   "cell_type": "code",
   "execution_count": 2,
   "metadata": {},
   "outputs": [
    {
     "data": {
      "text/plain": [
       "5"
      ]
     },
     "execution_count": 2,
     "metadata": {},
     "output_type": "execute_result"
    }
   ],
   "source": [
    "from itertools import accumulate\n",
    "def interval_sum(ls, l, r):\n",
    "    ls = [0] + list(accumulate(ls))\n",
    "    s = ls[r] - ls[l]\n",
    "    return s\n",
    "\n",
    "A = [0,1,2,3,4,5,6]\n",
    "interval_sum(A, 2, 4)"
   ]
  },
  {
   "cell_type": "code",
   "execution_count": null,
   "metadata": {},
   "outputs": [],
   "source": [
    "class FenwickTree:\n",
    "    def __init__(self, n):\n",
    "        self._n = n\n",
    "        self.data = [0] * n\n",
    "    def add(self, p, x):\n",
    "        p += 1\n",
    "        while p <= self._n:\n",
    "            self.data[p - 1] += x\n",
    "            p += p & -p\n",
    "    def _sum(self, r):\n",
    "        s = 0\n",
    "        while 0 < r:\n",
    "            s += self.data[r - 1]\n",
    "            r -= r & -r\n",
    "        return s\n",
    "    def sum(self, l, r):\n",
    "        r += 1\n",
    "        return self._sum(r) - self._sum(l)\n",
    "    def select(self, p):\n",
    "        return self.sum(p, p)"
   ]
  }
 ],
 "metadata": {
  "kernelspec": {
   "display_name": "Python 3.10.4 64-bit",
   "language": "python",
   "name": "python3"
  },
  "language_info": {
   "codemirror_mode": {
    "name": "ipython",
    "version": 3
   },
   "file_extension": ".py",
   "mimetype": "text/x-python",
   "name": "python",
   "nbconvert_exporter": "python",
   "pygments_lexer": "ipython3",
   "version": "3.10.4"
  },
  "orig_nbformat": 4,
  "vscode": {
   "interpreter": {
    "hash": "c036f8f3ad2f0d684820dfc35afda6e333e93b801313b3488a29c3dc9dff951a"
   }
  }
 },
 "nbformat": 4,
 "nbformat_minor": 2
}
