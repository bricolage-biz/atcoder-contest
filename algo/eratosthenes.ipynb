{
 "cells": [
  {
   "cell_type": "code",
   "execution_count": 6,
   "metadata": {},
   "outputs": [
    {
     "data": {
      "text/plain": [
       "9592"
      ]
     },
     "execution_count": 6,
     "metadata": {},
     "output_type": "execute_result"
    }
   ],
   "source": [
    "def eratosthenes(N):\n",
    "    \"\"\"\n",
    "    N以下の素数を全列挙\n",
    "    \"\"\"\n",
    "    is_prime = [True] * (N + 1)\n",
    "    is_prime[0] = False\n",
    "    is_prime[1] = False\n",
    "\n",
    "    i = 2\n",
    "    while i * i <= N:\n",
    "        if is_prime[i]:\n",
    "            for j in range(2 * i, N + 1, i):\n",
    "                is_prime[j] = False\n",
    "        i += 1\n",
    "    # ret = []\n",
    "    # for x, flag in enumerate(is_prime):\n",
    "    #     if flag:\n",
    "    #         ret.append(x)\n",
    "    # return ret\n",
    "\n",
    "    return [i for i in range(N + 1) if is_prime[i]]\n",
    "\n",
    "len(eratosthenes(100000))"
   ]
  },
  {
   "cell_type": "code",
   "execution_count": 2,
   "metadata": {},
   "outputs": [
    {
     "name": "stdout",
     "output_type": "stream",
     "text": [
      "1000003\n",
      "999983\n"
     ]
    }
   ],
   "source": [
    "print(eratosthenes(10 ** 6 + 5)[-1])\n",
    "print(eratosthenes(10 ** 6)[-1])"
   ]
  },
  {
   "cell_type": "code",
   "execution_count": 1,
   "metadata": {},
   "outputs": [
    {
     "data": {
      "text/plain": [
       "[2, 2, 2, 5, 7]"
      ]
     },
     "execution_count": 1,
     "metadata": {},
     "output_type": "execute_result"
    }
   ],
   "source": [
    "def primeFactorization(x):\n",
    "    \"\"\"\n",
    "    xを素因数分解(リスト型)\n",
    "    \"\"\"\n",
    "    factors = []\n",
    "    if x == 1:\n",
    "        return [1]\n",
    "    i = 2\n",
    "    while i ** 2 <= x:\n",
    "        if x % i == 0:\n",
    "            factors.append(i)\n",
    "            x //= i\n",
    "        else:\n",
    "            i += 1\n",
    "    if x != 1:\n",
    "        factors.append(x)\n",
    "    return factors\n",
    "\n",
    "primeFactorization(280)"
   ]
  },
  {
   "cell_type": "code",
   "execution_count": 2,
   "metadata": {},
   "outputs": [
    {
     "data": {
      "text/plain": [
       "{2: 3, 5: 1, 7: 1}"
      ]
     },
     "execution_count": 2,
     "metadata": {},
     "output_type": "execute_result"
    }
   ],
   "source": [
    "def primeFactorization(x):\n",
    "    \"\"\"\n",
    "    xを素因数分解(辞書型)\n",
    "    \"\"\"\n",
    "    factors = {}\n",
    "    if x == 1:\n",
    "        return {1: 1}\n",
    "    i = 2\n",
    "    while i ** 2 <= x:\n",
    "        if x % i == 0:\n",
    "            factors[i] = factors.get(i, 0) + 1\n",
    "            x //= i\n",
    "        else:\n",
    "            i += 1\n",
    "    if x != 1:\n",
    "        factors[x] = factors.get(x, 0) + 1\n",
    "    return factors\n",
    "\n",
    "primeFactorization(280)"
   ]
  },
  {
   "cell_type": "code",
   "execution_count": null,
   "metadata": {},
   "outputs": [],
   "source": []
  }
 ],
 "metadata": {
  "kernelspec": {
   "display_name": "Python 3.10.4 64-bit",
   "language": "python",
   "name": "python3"
  },
  "language_info": {
   "codemirror_mode": {
    "name": "ipython",
    "version": 3
   },
   "file_extension": ".py",
   "mimetype": "text/x-python",
   "name": "python",
   "nbconvert_exporter": "python",
   "pygments_lexer": "ipython3",
   "version": "3.10.4"
  },
  "orig_nbformat": 4,
  "vscode": {
   "interpreter": {
    "hash": "c036f8f3ad2f0d684820dfc35afda6e333e93b801313b3488a29c3dc9dff951a"
   }
  }
 },
 "nbformat": 4,
 "nbformat_minor": 2
}
