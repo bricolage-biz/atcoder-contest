{
 "cells": [
  {
   "cell_type": "markdown",
   "metadata": {},
   "source": [
    "| ナップザック DP |\n",
    "| :-: |\n",
    "| [ALDS_10_A - フィボナッチ数](https://judge.u-aizu.ac.jp/onlinejudge/description.jsp?id=ALDS1_10_A&lang=ja) |\n",
    "| [DPL_1_B - 0,1ナップザック問題](https://judge.u-aizu.ac.jp/onlinejudge/description.jsp?id=DPL_1_B&lang=ja) |\n",
    "| [DPL_1_C - ナップザック問題](https://judge.u-aizu.ac.jp/onlinejudge/description.jsp?id=DPL_1_C&lang=ja) |\n",
    "| [DPL_1_A - コイン問題](https://judge.u-aizu.ac.jp/onlinejudge/description.jsp?id=DPL_1_A&lang=ja) |\n",
    "| [ALDS_10_C - 最長共通部分列](https://judge.u-aizu.ac.jp/onlinejudge/description.jsp?id=ALDS1_10_C&lang=ja) |\n",
    "| [JOI 2011 予選 4 - 1 年生](https://atcoder.jp/contests/joi2011yo/tasks/joi2011yo_d) |\n",
    "| [JOI 2012 予選 4 - パスタ](https://atcoder.jp/contests/joi2012yo/tasks/joi2012yo_d) |\n",
    "| [JOI 2013 予選 4 - 暑い日々](https://atcoder.jp/contests/joi2013yo/tasks/joi2013yo_d) |\n",
    "| [JOI 2015 予選 4 - シルクロード](https://atcoder.jp/contests/joi2015yo/tasks/joi2015yo_d) |\n",
    "| [パ研杯2019 D - パ研軍旗](https://atcoder.jp/contests/pakencamp-2019-day3/tasks/pakencamp_2019_day3_d) |\n",
    "| [AOJ 1167 - ポロック予想](https://judge.u-aizu.ac.jp/onlinejudge/description.jsp?id=1167&lang=jp) |\n",
    "| [AOJ 2199 - 差分パルス符号変調](https://judge.u-aizu.ac.jp/onlinejudge/description.jsp?id=2199&lang=jp) |"
   ]
  },
  {
   "cell_type": "markdown",
   "metadata": {},
   "source": [
    "- 初期条件（Initial Conditions）：これは漸化式の最初の項に関連する条件で、通常、時間またはインデックス（nまたはkなど）が0または1の場合に関連付けられます。初期条件は、漸化式の最初のいくつかの項を計算するために使用されます。\n",
    "- 境界条件（Boundary Conditions）：これは漸化式の特定の境界での条件で、漸化式が特定の値に収束するか、または特定の条件を満たすようになる点を示します。これは、漸化式が無限大またはゼロに収束する場合など、特定の極限状態を指定するのに役立ちます。"
   ]
  },
  {
   "cell_type": "code",
   "execution_count": null,
   "metadata": {},
   "outputs": [],
   "source": [
    "N = int(input())\n",
    "\n",
    "def fib(n):\n",
    "  if n == 0 or n == 1:\n",
    "    return 1\n",
    "  DP = [0] * (n + 1)\n",
    "  \n",
    "  # 初期条件\n",
    "  DP[0] = DP[1] = 1\n",
    "\n",
    "  for i in range(2, n + 1):\n",
    "    DP[i] = DP[i - 1] + DP[i - 2]\n",
    "  return DP[n]\n",
    "\n",
    "print(fib(N))"
   ]
  },
  {
   "cell_type": "markdown",
   "metadata": {},
   "source": []
  }
 ],
 "metadata": {
  "kernelspec": {
   "display_name": "Python 3",
   "language": "python",
   "name": "python3"
  },
  "language_info": {
   "codemirror_mode": {
    "name": "ipython",
    "version": 3
   },
   "file_extension": ".py",
   "mimetype": "text/x-python",
   "name": "python",
   "nbconvert_exporter": "python",
   "pygments_lexer": "ipython3",
   "version": "3.10.4"
  },
  "orig_nbformat": 4
 },
 "nbformat": 4,
 "nbformat_minor": 2
}
