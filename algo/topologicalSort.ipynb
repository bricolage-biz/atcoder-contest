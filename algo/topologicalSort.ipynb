{
 "cells": [
  {
   "cell_type": "code",
   "execution_count": null,
   "metadata": {},
   "outputs": [],
   "source": [
    "from collections import deque\n",
    "\n",
    "V, E = map(int, input().split())\n",
    "indegree = [0] * V\n",
    "edges = [[] for _ in range(V)]\n",
    "for _ in range(E):\n",
    "    source, target = map(int, input().split())\n",
    "    edges[source].append(target)\n",
    "    indegree[target] += 1\n",
    "\n",
    "# 入次数0の頂点をキューに入れる\n",
    "que = deque()\n",
    "for i in range(V):\n",
    "    if indegree[i] == 0:\n",
    "        que.append(i)\n",
    "\n",
    "ans = []\n",
    "while que:\n",
    "    now = que.popleft()\n",
    "    for to in edges[now]:\n",
    "        # nowに隣接する頂点の入次数を1減らして\n",
    "        indegree[to] -= 1\n",
    "        # 入次数0になればキューに入れる\n",
    "        if indegree[to] == 0:\n",
    "            que.append(to)\n",
    "    # nowは答えに入れる\n",
    "    ans.append(now)\n",
    "\n",
    "print('\\n'.join(map(str, ans)))"
   ]
  },
  {
   "cell_type": "code",
   "execution_count": null,
   "metadata": {},
   "outputs": [],
   "source": []
  },
  {
   "cell_type": "code",
   "execution_count": null,
   "metadata": {},
   "outputs": [],
   "source": []
  }
 ],
 "metadata": {
  "kernelspec": {
   "display_name": "Python 3.10.4 64-bit",
   "language": "python",
   "name": "python3"
  },
  "language_info": {
   "codemirror_mode": {
    "name": "ipython",
    "version": 3
   },
   "file_extension": ".py",
   "mimetype": "text/x-python",
   "name": "python",
   "nbconvert_exporter": "python",
   "pygments_lexer": "ipython3",
   "version": "3.10.4"
  },
  "orig_nbformat": 4,
  "vscode": {
   "interpreter": {
    "hash": "c036f8f3ad2f0d684820dfc35afda6e333e93b801313b3488a29c3dc9dff951a"
   }
  }
 },
 "nbformat": 4,
 "nbformat_minor": 2
}
