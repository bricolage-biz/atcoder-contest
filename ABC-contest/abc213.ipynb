{
 "cells": [
  {
   "cell_type": "markdown",
   "metadata": {},
   "source": [
    "#### 解き方\n",
    "行と列の操作はお互いに関係がないので、行と列で 2回同じことをすれば解けます。  \n",
    "\n",
    "1. カードの行番号のリストRを受け取る  \n",
    "1. Rから重複を省いて、小さい順にソートしたリストRsを用意する  \n",
    "1. Rsをつかって、元の行番号が上から何番目に対応するかの辞書Rdを作る  \n",
    "なお、これは『座標圧縮』と呼ばれるテクニックです。"
   ]
  },
  {
   "cell_type": "code",
   "execution_count": 3,
   "metadata": {},
   "outputs": [
    {
     "data": {
      "text/plain": [
       "[(1, 3, 1), (2, 4, 2)]"
      ]
     },
     "execution_count": 3,
     "metadata": {},
     "output_type": "execute_result"
    }
   ],
   "source": [
    "# C\n",
    "H, W, N = map(int, input().split())\n",
    "R = []\n",
    "C = []\n",
    "\n",
    "for _ in range(N):\n",
    "    a, b = map(int, input().split())\n",
    "    R.append(a)\n",
    "    C.append(b)\n",
    "\n",
    "Rs = sorted(set(R)) #setで重複を省いてソートしたリストRs\n",
    "Cs = sorted(set(C))\n",
    "\n",
    "Rd = {x: i for i, x in enumerate(Rs, 1)}\n",
    "Cd = {x: i for i, x in enumerate(Cs, 1)}\n",
    "\n",
    "# for i in range(N):\n",
    "#     print(Rd[R[i]], Cd[C[i]])\n",
    "\n",
    "for r, c in zip(R, C):\n",
    "    print(Rd[r], Cd[c])"
   ]
  },
  {
   "cell_type": "code",
   "execution_count": null,
   "metadata": {},
   "outputs": [],
   "source": [
    "# D\n",
    "import sys\n",
    "sys.setrecursionlimit(10 ** 6)\n",
    "\n",
    "def dfs(now, pre):\n",
    "    ans.append(now)\n",
    "    for next in edges[now]:\n",
    "        if next != pre:\n",
    "            dfs(next, now)\n",
    "            ans.append(now)\n",
    "\n",
    "n = int(input())\n",
    "edges = [[] for _ in range(n + 1)]\n",
    "for _ in range(n - 1):\n",
    "    a, b = map(int, input().split())\n",
    "    edges[a].append(b)\n",
    "    edges[b].append(a)\n",
    "for i in range(n + 1):\n",
    "    edges[i].sort()\n",
    "ans = []\n",
    "dfs(1, -1)\n",
    "print(*ans)"
   ]
  },
  {
   "cell_type": "code",
   "execution_count": 4,
   "metadata": {},
   "outputs": [
    {
     "name": "stdout",
     "output_type": "stream",
     "text": [
      "[-1, 2, 6, 9, 3]\n"
     ]
    },
    {
     "data": {
      "text/plain": [
       "-1"
      ]
     },
     "execution_count": 4,
     "metadata": {},
     "output_type": "execute_result"
    }
   ],
   "source": [
    "from heapq import heapify, heappop, heappush\n",
    "minHeap = []\n",
    "heappush(minHeap, 3)\n",
    "heappush(minHeap, 2)\n",
    "heappush(minHeap, 6)\n",
    "heappush(minHeap, 9)\n",
    "heappush(minHeap,-1)\n",
    "print(minHeap)\n",
    "heappop(minHeap)"
   ]
  },
  {
   "cell_type": "code",
   "execution_count": null,
   "metadata": {},
   "outputs": [],
   "source": [
    "from collections import defaultdict, deque\n",
    "# 頂点隣接リストをソートしておく\n",
    "edges = defaultdict(list)\n",
    "N = int(input())\n",
    "for _ in range(N - 1):\n",
    "    a, b = map(int, input().split())\n",
    "    edges[a].append(b)\n",
    "    edges[b].append(a)\n",
    "for i in range(1, N + 1):\n",
    "    edges[i].sort()\n",
    "# 訪問順\n",
    "order = []\n",
    "visited = set()\n",
    "\n",
    "def dfs(v, p):\n",
    "    order.append(v)\n",
    "    visited.add(v)\n",
    "    for each in edges[v]:\n",
    "        if each == p or each in visited: continue\n",
    "        dfs(each, v)\n",
    "        order.append(v)\n",
    "dfs(1, -1)\n",
    "\n",
    "print(*order)"
   ]
  },
  {
   "cell_type": "code",
   "execution_count": 3,
   "metadata": {},
   "outputs": [
    {
     "name": "stdout",
     "output_type": "stream",
     "text": [
      "15 16\n",
      "15\n",
      "16\n"
     ]
    }
   ],
   "source": [
    "def judge(mid):\n",
    "    if A[mid] > 15:\n",
    "        return True\n",
    "\n",
    "A = list(range(30))\n",
    "\n",
    "# 条件を満たすなかで最小の数がr,条件を満たさないなかで最大の数がl\n",
    "l = -1\n",
    "r = len(A)\n",
    "while abs(r - l) > 1:\n",
    "    mid = (r + l) // 2\n",
    "    if judge(mid):\n",
    "        r = mid\n",
    "    else:\n",
    "        l = mid\n",
    "print(l, r)\n",
    "print(A[l])\n",
    "print(A[r])"
   ]
  },
  {
   "cell_type": "code",
   "execution_count": null,
   "metadata": {},
   "outputs": [],
   "source": []
  }
 ],
 "metadata": {
  "kernelspec": {
   "display_name": "Python 3.10.4 64-bit",
   "language": "python",
   "name": "python3"
  },
  "language_info": {
   "codemirror_mode": {
    "name": "ipython",
    "version": 3
   },
   "file_extension": ".py",
   "mimetype": "text/x-python",
   "name": "python",
   "nbconvert_exporter": "python",
   "pygments_lexer": "ipython3",
   "version": "3.10.4"
  },
  "orig_nbformat": 4,
  "vscode": {
   "interpreter": {
    "hash": "c036f8f3ad2f0d684820dfc35afda6e333e93b801313b3488a29c3dc9dff951a"
   }
  }
 },
 "nbformat": 4,
 "nbformat_minor": 2
}
