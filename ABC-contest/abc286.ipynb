{
 "cells": [
  {
   "cell_type": "code",
   "execution_count": 1,
   "metadata": {},
   "outputs": [
    {
     "name": "stdout",
     "output_type": "stream",
     "text": [
      "1\n"
     ]
    }
   ],
   "source": [
    "n, p, q, r, s = map(int, input().split())\n",
    "A = list(map(int, input().split()))\n",
    "B = A[:p-1] + A[r-1:s] + A[q:r-1] + A[p-1:q] + A[s:]\n",
    "print(*B)"
   ]
  },
  {
   "cell_type": "code",
   "execution_count": null,
   "metadata": {},
   "outputs": [],
   "source": [
    "n, p, q, r, s = map(int, input().split())\n",
    "A = list(map(int, input().split()))\n",
    "A[p-1:q], A[r-1:s] = A[r-1:s], A[p-1:q]\n",
    "print(*A)"
   ]
  },
  {
   "cell_type": "code",
   "execution_count": 10,
   "metadata": {},
   "outputs": [
    {
     "data": {
      "text/plain": [
       "['', 'an']"
      ]
     },
     "execution_count": 10,
     "metadata": {},
     "output_type": "execute_result"
    }
   ],
   "source": [
    "from collections import deque\n",
    "N = int(input())\n",
    "S = input()\n",
    "que = deque()\n",
    "ans = ''\n",
    "for i in range(N):\n",
    "    if not que:\n",
    "        que.append(S[i])\n",
    "    else:\n",
    "        v = que.pop()\n",
    "        if v + S[i] == 'na':\n",
    "            ans += 'nya'\n",
    "        else:\n",
    "            ans += v\n",
    "            que.append(S[i])\n",
    "if not que:\n",
    "    print(ans)\n",
    "else:\n",
    "    ans += que.pop()\n",
    "    print(ans)"
   ]
  },
  {
   "cell_type": "code",
   "execution_count": 1,
   "metadata": {},
   "outputs": [
    {
     "ename": "SyntaxError",
     "evalue": "incomplete input (2800062466.py, line 5)",
     "output_type": "error",
     "traceback": [
      "\u001b[1;36m  Input \u001b[1;32mIn [1]\u001b[1;36m\u001b[0m\n\u001b[1;33m    \u001b[0m\n\u001b[1;37m    ^\u001b[0m\n\u001b[1;31mSyntaxError\u001b[0m\u001b[1;31m:\u001b[0m incomplete input\n"
     ]
    }
   ],
   "source": [
    "N = int(input())\n",
    "S = input()\n",
    "t = ''\n",
    "for i in range(N):\n",
    "    if len(t) != 0 and t[-1] == 'n' and S[i] == 'a':\n",
    "        t += 'y'\n",
    "    t += S[i]\n",
    "print(t)"
   ]
  },
  {
   "cell_type": "code",
   "execution_count": 13,
   "metadata": {},
   "outputs": [
    {
     "name": "stdout",
     "output_type": "stream",
     "text": [
      "{'abc', 'cab', 'bca'}\n"
     ]
    }
   ],
   "source": [
    "N, A, B = map(int, input().split())\n",
    "S = input()\n",
    "costs = {}\n",
    "strings = {}\n",
    "ans = float('inf')\n",
    "for i in range(N + 1):\n",
    "    costs[i] = i * A\n",
    "    strings[i] = S[i:] + S[:i]\n",
    "for i in range(N + 1):\n",
    "    for j in range(N // 2):\n",
    "        if strings[i][j] != strings[i][N - j - 1]:\n",
    "            costs[i] += B\n",
    "for i in range(N + 1):\n",
    "    ans = min(ans, costs[i])\n",
    "print(ans)"
   ]
  },
  {
   "cell_type": "code",
   "execution_count": null,
   "metadata": {},
   "outputs": [],
   "source": [
    "N, X = map(int, input().split())\n",
    "A = []\n",
    "B = []\n",
    "for _ in range(N):\n",
    "    a, b = map(int, input().split())\n",
    "    A.append(a)\n",
    "    B.append(b)\n",
    "\n",
    "dp = [[False] * (X + 1) for i in range(N + 1)]\n",
    "dp[0][0] = True\n",
    "for i in range(N):\n",
    "    for j in range(X + 1):\n",
    "        if dp[i][j] == False:\n",
    "            continue\n",
    "        for k in range(B[i] + 1):\n",
    "            if j + A[i] * k > X:\n",
    "                continue\n",
    "            dp[i+1][j + A[i] * k] = True\n",
    "print('Yes' if dp[N][X] else 'No')"
   ]
  }
 ],
 "metadata": {
  "kernelspec": {
   "display_name": "Python 3",
   "language": "python",
   "name": "python3"
  },
  "language_info": {
   "codemirror_mode": {
    "name": "ipython",
    "version": 3
   },
   "file_extension": ".py",
   "mimetype": "text/x-python",
   "name": "python",
   "nbconvert_exporter": "python",
   "pygments_lexer": "ipython3",
   "version": "3.10.4"
  },
  "orig_nbformat": 4,
  "vscode": {
   "interpreter": {
    "hash": "c036f8f3ad2f0d684820dfc35afda6e333e93b801313b3488a29c3dc9dff951a"
   }
  }
 },
 "nbformat": 4,
 "nbformat_minor": 2
}
