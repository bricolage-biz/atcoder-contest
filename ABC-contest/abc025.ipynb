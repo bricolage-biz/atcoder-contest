{
 "cells": [
  {
   "cell_type": "code",
   "execution_count": null,
   "metadata": {},
   "outputs": [],
   "source": [
    "# C\n",
    "A = [[\"*\"] * 3 for _ in range(3)]\n",
    "B = []\n",
    "C = []\n",
    "tot = 0\n",
    "for _ in range(2):\n",
    "    b = list(map(int, input().split()))\n",
    "    tot += sum(b)\n",
    "    B.append(b)\n",
    "for _ in range(3):\n",
    "    c = list(map(int, input().split()))\n",
    "    tot += sum(c)\n",
    "    C.append(c)\n",
    "\n",
    "def calc():\n",
    "    score = 0\n",
    "    for i in range(2):\n",
    "        for j in range(3):\n",
    "            if A[i][j] == A[i + 1][j]:\n",
    "                score += B[i][j]\n",
    "    for i in range(3):\n",
    "        for j in range(2):\n",
    "            if A[i][j] == A[i][j + 1]:\n",
    "                score += C[i][j]\n",
    "    return score\n",
    "\n",
    "def dfs(turn):\n",
    "    if turn == 9:\n",
    "        return calc()\n",
    "    \n",
    "    if turn % 2 == 0: #直大の手番\n",
    "        ret = - 1 << 61\n",
    "        for i in range(3):\n",
    "            for j in range(3):\n",
    "                if A[i][j] != \"*\":\n",
    "                    continue\n",
    "                A[i][j] = \"o\"\n",
    "                ret = max(ret, dfs(turn + 1))\n",
    "                A[i][j] = \"*\"\n",
    "\n",
    "    else: #直子の手番\n",
    "        ret = 1 << 61\n",
    "        for i in range(3):\n",
    "            for j in range(3):\n",
    "                if A[i][j] != \"*\":\n",
    "                    continue\n",
    "                A[i][j] = \"x\"\n",
    "                ret = min(ret, dfs(turn + 1))\n",
    "                A[i][j] = \"*\"\n",
    "    return ret\n",
    "\n",
    "ans = dfs(0)\n",
    "print(ans)\n",
    "print(tot - ans)"
   ]
  },
  {
   "cell_type": "code",
   "execution_count": null,
   "metadata": {},
   "outputs": [],
   "source": []
  }
 ],
 "metadata": {
  "kernelspec": {
   "display_name": "Python 3.10.4 64-bit",
   "language": "python",
   "name": "python3"
  },
  "language_info": {
   "codemirror_mode": {
    "name": "ipython",
    "version": 3
   },
   "file_extension": ".py",
   "mimetype": "text/x-python",
   "name": "python",
   "nbconvert_exporter": "python",
   "pygments_lexer": "ipython3",
   "version": "3.10.4"
  },
  "orig_nbformat": 4,
  "vscode": {
   "interpreter": {
    "hash": "c036f8f3ad2f0d684820dfc35afda6e333e93b801313b3488a29c3dc9dff951a"
   }
  }
 },
 "nbformat": 4,
 "nbformat_minor": 2
}
