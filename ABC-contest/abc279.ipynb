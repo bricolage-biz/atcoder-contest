{
 "cells": [
  {
   "cell_type": "code",
   "execution_count": null,
   "metadata": {},
   "outputs": [],
   "source": [
    "s = input()\n",
    "ans = 0\n",
    "for i in range(len(s)):\n",
    "    if s[i] == 'v':\n",
    "        ans += 1\n",
    "    else:\n",
    "        ans += 2\n",
    "print(ans)"
   ]
  },
  {
   "cell_type": "code",
   "execution_count": null,
   "metadata": {},
   "outputs": [],
   "source": [
    "S = input()\n",
    "T = input()\n",
    "\n",
    "if len(T) > len(S):\n",
    "    print('No')\n",
    "    exit()\n",
    "for i in range(len(S) + 1):\n",
    "    for j in range(i + 1, len(S) + 1):\n",
    "        sub = S[i:j]\n",
    "        if sub == T:\n",
    "            print('Yes')\n",
    "            exit()\n",
    "print('No')"
   ]
  },
  {
   "cell_type": "code",
   "execution_count": null,
   "metadata": {},
   "outputs": [],
   "source": [
    "from collections import defaultdict\n",
    "H, W = map(int, input().split())\n",
    "\n",
    "cnt_s = defaultdict(int)\n",
    "cnt_t = defaultdict(int)\n",
    "\n",
    "S, T = [], []\n",
    "for _ in range(H):\n",
    "    S.append(list(input()))\n",
    "for _ in range(H):\n",
    "    T.append(list(input()))\n",
    "\n",
    "S_t, T_t = [], []\n",
    "for j in range(W):\n",
    "    tmp = []\n",
    "    for i in range(H):\n",
    "        tmp.append(S[i][j])\n",
    "    S_t.append(tmp)\n",
    "for j in range(W):\n",
    "    tmp = []\n",
    "    for i in range(H):\n",
    "        tmp.append(T[i][j])\n",
    "    T_t.append(tmp)\n",
    "\n",
    "for j in range(W):\n",
    "    ch = ''.join(S_t[j])\n",
    "    cnt_s[ch] += 1\n",
    "for j in range(W):\n",
    "    ch = ''.join(T_t[j])\n",
    "    cnt_t[ch] += 1\n",
    "\n",
    "print('Yes' if cnt_s == cnt_t else 'No')"
   ]
  },
  {
   "cell_type": "code",
   "execution_count": null,
   "metadata": {},
   "outputs": [],
   "source": [
    "from collections import Counter\n",
    "H, W = map(int, input().split())\n",
    "S = [list(input()) for _ in range(H)]\n",
    "T = [list(input()) for _ in range(H)]\n",
    "S_t = list(map(tuple, zip(*S)))\n",
    "T_t = list(map(tuple, zip(*T)))\n",
    "cntS = Counter(S_t)\n",
    "cntT = Counter(T_t)\n",
    "print('Yes' if cntS == cntT else 'No')"
   ]
  },
  {
   "cell_type": "code",
   "execution_count": 9,
   "metadata": {},
   "outputs": [
    {
     "data": {
      "text/plain": [
       "[(1, 4), (2, 5), (3, 6)]"
      ]
     },
     "execution_count": 9,
     "metadata": {},
     "output_type": "execute_result"
    }
   ],
   "source": [
    "list(map(tuple, zip([1,2,3],[4,5,6])))"
   ]
  },
  {
   "cell_type": "code",
   "execution_count": 2,
   "metadata": {},
   "outputs": [
    {
     "data": {
      "text/plain": [
       "['d', 'f', 's', 'g']"
      ]
     },
     "execution_count": 2,
     "metadata": {},
     "output_type": "execute_result"
    }
   ],
   "source": [
    "list(input())"
   ]
  },
  {
   "cell_type": "code",
   "execution_count": 5,
   "metadata": {},
   "outputs": [
    {
     "data": {
      "text/plain": [
       "'1a'"
      ]
     },
     "execution_count": 5,
     "metadata": {},
     "output_type": "execute_result"
    }
   ],
   "source": [
    "from math import sqrt\n",
    "A, B = map(int, input().split())\n",
    "\n",
    "def solve(x):\n",
    "    top = A\n",
    "    bottom = (sqrt(x)) * (sqrt(x) + 1) * B\n",
    "    if top / bottom > 1:\n",
    "        return True\n",
    "    else:\n",
    "        False\n",
    "\n",
    "ok = 1\n",
    "ng = 10 ** 10\n",
    "while abs(ng - ok) > 1:\n",
    "    mid = (ok + ng) // 2\n",
    "    if solve(mid):\n",
    "        ok = mid\n",
    "    else:\n",
    "        ng = mid\n",
    "print(ok)\n",
    "ans = (A / sqrt(ok)) + (ok - 1) * B\n",
    "print(ans)"
   ]
  },
  {
   "cell_type": "code",
   "execution_count": 14,
   "metadata": {},
   "outputs": [
    {
     "data": {
      "text/plain": [
       "0.9234951562953231"
      ]
     },
     "execution_count": 14,
     "metadata": {},
     "output_type": "execute_result"
    }
   ],
   "source": [
    "A, B = map(int, input().split())\n",
    "\n",
    "def solve(x):\n",
    "    tmp = - (1/2) * (A / (x**(-2/3))) + B\n",
    "    if tmp > 0:\n",
    "        return True\n",
    "    else:\n",
    "        False\n",
    "\n",
    "ok = 1\n",
    "ng = 10 ** 10\n",
    "while abs(ng - ok) > 1:\n",
    "    mid = (ok + ng) // 2\n",
    "    if solve(mid):\n",
    "        ok = mid\n",
    "    else:\n",
    "        ng = mid\n",
    "\n",
    "ans = (A / (ok ** (1/2)) ) + (ok - 1) * B\n",
    "print(ans)"
   ]
  },
  {
   "cell_type": "code",
   "execution_count": 29,
   "metadata": {},
   "outputs": [
    {
     "data": {
      "text/plain": [
       "[[1, 4, 7], [2, 5, 8], [3, 6, 9]]"
      ]
     },
     "execution_count": 29,
     "metadata": {},
     "output_type": "execute_result"
    }
   ],
   "source": [
    "A = [[1,2,3],[4,5,6],[7,8,9]]\n",
    "list(map(list, zip(*A)))"
   ]
  },
  {
   "cell_type": "code",
   "execution_count": null,
   "metadata": {},
   "outputs": [],
   "source": [
    "from math import floor, ceil\n",
    "A, B = map(int, input().split())\n",
    "minX = (A / (2 * B)) ** (2 / 3) - 1\n",
    "\n",
    "def ans(x):\n",
    "    return A / (x + 1) ** (1 / 2) + B * x\n",
    "\n",
    "x_1 = floor(minX) if floor(minX) >= 0 else 0\n",
    "x_2 = ceil(minX) if floor(minX) >= 0 else 0\n",
    "\n",
    "print(min(ans(x_1), ans(x_2)))"
   ]
  },
  {
   "cell_type": "code",
   "execution_count": 2,
   "metadata": {},
   "outputs": [
    {
     "data": {
      "text/plain": [
       "2.5"
      ]
     },
     "execution_count": 2,
     "metadata": {},
     "output_type": "execute_result"
    }
   ],
   "source": []
  },
  {
   "cell_type": "code",
   "execution_count": null,
   "metadata": {},
   "outputs": [],
   "source": []
  }
 ],
 "metadata": {
  "kernelspec": {
   "display_name": "Python 3.10.4 64-bit",
   "language": "python",
   "name": "python3"
  },
  "language_info": {
   "codemirror_mode": {
    "name": "ipython",
    "version": 3
   },
   "file_extension": ".py",
   "mimetype": "text/x-python",
   "name": "python",
   "nbconvert_exporter": "python",
   "pygments_lexer": "ipython3",
   "version": "3.10.4"
  },
  "orig_nbformat": 4,
  "vscode": {
   "interpreter": {
    "hash": "c036f8f3ad2f0d684820dfc35afda6e333e93b801313b3488a29c3dc9dff951a"
   }
  }
 },
 "nbformat": 4,
 "nbformat_minor": 2
}
