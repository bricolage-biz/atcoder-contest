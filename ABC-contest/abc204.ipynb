{
 "cells": [
  {
   "cell_type": "code",
   "execution_count": null,
   "metadata": {},
   "outputs": [],
   "source": [
    "N = int(input())\n",
    "T = list(map(int, input().split()))\n",
    "\n",
    "S = sum(T)\n",
    "# dp[i][j] 先頭からi個使ってオーブンの使用時間をjにできるか？\n",
    "dp = [[False] * (S + 1) for _ in range(N + 1)]\n",
    "dp[0][0] = True\n",
    "for i in range(1, N + 1):\n",
    "    dp[i][0] = True\n",
    "\n",
    "for i in range(1, N):\n",
    "    for j in range(S + 1):\n",
    "        if dp[i][j] == False:\n",
    "            continue\n",
    "        dp[i + 1][j] = True\n",
    "        dp[i + 1][j + T[i - 1]] = True\n",
    "\n",
    "inf = 1 << 61\n",
    "ans = inf\n",
    "for j in range(S + 1):\n",
    "    if dp[N][j]:\n",
    "        score = max(j, S - j)\n",
    "        ans = min(ans, score)\n",
    "print(ans)"
   ]
  },
  {
   "cell_type": "code",
   "execution_count": null,
   "metadata": {},
   "outputs": [],
   "source": []
  }
 ],
 "metadata": {
  "kernelspec": {
   "display_name": "Python 3.10.4 64-bit",
   "language": "python",
   "name": "python3"
  },
  "language_info": {
   "codemirror_mode": {
    "name": "ipython",
    "version": 3
   },
   "file_extension": ".py",
   "mimetype": "text/x-python",
   "name": "python",
   "nbconvert_exporter": "python",
   "pygments_lexer": "ipython3",
   "version": "3.10.4"
  },
  "orig_nbformat": 4,
  "vscode": {
   "interpreter": {
    "hash": "c036f8f3ad2f0d684820dfc35afda6e333e93b801313b3488a29c3dc9dff951a"
   }
  }
 },
 "nbformat": 4,
 "nbformat_minor": 2
}
