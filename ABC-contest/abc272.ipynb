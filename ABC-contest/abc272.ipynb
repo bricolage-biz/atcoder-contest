{
 "cells": [
  {
   "cell_type": "code",
   "execution_count": 1,
   "metadata": {},
   "outputs": [
    {
     "name": "stdout",
     "output_type": "stream",
     "text": [
      "11\n"
     ]
    }
   ],
   "source": [
    "N = int(input())\n",
    "A = list(map(int, input().split()))\n",
    "print(sum(A))"
   ]
  },
  {
   "cell_type": "code",
   "execution_count": null,
   "metadata": {},
   "outputs": [],
   "source": [
    "from collections import defaultdict\n",
    "N, M = map(int, input().split())\n",
    "P = defaultdict(set)\n",
    "\n",
    "for _ in range(M):\n",
    "    k, *X = map(int, input().split())\n",
    "    for i in range(k):\n",
    "        for j in range(i + 1, k):\n",
    "            P[X[i]].add(X[j])\n",
    "            P[X[j]].add(X[i])\n",
    "for i in range(1, N + 1):\n",
    "    if len(P[i]) != N - 1:\n",
    "        print('No')\n",
    "        exit()\n",
    "print('Yes')"
   ]
  },
  {
   "cell_type": "code",
   "execution_count": 4,
   "metadata": {},
   "outputs": [
    {
     "name": "stdout",
     "output_type": "stream",
     "text": [
      "-1\n"
     ]
    }
   ],
   "source": [
    "N = int(input())\n",
    "A = list(map(int, input().split()))\n",
    "\n",
    "odd = set()\n",
    "even = set()\n",
    "for a in A:\n",
    "    if a % 2 == 0:\n",
    "        even.add(a)\n",
    "    else:\n",
    "        odd.add(a)\n",
    "\n",
    "if len(odd) < 2 and len(even) < 2:\n",
    "    print(-1)\n",
    "    exit()\n",
    "\n",
    "OS = sorted(odd, reverse=True)\n",
    "ES = sorted(even, reverse=True)\n",
    "if len(odd) < 2:\n",
    "    OM = -10**5\n",
    "    EM = ES[0] + ES[1]\n",
    "elif len(even) < 2:\n",
    "    EM = -10**5\n",
    "    OM = OS[0] + OS[1]\n",
    "else:\n",
    "    OM = OS[0] + OS[1]\n",
    "    EM = ES[0] + ES[1]\n",
    "  \n",
    "print(max(OM, EM))"
   ]
  },
  {
   "cell_type": "code",
   "execution_count": null,
   "metadata": {},
   "outputs": [],
   "source": [
    "from collections import deque\n",
    "N, M = map(int, input().split())\n",
    "dist = [[-1] * N for _ in range(N)]\n",
    "dist[0][0] = 0\n",
    "dir = set()\n",
    "for i in range(10 ** 3 + 1):\n",
    "    for j in range(i, 10 ** 3 + 1):\n",
    "        if i**2 + j**2 == M:\n",
    "            dir.add((i, j))\n",
    "        if i**2 + j**2 > M:\n",
    "            break\n",
    "directions = set()\n",
    "for dir_x, dir_y in dir:\n",
    "    directions.add((dir_x, dir_y))\n",
    "    directions.add((-dir_y, dir_x))\n",
    "    directions.add((-dir_x, -dir_y))\n",
    "    directions.add((dir_y, -dir_x))\n",
    "\n",
    "    directions.add((dir_y, dir_x))\n",
    "    directions.add((-dir_x, dir_y))\n",
    "    directions.add((-dir_y, -dir_x))\n",
    "    directions.add((dir_x, -dir_y))\n",
    "\n",
    "def bfs(s):\n",
    "    que = deque()\n",
    "    visited = set()\n",
    "    que.append(s)\n",
    "    visited.add(s)\n",
    "    while que:\n",
    "        r, c = que.popleft()\n",
    "        for dx, dy in directions:\n",
    "            adj_x, adj_y = r + dx, c + dy\n",
    "            if (adj_x in range(N)\n",
    "            and adj_y in range(N)\n",
    "            and (adj_x, adj_y) not in visited):\n",
    "                dist[adj_x][adj_y] = dist[r][c] + 1\n",
    "                visited.add((adj_x, adj_y))\n",
    "                que.append((adj_x, adj_y))\n",
    "\n",
    "bfs((0, 0))\n",
    "for ans in dist:\n",
    "    print(*ans)"
   ]
  },
  {
   "cell_type": "code",
   "execution_count": 12,
   "metadata": {},
   "outputs": [
    {
     "name": "stdout",
     "output_type": "stream",
     "text": [
      "0\n",
      "0\n",
      "0\n"
     ]
    }
   ],
   "source": [
    "# E\n",
    "N, M = map(int, input().split())\n",
    "A = list(map(int, input().split()))\n",
    "\n",
    "se = [set() for _ in range(M)]\n",
    "for i, a in enumerate(A, 1):\n",
    "    mi = max(1, (-a + i - 1) // i)\n",
    "    a += mi * i\n",
    "    for j in range(mi, M + 1):\n",
    "        if a < M:\n",
    "            se[j - 1].add(a)\n",
    "        else:\n",
    "            break\n",
    "        a += i\n",
    "\n",
    "for i in range(M):\n",
    "    for mex in range(0, M + 1):\n",
    "        if mex not in se[i]:\n",
    "            print(mex)\n",
    "            break"
   ]
  },
  {
   "cell_type": "code",
   "execution_count": 6,
   "metadata": {},
   "outputs": [
    {
     "data": {
      "text/plain": [
       "[1, 0]"
      ]
     },
     "execution_count": 6,
     "metadata": {},
     "output_type": "execute_result"
    }
   ],
   "source": [
    "se = [0] * 2\n",
    "\n",
    "se[0] = 1\n",
    "se"
   ]
  },
  {
   "cell_type": "code",
   "execution_count": null,
   "metadata": {},
   "outputs": [],
   "source": []
  }
 ],
 "metadata": {
  "kernelspec": {
   "display_name": "Python 3.10.4 64-bit",
   "language": "python",
   "name": "python3"
  },
  "language_info": {
   "codemirror_mode": {
    "name": "ipython",
    "version": 3
   },
   "file_extension": ".py",
   "mimetype": "text/x-python",
   "name": "python",
   "nbconvert_exporter": "python",
   "pygments_lexer": "ipython3",
   "version": "3.10.4"
  },
  "orig_nbformat": 4,
  "vscode": {
   "interpreter": {
    "hash": "c036f8f3ad2f0d684820dfc35afda6e333e93b801313b3488a29c3dc9dff951a"
   }
  }
 },
 "nbformat": 4,
 "nbformat_minor": 2
}
