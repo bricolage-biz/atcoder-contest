{
 "cells": [
  {
   "cell_type": "code",
   "execution_count": 5,
   "metadata": {},
   "outputs": [
    {
     "data": {
      "text/plain": [
       "'Yes'"
      ]
     },
     "execution_count": 5,
     "metadata": {},
     "output_type": "execute_result"
    }
   ],
   "source": [
    "def solve():\n",
    "    cards = input().split()\n",
    "    if len(set(cards)) != 2:\n",
    "        return 'No'\n",
    "    for c in set(cards):\n",
    "        if cards.count(c) == 2 or cards.count(c) == 3:\n",
    "            continue\n",
    "        else:\n",
    "            return 'No'\n",
    "    else:\n",
    "        return 'Yes'\n",
    "\n",
    "print(solve())"
   ]
  },
  {
   "cell_type": "code",
   "execution_count": 9,
   "metadata": {},
   "outputs": [
    {
     "name": "stdout",
     "output_type": "stream",
     "text": [
      "10\n"
     ]
    }
   ],
   "source": [
    "n = int(input())\n",
    "P = list(map(int, input().split()))\n",
    "target = n - 2\n",
    "ans = 0\n",
    "while True:\n",
    "    target = P[target]\n",
    "    ans += 1\n",
    "    if target == 1:\n",
    "        break\n",
    "    target -= 2\n",
    "print(ans)"
   ]
  },
  {
   "cell_type": "code",
   "execution_count": 14,
   "metadata": {},
   "outputs": [
    {
     "name": "stdout",
     "output_type": "stream",
     "text": [
      "1 2\n",
      "1 3\n",
      "2 3\n"
     ]
    }
   ],
   "source": [
    "from itertools import combinations\n",
    "n, m = map(int, input().split())\n",
    "for ls in list(combinations(range(1, m + 1), n)):\n",
    "    print(*ls)"
   ]
  },
  {
   "cell_type": "code",
   "execution_count": 23,
   "metadata": {},
   "outputs": [
    {
     "name": "stdout",
     "output_type": "stream",
     "text": [
      "1 2 3\n",
      "1 2 4\n",
      "1 2 5\n",
      "1 3 4\n",
      "1 3 5\n",
      "1 4 5\n",
      "2 3 4\n",
      "2 3 5\n",
      "2 4 5\n",
      "3 4 5\n"
     ]
    }
   ],
   "source": [
    "# 再帰DFS\n",
    "import sys\n",
    "sys.setrecursionlimit(10 ** 5)\n",
    "n, m = map(int, input().split())\n",
    "ans = []\n",
    "\n",
    "def dfs(seq):\n",
    "    if len(seq) == n:\n",
    "        ans.append(seq)\n",
    "    else:\n",
    "        for c in range(int(seq[-1]) + 1, m + 1):\n",
    "            seq_next = seq + str(c)\n",
    "            dfs(seq_next)\n",
    "for num in range(1, m + 1):\n",
    "    dfs(str(num))\n",
    "ans.sort()\n",
    "for ch in ans:\n",
    "    print(*list(ch))"
   ]
  },
  {
   "cell_type": "code",
   "execution_count": null,
   "metadata": {},
   "outputs": [],
   "source": []
  }
 ],
 "metadata": {
  "kernelspec": {
   "display_name": "Python 3.10.4 64-bit",
   "language": "python",
   "name": "python3"
  },
  "language_info": {
   "codemirror_mode": {
    "name": "ipython",
    "version": 3
   },
   "file_extension": ".py",
   "mimetype": "text/x-python",
   "name": "python",
   "nbconvert_exporter": "python",
   "pygments_lexer": "ipython3",
   "version": "3.10.4"
  },
  "orig_nbformat": 4,
  "vscode": {
   "interpreter": {
    "hash": "c036f8f3ad2f0d684820dfc35afda6e333e93b801313b3488a29c3dc9dff951a"
   }
  }
 },
 "nbformat": 4,
 "nbformat_minor": 2
}
