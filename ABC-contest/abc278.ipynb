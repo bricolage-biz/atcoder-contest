{
 "cells": [
  {
   "cell_type": "code",
   "execution_count": null,
   "metadata": {},
   "outputs": [],
   "source": [
    "N, K = map(int, input().split())\n",
    "A = list(map(int, input().split()))\n",
    "ans = A[K:] + [0] * min(N, K)\n",
    "print(*ans)"
   ]
  },
  {
   "cell_type": "code",
   "execution_count": 6,
   "metadata": {},
   "outputs": [
    {
     "data": {
      "text/plain": [
       "2"
      ]
     },
     "execution_count": 6,
     "metadata": {},
     "output_type": "execute_result"
    }
   ],
   "source": [
    "H, M = map(int, input().split())\n",
    "m = 60 * H + M\n",
    "for i in range(24 * 60):\n",
    "    now = m + i\n",
    "    if now >= 60 * 24:\n",
    "        print(0, 0)\n",
    "        exit()\n",
    "    now_h = now // 60\n",
    "    now_m = now % 60\n",
    "    now_h = str(now_h).zfill(2)\n",
    "    now_m = str(now_m).zfill(2)\n",
    "    a, b, c, d = now_h[0], now_h[1], now_m[0], now_m[1]\n",
    "    new_h = int(a + c)\n",
    "    new_m = int(b + d)\n",
    "    if 0 <= new_h <= 23 and 0 <= new_m <= 59:\n",
    "        print(now_h, now_m)\n",
    "        exit()"
   ]
  },
  {
   "cell_type": "code",
   "execution_count": 12,
   "metadata": {},
   "outputs": [
    {
     "data": {
      "text/plain": [
       "'13'"
      ]
     },
     "execution_count": 12,
     "metadata": {},
     "output_type": "execute_result"
    }
   ],
   "source": [
    "N, Q = map(int, input().split())\n",
    "rel = set()\n",
    "\n",
    "def check(x, y):\n",
    "    if (x, y) in rel and (y, x) in rel:\n",
    "        return True\n",
    "    return False\n",
    "\n",
    "for _ in range(Q):\n",
    "    t, a, b = map(int, input().split())\n",
    "    if t == 1:\n",
    "        rel.add((a, b))\n",
    "    elif t == 2:\n",
    "        rel.discard((a, b))\n",
    "    else:\n",
    "        print('Yes' if check(a, b) else 'No')\n"
   ]
  },
  {
   "cell_type": "code",
   "execution_count": 13,
   "metadata": {},
   "outputs": [
    {
     "ename": "ValueError",
     "evalue": "invalid literal for int() with base 10: 'e'",
     "output_type": "error",
     "traceback": [
      "\u001b[1;31m---------------------------------------------------------------------------\u001b[0m",
      "\u001b[1;31mValueError\u001b[0m                                Traceback (most recent call last)",
      "\u001b[1;32mセル4 を c:\\Users\\yamaguchi_sueko\\Documents\\atcoder\\abc278.ipynb\u001b[0m in \u001b[0;36m<cell line: 1>\u001b[1;34m()\u001b[0m\n\u001b[1;32m----> <a href='vscode-notebook-cell:/c%3A/Users/yamaguchi_sueko/Documents/atcoder/abc278.ipynb#W4sZmlsZQ%3D%3D?line=0'>1</a>\u001b[0m N \u001b[39m=\u001b[39m \u001b[39mint\u001b[39;49m(\u001b[39minput\u001b[39;49m())\n\u001b[0;32m      <a href='vscode-notebook-cell:/c%3A/Users/yamaguchi_sueko/Documents/atcoder/abc278.ipynb#W4sZmlsZQ%3D%3D?line=1'>2</a>\u001b[0m A \u001b[39m=\u001b[39m \u001b[39mlist\u001b[39m(\u001b[39mmap\u001b[39m(\u001b[39mint\u001b[39m, \u001b[39minput\u001b[39m()\u001b[39m.\u001b[39msplit()))\n\u001b[0;32m      <a href='vscode-notebook-cell:/c%3A/Users/yamaguchi_sueko/Documents/atcoder/abc278.ipynb#W4sZmlsZQ%3D%3D?line=2'>3</a>\u001b[0m Q \u001b[39m=\u001b[39m \u001b[39mint\u001b[39m(\u001b[39minput\u001b[39m())\n",
      "\u001b[1;31mValueError\u001b[0m: invalid literal for int() with base 10: 'e'"
     ]
    }
   ],
   "source": [
    "N = int(input())\n",
    "A = list(map(int, input().split()))\n",
    "Q = int(input())\n",
    "update = {}\n",
    "flag = False\n",
    "\n",
    "for _ in range(Q):\n",
    "    query = list(map(int, input().split()))\n",
    "    ind = query[0]\n",
    "    if ind == 1:\n",
    "        base = query[1]\n",
    "        flag = True\n",
    "        update = {}\n",
    "    elif ind == 2:\n",
    "        i, x = query[1], query[2]\n",
    "        if flag:\n",
    "            if i not in update:\n",
    "                update[i] = base + x\n",
    "            else:\n",
    "                update[i] += x\n",
    "        else:\n",
    "            A[i - 1] += x\n",
    "    else:\n",
    "        if flag:\n",
    "            if query[1] not in update:\n",
    "                print(base)\n",
    "            else:\n",
    "                print(update[query[1]])\n",
    "        else:\n",
    "            print(A[query[1] - 1])"
   ]
  },
  {
   "cell_type": "code",
   "execution_count": null,
   "metadata": {},
   "outputs": [],
   "source": [
    "n = int(input())\n",
    "A = list(map(int, input().split()))\n",
    "add = {}\n",
    "for i, a in enumerate(A, 1):\n",
    "    add[i] = a\n",
    "Q = int(input())\n",
    "qq = 0\n",
    "tot = 0\n",
    "for _ in range(Q):\n",
    "    query = list(map(int, input().split()))\n",
    "    if query[0] == 1:\n",
    "        add = {}\n",
    "        qq = query[1]\n",
    "    elif query[0] == 2:\n",
    "        i, x = query[1:]\n",
    "        add[i] = add.get(i, 0) + x\n",
    "    else:\n",
    "        print(qq + add.get(query[1], 0))"
   ]
  }
 ],
 "metadata": {
  "kernelspec": {
   "display_name": "Python 3.10.4 64-bit",
   "language": "python",
   "name": "python3"
  },
  "language_info": {
   "codemirror_mode": {
    "name": "ipython",
    "version": 3
   },
   "file_extension": ".py",
   "mimetype": "text/x-python",
   "name": "python",
   "nbconvert_exporter": "python",
   "pygments_lexer": "ipython3",
   "version": "3.10.4"
  },
  "orig_nbformat": 4,
  "vscode": {
   "interpreter": {
    "hash": "c036f8f3ad2f0d684820dfc35afda6e333e93b801313b3488a29c3dc9dff951a"
   }
  }
 },
 "nbformat": 4,
 "nbformat_minor": 2
}
