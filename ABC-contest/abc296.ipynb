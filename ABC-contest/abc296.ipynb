{
 "cells": [
  {
   "cell_type": "code",
   "execution_count": 1,
   "metadata": {},
   "outputs": [
    {
     "ename": "ValueError",
     "evalue": "invalid literal for int() with base 10: ''",
     "output_type": "error",
     "traceback": [
      "\u001b[1;31m---------------------------------------------------------------------------\u001b[0m",
      "\u001b[1;31mValueError\u001b[0m                                Traceback (most recent call last)",
      "\u001b[1;32mc:\\Users\\yamaguchi_sueko\\Documents\\atcoder\\abc296.ipynb セル 1\u001b[0m in \u001b[0;36m<cell line: 1>\u001b[1;34m()\u001b[0m\n\u001b[1;32m----> <a href='vscode-notebook-cell:/c%3A/Users/yamaguchi_sueko/Documents/atcoder/abc296.ipynb#W0sZmlsZQ%3D%3D?line=0'>1</a>\u001b[0m N \u001b[39m=\u001b[39m \u001b[39mint\u001b[39;49m(\u001b[39minput\u001b[39;49m())\n\u001b[0;32m      <a href='vscode-notebook-cell:/c%3A/Users/yamaguchi_sueko/Documents/atcoder/abc296.ipynb#W0sZmlsZQ%3D%3D?line=1'>2</a>\u001b[0m S \u001b[39m=\u001b[39m \u001b[39minput\u001b[39m()\n\u001b[0;32m      <a href='vscode-notebook-cell:/c%3A/Users/yamaguchi_sueko/Documents/atcoder/abc296.ipynb#W0sZmlsZQ%3D%3D?line=2'>3</a>\u001b[0m \u001b[39mfor\u001b[39;00m i \u001b[39min\u001b[39;00m \u001b[39mrange\u001b[39m(N):\n",
      "\u001b[1;31mValueError\u001b[0m: invalid literal for int() with base 10: ''"
     ]
    }
   ],
   "source": [
    "N = int(input())\n",
    "S = input()\n",
    "for i in range(N):\n",
    "    if i == 0:\n",
    "        if S[i] == 'M':\n",
    "            judge = 0\n",
    "        else:\n",
    "            judge = 1\n",
    "    if i != 0:\n",
    "        if judge == 0:\n",
    "            if S[i] == 'F':\n",
    "                judge = 1\n",
    "                continue\n",
    "            else:\n",
    "                print('No')\n",
    "                exit()\n",
    "        else:\n",
    "            if S[i] == 'M':\n",
    "                judge = 0\n",
    "                continue\n",
    "            else:\n",
    "                print('No')\n",
    "                exit()\n",
    "print('Yes')"
   ]
  },
  {
   "cell_type": "code",
   "execution_count": null,
   "metadata": {},
   "outputs": [],
   "source": [
    "grid = [list(input()) for _ in range(8)]\n",
    "for i in range(8):\n",
    "    for j in range(8):\n",
    "        if grid[i][j] == '*':\n",
    "            x = str(8 - i)\n",
    "            y = chr(j + 97)\n",
    "            print(y + x)\n",
    "            exit()"
   ]
  },
  {
   "cell_type": "code",
   "execution_count": null,
   "metadata": {},
   "outputs": [],
   "source": [
    "from collections import defaultdict\n",
    "N, X = map(int, input().split())\n",
    "A = list(map(int, input().split()))\n",
    "B = []\n",
    "for i, a in enumerate(A):\n",
    "    B.append([a, i])\n",
    "B.sort()\n",
    "Bls = defaultdict(list)\n",
    "for i in range(N):\n",
    "    Bls[B[i][0]].append(B[i][1])\n",
    "\n",
    "ans = set()\n",
    "for i in range(N - 1):\n",
    "    now = B[i][0]\n",
    "    l = i\n",
    "    r = N - 1\n",
    "    while r - l >= 0:\n",
    "        # print(now, l, r)\n",
    "        mid = (l + r) // 2\n",
    "        if B[mid][0] - now == X or B[l][0] - now == X or B[r][0] - now == X:\n",
    "            if B[mid][0] - now == X:\n",
    "                ans.add((now, B[mid][0]))\n",
    "            if B[l][0] - now == X:\n",
    "                ans.add((now, B[l][0]))\n",
    "            if B[r][0] - now == X:\n",
    "                ans.add((now, B[r][0]))\n",
    "            break\n",
    "        elif B[mid][0] - now < X:\n",
    "            l = mid + 1\n",
    "        else:\n",
    "            r = mid - 1\n",
    "\n",
    "for a in ans:\n",
    "    pre = Bls[a[0]]\n",
    "    suf = Bls[a[1]]\n",
    "    for p in pre:\n",
    "        for s in suf:\n",
    "            if p <= s:\n",
    "                print('Yes')\n",
    "                exit()\n",
    "print('No')"
   ]
  },
  {
   "cell_type": "code",
   "execution_count": null,
   "metadata": {},
   "outputs": [],
   "source": [
    "N, X = map(int, input().split())\n",
    "A = list(map(int, input().split()))\n",
    "B = sorted(A)\n",
    "if X == 0:\n",
    "    print('Yes')\n",
    "    exit()\n",
    "\n",
    "for i in range(N - 1):\n",
    "    now = B[i]\n",
    "    l = i\n",
    "    r = N - 1\n",
    "    while r - l >= 0:\n",
    "        # print(now, l, r)\n",
    "        mid = (l + r) // 2\n",
    "        if B[mid] - now == X or B[l] - now == X or B[r] - now == X:\n",
    "            print('Yes')\n",
    "            exit()\n",
    "        elif B[mid] - now < X:\n",
    "            l = mid + 1\n",
    "        else:\n",
    "            r = mid - 1\n",
    "\n",
    "print('No')"
   ]
  },
  {
   "cell_type": "code",
   "execution_count": null,
   "metadata": {},
   "outputs": [],
   "source": [
    "N, M = map(int, input().split())\n",
    "ans = N ** 2\n",
    "if ans < M:\n",
    "    print(-1)\n",
    "    exit()\n",
    "\n",
    "for a in range(1, N + 1):\n",
    "    if a ** 2 - a >= M:\n",
    "        break\n",
    "    b = (M + a - 1) // a\n",
    "    if b > N:\n",
    "        continue\n",
    "    ans = min(ans, a * b)\n",
    "print(ans)"
   ]
  },
  {
   "cell_type": "code",
   "execution_count": null,
   "metadata": {},
   "outputs": [],
   "source": []
  },
  {
   "cell_type": "code",
   "execution_count": null,
   "metadata": {},
   "outputs": [],
   "source": []
  },
  {
   "cell_type": "code",
   "execution_count": null,
   "metadata": {},
   "outputs": [],
   "source": [
    "N, X = map(int, input().split())\n",
    "A = list(map(int, input().split()))\n",
    "se = set(A)\n",
    "\n",
    "for a in A:\n",
    "    if (a - X) in se:\n",
    "        print('Yes')\n",
    "        exit()\n",
    "print('No')"
   ]
  },
  {
   "cell_type": "code",
   "execution_count": 3,
   "metadata": {},
   "outputs": [
    {
     "name": "stdout",
     "output_type": "stream",
     "text": [
      "start\n",
      "Hello\n",
      "end\n"
     ]
    }
   ],
   "source": [
    "def start_end(func):\n",
    "    def add_start_end():\n",
    "        print('start')\n",
    "        func()\n",
    "        print('end')\n",
    "    return add_start_end\n",
    "\n",
    "@start_end\n",
    "def hello():\n",
    "    print('Hello')\n",
    "\n",
    "hello()"
   ]
  },
  {
   "cell_type": "code",
   "execution_count": null,
   "metadata": {},
   "outputs": [],
   "source": [
    "N, X = map(int, input().split())\n",
    "A = list(map(int, input().split()))\n",
    "\n",
    "se = set()\n",
    "for i in range(N):\n",
    "    se.add(A[i] + X)\n",
    "for i in range(N):\n",
    "    if A[i] in se:\n",
    "        print('Yes')\n",
    "        exit()\n",
    "print('No')"
   ]
  }
 ],
 "metadata": {
  "kernelspec": {
   "display_name": "Python 3",
   "language": "python",
   "name": "python3"
  },
  "language_info": {
   "codemirror_mode": {
    "name": "ipython",
    "version": 3
   },
   "file_extension": ".py",
   "mimetype": "text/x-python",
   "name": "python",
   "nbconvert_exporter": "python",
   "pygments_lexer": "ipython3",
   "version": "3.10.4"
  },
  "orig_nbformat": 4
 },
 "nbformat": 4,
 "nbformat_minor": 2
}
