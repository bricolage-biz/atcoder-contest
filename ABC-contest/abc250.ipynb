{
 "cells": [
  {
   "cell_type": "code",
   "execution_count": null,
   "metadata": {},
   "outputs": [],
   "source": [
    "def eratosthenes(N):\n",
    "    \"\"\"\n",
    "    N以下の素数を全列挙\n",
    "    \"\"\"\n",
    "    is_prime = [True] * (N + 1)\n",
    "    is_prime[0] = False\n",
    "    is_prime[1] = False\n",
    "\n",
    "    i = 2\n",
    "    while i * i <= N:\n",
    "        if is_prime[i]:\n",
    "            for j in range(2 * i, N + 1, i):\n",
    "                is_prime[j] = False\n",
    "        i += 1\n",
    "    # ret = []\n",
    "    # for x, flag in enumerate(is_prime):\n",
    "    #     if flag:\n",
    "    #         ret.append(x)\n",
    "    # return ret\n",
    "\n",
    "    return [i for i in range(N + 1) if is_prime[i]]\n",
    "\n",
    "\n",
    "N = int(input())\n",
    "ans = 0\n",
    "primes = eratosthenes(10 ** 6 + 5)\n",
    "M = len(primes)\n",
    "\n",
    "for i in range(M):\n",
    "    t = primes[i] ** 3 # 重い t = q ** 3を先に計算\n",
    "    for j in range(i): # primes[i]未満の素数を小さい順に全探索\n",
    "        if primes[j] * t > N:\n",
    "            break\n",
    "        ans += 1\n",
    "print(ans)"
   ]
  }
 ],
 "metadata": {
  "kernelspec": {
   "display_name": "Python 3.10.4 64-bit",
   "language": "python",
   "name": "python3"
  },
  "language_info": {
   "name": "python",
   "version": "3.10.4"
  },
  "orig_nbformat": 4,
  "vscode": {
   "interpreter": {
    "hash": "c036f8f3ad2f0d684820dfc35afda6e333e93b801313b3488a29c3dc9dff951a"
   }
  }
 },
 "nbformat": 4,
 "nbformat_minor": 2
}
