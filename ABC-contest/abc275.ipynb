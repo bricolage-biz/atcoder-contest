{
 "cells": [
  {
   "cell_type": "code",
   "execution_count": 1,
   "metadata": {},
   "outputs": [
    {
     "name": "stdout",
     "output_type": "stream",
     "text": [
      "1\n"
     ]
    }
   ],
   "source": [
    "N = int(input())\n",
    "H = list(map(int, input().split()))\n",
    "\n",
    "Hs = []\n",
    "for i, h in enumerate(H, 1):\n",
    "    Hs.append([h, i])\n",
    "Hs.sort(reverse=True)\n",
    "print(Hs[0][1])"
   ]
  },
  {
   "cell_type": "code",
   "execution_count": null,
   "metadata": {},
   "outputs": [],
   "source": [
    "# A別解\n",
    "n = int(input())\n",
    "H = list(map(int, input().split()))\n",
    "print(H.index(max(H)) + 1)"
   ]
  },
  {
   "cell_type": "code",
   "execution_count": 2,
   "metadata": {},
   "outputs": [
    {
     "ename": "ValueError",
     "evalue": "invalid literal for int() with base 10: 'd'",
     "output_type": "error",
     "traceback": [
      "\u001b[1;31m---------------------------------------------------------------------------\u001b[0m",
      "\u001b[1;31mValueError\u001b[0m                                Traceback (most recent call last)",
      "\u001b[1;32mセル2 を c:\\Users\\yamaguchi_sueko\\Documents\\atcoder\\abc275.ipynb\u001b[0m in \u001b[0;36m<cell line: 1>\u001b[1;34m()\u001b[0m\n\u001b[1;32m----> <a href='vscode-notebook-cell:/c%3A/Users/yamaguchi_sueko/Documents/atcoder/abc275.ipynb#W1sZmlsZQ%3D%3D?line=0'>1</a>\u001b[0m a,b,c,d,e,f \u001b[39m=\u001b[39m \u001b[39mmap\u001b[39m(\u001b[39mint\u001b[39m, \u001b[39minput\u001b[39m()\u001b[39m.\u001b[39msplit())\n\u001b[0;32m      <a href='vscode-notebook-cell:/c%3A/Users/yamaguchi_sueko/Documents/atcoder/abc275.ipynb#W1sZmlsZQ%3D%3D?line=1'>2</a>\u001b[0m mod \u001b[39m=\u001b[39m \u001b[39m998244353\u001b[39m\n\u001b[0;32m      <a href='vscode-notebook-cell:/c%3A/Users/yamaguchi_sueko/Documents/atcoder/abc275.ipynb#W1sZmlsZQ%3D%3D?line=2'>3</a>\u001b[0m a \u001b[39m%\u001b[39m\u001b[39m=\u001b[39m mod\n",
      "\u001b[1;31mValueError\u001b[0m: invalid literal for int() with base 10: 'd'"
     ]
    }
   ],
   "source": [
    "a,b,c,d,e,f = map(int, input().split())\n",
    "mod = 998244353\n",
    "a %= mod\n",
    "b %= mod\n",
    "c %= mod\n",
    "d %= mod\n",
    "e %= mod\n",
    "f %= mod\n",
    "first = a\n",
    "first *= b\n",
    "first %= mod\n",
    "first *= c\n",
    "first %= mod\n",
    "second = d\n",
    "second *= e\n",
    "second %= mod\n",
    "second *= f\n",
    "second %= mod\n",
    "print((first - second)%mod)"
   ]
  },
  {
   "cell_type": "code",
   "execution_count": 4,
   "metadata": {},
   "outputs": [
    {
     "data": {
      "text/plain": [
       "1663740.0"
      ]
     },
     "execution_count": 4,
     "metadata": {},
     "output_type": "execute_result"
    }
   ],
   "source": [
    "from itertools import combinations\n",
    "S = []\n",
    "for _ in range(9):\n",
    "    s = list(input())\n",
    "    S.append(s)\n",
    "corn = []\n",
    "cnt = 0\n",
    "for i in range(9):\n",
    "    for j in range(9):\n",
    "        if S[i][j] == '#':\n",
    "            cnt += 1\n",
    "            corn.append((i, j))\n",
    "\n",
    "if cnt < 4:\n",
    "    print(0)\n",
    "    exit()\n",
    "\n",
    "def dist(v1, v2):\n",
    "    return v1[0] ** 2 + v1[1] ** 2 == v2[0] ** 2 + v2[1] ** 2\n",
    "def angle(v1, v2):\n",
    "    return (v1[0] * v2[0] + v1[1] * v2[1]) == 0\n",
    "\n",
    "def judge(V):\n",
    "    order = [(0, 1, 2, 3), (0, 1, 3, 2), (0, 2, 1, 3), (0, 2, 3, 1), (0, 3, 1, 2), (0, 3, 2, 1)]\n",
    "    for x, y, z, w in order:\n",
    "        vec1 = (V[y][0] - V[x][0], V[y][1] - V[x][1])\n",
    "        vec2 = (V[z][0] - V[y][0], V[z][1] - V[y][1])\n",
    "        vec3 = (V[w][0] - V[z][0], V[w][1] - V[z][1])\n",
    "        vec4 = (V[x][0] - V[w][0], V[x][1] - V[w][1])\n",
    "        if (dist(vec1, vec2) and dist(vec2, vec3) and dist(vec3, vec4) and dist(vec4, vec1)\n",
    "            and angle(vec1, vec2) and angle(vec2, vec3) and angle(vec3, vec4) and angle(vec4, vec1)):\n",
    "            return True\n",
    "    return False\n",
    "\n",
    "ans = 0\n",
    "for p1, p2, p3, p4 in combinations(range(cnt), 4):\n",
    "    corns = [corn[p1], corn[p2], corn[p3], corn[p4]]\n",
    "    if judge(corns):\n",
    "        ans += 1\n",
    "print(ans)"
   ]
  },
  {
   "cell_type": "code",
   "execution_count": null,
   "metadata": {},
   "outputs": [],
   "source": [
    "S = []\n",
    "for _ in range(9):\n",
    "    s = list(input())\n",
    "    S.append(s)\n",
    "corn = []\n",
    "se = set()\n",
    "cnt = 0\n",
    "for i in range(9):\n",
    "    for j in range(9):\n",
    "        if S[i][j] == '#':\n",
    "            cnt += 1\n",
    "            corn.append((i, j))\n",
    "            se.add((i, j))\n",
    "\n",
    "if cnt < 4:\n",
    "    print(0)\n",
    "    exit()\n",
    "\n",
    "ans = 0\n",
    "for i in range(cnt):\n",
    "    x_i, y_i = corn[i][0], corn[i][1]\n",
    "    for j in range(i + 1, cnt):\n",
    "        x_j, y_j = corn[j][0], corn[j][1]\n",
    "        vec_x, vec_y = x_j - x_i, y_j - y_i\n",
    "        if (x_i + vec_y, y_i - vec_x) in se and (x_j + vec_y, y_j - vec_x) in se:\n",
    "            ans += 1\n",
    "        \n",
    "print(ans // 2)"
   ]
  },
  {
   "cell_type": "code",
   "execution_count": 10,
   "metadata": {},
   "outputs": [
    {
     "name": "stdout",
     "output_type": "stream",
     "text": [
      "1\n"
     ]
    }
   ],
   "source": [
    "# 正方形から二点選び、そこから作られるベクトルを反時計回りに回して判定。このとき重複は４つある。O(nC2)\n",
    "corn = [(0,0),(1,-1),(0,-1),(1,0)]\n",
    "se = set(corn)\n",
    "\n",
    "ans = 0\n",
    "for i in range(4):\n",
    "    x_i, y_i = corn[i][0], corn[i][1]\n",
    "    for j in range(i + 1, 4):\n",
    "        x_j, y_j = corn[j][0], corn[j][1]\n",
    "        vec_x, vec_y = x_j - x_i, y_j - y_i\n",
    "        if (x_i - vec_y, y_i + vec_x) in se and (x_j - vec_y, y_j + vec_x) in se:\n",
    "            ans += 1\n",
    "for i in range(4):\n",
    "    x_i, y_i = corn[i][0], corn[i][1]\n",
    "    for j in range(i + 1, 4):\n",
    "        x_j, y_j = corn[j][0], corn[j][1]\n",
    "        vec_x, vec_y = x_i - x_j, y_i - y_j\n",
    "        if (x_i - vec_y, y_i + vec_x) in se and (x_j - vec_y, y_j + vec_x) in se:\n",
    "            ans += 1\n",
    "        \n",
    "print(ans//4)"
   ]
  },
  {
   "cell_type": "code",
   "execution_count": 9,
   "metadata": {},
   "outputs": [
    {
     "name": "stdout",
     "output_type": "stream",
     "text": [
      "2\n"
     ]
    }
   ],
   "source": [
    "# 正方形から二点選び、そこから作られるベクトルを反時計と時計回りに回して判定。このとき重複は４つある。O(n^2)\n",
    "corn = [(0,0),(1,-1),(0,-1),(1,0)]\n",
    "se = set(corn)\n",
    "\n",
    "ans = 0\n",
    "for i in range(4):\n",
    "    for j in range(4):\n",
    "        if i == j:\n",
    "            continue\n",
    "        x_i, y_i = corn[i][0], corn[i][1]\n",
    "        x_j, y_j = corn[j][0], corn[j][1]\n",
    "        vec_x, vec_y = x_j - x_i, y_j - y_i\n",
    "        if (x_i - vec_y, y_i + vec_x) in se and (x_j - vec_y, y_j + vec_x) in se:\n",
    "            ans += 1\n",
    "        if (x_i + vec_y, y_i - vec_x) in se and (x_j + vec_y, y_j - vec_x) in se:\n",
    "            ans += 1\n",
    "        \n",
    "print(ans//4)"
   ]
  },
  {
   "cell_type": "code",
   "execution_count": 1,
   "metadata": {},
   "outputs": [
    {
     "name": "stdout",
     "output_type": "stream",
     "text": [
      "16\n"
     ]
    }
   ],
   "source": [
    "N = int(input())\n",
    "memo = {}\n",
    "def f(x):\n",
    "    if x == 0:\n",
    "        return 1\n",
    "    x1 = int((x / 2) // 1)\n",
    "    x2 = int((x / 3) // 1)\n",
    "    if x1 in memo:\n",
    "        f1 = memo[x1]\n",
    "    else:\n",
    "        f1 = f(x1)\n",
    "    if x2 in memo:\n",
    "        f2 = memo[x2]\n",
    "    else:\n",
    "        f2 = f(x2)\n",
    "    memo[x] = f1 + f2\n",
    "    return f1 + f2\n",
    "\n",
    "print(f(N))"
   ]
  },
  {
   "cell_type": "code",
   "execution_count": null,
   "metadata": {},
   "outputs": [],
   "source": [
    "# Dもっとシンプルに書ける(やや可読性が落ちるか)\n",
    "N = int(input())\n",
    "memo = {}\n",
    "def f(x):\n",
    "    if x == 0:\n",
    "        return 1\n",
    "    if x in memo:\n",
    "        return memo[x]\n",
    "    memo[x] = f(int((x / 2) // 1)) + f(int((x / 3) // 1))\n",
    "    return memo[x]\n",
    "print(f(N))"
   ]
  },
  {
   "cell_type": "code",
   "execution_count": null,
   "metadata": {},
   "outputs": [],
   "source": []
  },
  {
   "cell_type": "code",
   "execution_count": null,
   "metadata": {},
   "outputs": [],
   "source": []
  },
  {
   "cell_type": "code",
   "execution_count": null,
   "metadata": {},
   "outputs": [],
   "source": []
  },
  {
   "cell_type": "code",
   "execution_count": null,
   "metadata": {},
   "outputs": [],
   "source": []
  }
 ],
 "metadata": {
  "kernelspec": {
   "display_name": "Python 3.10.4 64-bit",
   "language": "python",
   "name": "python3"
  },
  "language_info": {
   "codemirror_mode": {
    "name": "ipython",
    "version": 3
   },
   "file_extension": ".py",
   "mimetype": "text/x-python",
   "name": "python",
   "nbconvert_exporter": "python",
   "pygments_lexer": "ipython3",
   "version": "3.10.4"
  },
  "orig_nbformat": 4,
  "vscode": {
   "interpreter": {
    "hash": "c036f8f3ad2f0d684820dfc35afda6e333e93b801313b3488a29c3dc9dff951a"
   }
  }
 },
 "nbformat": 4,
 "nbformat_minor": 2
}
