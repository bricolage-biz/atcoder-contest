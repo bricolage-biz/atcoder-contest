{
 "cells": [
  {
   "cell_type": "code",
   "execution_count": null,
   "metadata": {},
   "outputs": [],
   "source": [
    "from collections import deque\n",
    "N = int(input())\n",
    "A = list(map(int, input().split()))\n",
    "\n",
    "ans = 0\n",
    "tot = 0\n",
    "xor = 0\n",
    "que = deque()\n",
    "for i in range(N):\n",
    "    que.append(A[i])\n",
    "    tot += A[i]\n",
    "    xor ^= A[i]\n",
    "    while tot != xor:\n",
    "        rm = que.popleft()\n",
    "        tot -= rm\n",
    "        xor ^= rm\n",
    "    ans += len(que)\n",
    "print(ans)"
   ]
  },
  {
   "cell_type": "code",
   "execution_count": 7,
   "metadata": {},
   "outputs": [
    {
     "data": {
      "text/plain": [
       "1"
      ]
     },
     "execution_count": 7,
     "metadata": {},
     "output_type": "execute_result"
    }
   ],
   "source": [
    "3 ^ 2"
   ]
  },
  {
   "cell_type": "code",
   "execution_count": null,
   "metadata": {},
   "outputs": [],
   "source": []
  }
 ],
 "metadata": {
  "kernelspec": {
   "display_name": "Python 3.10.4 64-bit",
   "language": "python",
   "name": "python3"
  },
  "language_info": {
   "codemirror_mode": {
    "name": "ipython",
    "version": 3
   },
   "file_extension": ".py",
   "mimetype": "text/x-python",
   "name": "python",
   "nbconvert_exporter": "python",
   "pygments_lexer": "ipython3",
   "version": "3.10.4"
  },
  "orig_nbformat": 4,
  "vscode": {
   "interpreter": {
    "hash": "c036f8f3ad2f0d684820dfc35afda6e333e93b801313b3488a29c3dc9dff951a"
   }
  }
 },
 "nbformat": 4,
 "nbformat_minor": 2
}
