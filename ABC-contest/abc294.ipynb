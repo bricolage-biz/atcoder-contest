{
 "cells": [
  {
   "cell_type": "code",
   "execution_count": null,
   "metadata": {},
   "outputs": [],
   "source": [
    "n = int(input())\n",
    "a = list(map(int, input().split()))\n",
    "ans = []\n",
    "for i in range(n):\n",
    "    if a[i] % 2 == 0:\n",
    "        ans.append(a[i])\n",
    "print(*ans)"
   ]
  },
  {
   "cell_type": "code",
   "execution_count": 4,
   "metadata": {},
   "outputs": [
    {
     "data": {
      "text/plain": [
       "'a'"
      ]
     },
     "execution_count": 4,
     "metadata": {},
     "output_type": "execute_result"
    }
   ],
   "source": [
    "H, W = map(int, input().split())\n",
    "A = [list(map(int, input().split())) for _ in range(H)]\n",
    "B = [['.'] * W for _ in range(H)]\n",
    "for i in range(H):\n",
    "    for j in range(W):\n",
    "        if A[i][j] != 0:\n",
    "            B[i][j] = chr(A[i][j] + 64)\n",
    "for i in range(H):\n",
    "    print(*B[i], sep='')"
   ]
  },
  {
   "cell_type": "code",
   "execution_count": null,
   "metadata": {},
   "outputs": [],
   "source": [
    "N, M = map(int, input().split())\n",
    "A = list(map(int, input().split()))\n",
    "B = list(map(int, input().split()))\n",
    "setA = set(A)\n",
    "setB = set(B)\n",
    "Ind = {}\n",
    "\n",
    "C = A + B\n",
    "C.sort()\n",
    "for i, c in enumerate(C, 1):\n",
    "    Ind[c] = i\n",
    "\n",
    "ansA = []\n",
    "ansB = []\n",
    "for i in range(N):\n",
    "    ansA.append(Ind[A[i]])\n",
    "for i in range(M):\n",
    "    ansB.append(Ind[B[i]])\n",
    "print(*ansA)\n",
    "print(*ansB)"
   ]
  },
  {
   "cell_type": "code",
   "execution_count": null,
   "metadata": {},
   "outputs": [],
   "source": [
    "from random import randrange\n",
    "\n",
    "MAX_HEIGHT=100\n",
    "def pickHeight():\n",
    "    h = 0\n",
    "    z = randrange(1<<MAX_HEIGHT) # 32bitの乱数\n",
    "    while z & (1<<h) != 0:\n",
    "        h += 1\n",
    "    return h\n",
    "\n",
    "class SkiplistNode:\n",
    "    def __init__(self, x, height):\n",
    "        self.x = x\n",
    "        self.height = height\n",
    "        self.next = [None] * (self.height+1)\n",
    "\n",
    "class SkiplistSet:\n",
    "    def __init__(self):\n",
    "        self.sentinel = SkiplistNode(None, MAX_HEIGHT) # 番兵ノード\n",
    "        self.h = 0\n",
    "        self.stack = [self.sentinel] * MAX_HEIGHT\n",
    "        self.length = 0\n",
    "\n",
    "    def __len__(self):\n",
    "        return self.length\n",
    "\n",
    "    def find(self, x):\n",
    "        u = self.sentinel\n",
    "        for r in range(self.h, -1, -1):\n",
    "            while u.next[r] is not None and u.next[r].x <= x:\n",
    "                u = u.next[r]\n",
    "            if u.x == x:\n",
    "                return x\n",
    "        return None\n",
    "\n",
    "    def successor(self, x):\n",
    "        u = self.sentinel\n",
    "        for r in range(self.h, -1, -1):\n",
    "            while u.next[r] is not None and u.next[r].x <= x:\n",
    "                u = u.next[r]\n",
    "            if u.x == x:\n",
    "                break\n",
    "        return u.next[0].x if u.next[0] is not None else None\n",
    "\n",
    "    def predecessor(self, x):\n",
    "        u = self.sentinel\n",
    "        for r in range(self.h, -1, -1):\n",
    "            while u.next[r] is not None and u.next[r].x < x:\n",
    "                u = u.next[r]\n",
    "        return u.x\n",
    "    \n",
    "    def add(self, x):\n",
    "        u = self.sentinel\n",
    "        for r in range(self.h, -1, -1):\n",
    "            while u.next[r] is not None and u.next[r].x < x:\n",
    "                u = u.next[r]\n",
    "            if u.next[r] is not None and u.next[r].x == x:\n",
    "                return\n",
    "            self.stack[r] = u\n",
    "        w = SkiplistNode(x, pickHeight())\n",
    "        if self.h < w.height:\n",
    "            self.h = w.height\n",
    "        for i in range(w.height+1):\n",
    "            w.next[i] = self.stack[i].next[i]\n",
    "            self.stack[i].next[i] = w\n",
    "        self.length += 1\n",
    "    \n",
    "    def remove(self, x):\n",
    "        u = self.sentinel\n",
    "        removed = False\n",
    "        for r in range(self.h, -1, -1):\n",
    "            while u.next[r] is not None and u.next[r].x < x:\n",
    "                u = u.next[r]\n",
    "            if u.next[r] is not None and u.next[r].x == x:\n",
    "                removed = True\n",
    "                u.next[r] = u.next[r].next[r]\n",
    "                if (u.x is None # When u is sentinel\n",
    "                and u.next[r] is None):\n",
    "                    self.h -= 1\n",
    "        if removed:\n",
    "            self.length -= 1\n",
    "\n",
    "N, Q = map(int, input().split())\n",
    "se = SkiplistSet()\n",
    "p = 1\n",
    "\n",
    "for _ in range(Q):\n",
    "    query = list(map(int, input().split()))\n",
    "    if query[0] == 1:\n",
    "        se.add(p)\n",
    "        p += 1\n",
    "      \n",
    "    elif query[0] == 2:\n",
    "        x = query[1]\n",
    "        se.remove(x)\n",
    "    else:\n",
    "        print(se.successor(0))"
   ]
  },
  {
   "cell_type": "code",
   "execution_count": 13,
   "metadata": {},
   "outputs": [
    {
     "name": "stdout",
     "output_type": "stream",
     "text": [
      "1\n"
     ]
    }
   ],
   "source": [
    "N, Q = map(int, input().split())\n",
    "# called = set()\n",
    "done = set()\n",
    "p = 1\n",
    "ans = 1\n",
    "\n",
    "for _ in range(Q):\n",
    "    query = list(map(int, input().split()))\n",
    "    if query[0] == 1:\n",
    "        # called.add(p)\n",
    "        p += 1\n",
    "      \n",
    "    elif query[0] == 2:\n",
    "        x = query[1]\n",
    "        done.add(x)\n",
    "\n",
    "    else:\n",
    "        while ans in done:\n",
    "            ans += 1\n",
    "        print(ans)"
   ]
  },
  {
   "cell_type": "code",
   "execution_count": null,
   "metadata": {},
   "outputs": [],
   "source": []
  }
 ],
 "metadata": {
  "kernelspec": {
   "display_name": "Python 3",
   "language": "python",
   "name": "python3"
  },
  "language_info": {
   "codemirror_mode": {
    "name": "ipython",
    "version": 3
   },
   "file_extension": ".py",
   "mimetype": "text/x-python",
   "name": "python",
   "nbconvert_exporter": "python",
   "pygments_lexer": "ipython3",
   "version": "3.10.4"
  },
  "orig_nbformat": 4
 },
 "nbformat": 4,
 "nbformat_minor": 2
}
