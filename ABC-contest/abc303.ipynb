{
 "cells": [
  {
   "cell_type": "code",
   "execution_count": 4,
   "metadata": {},
   "outputs": [
    {
     "name": "stdout",
     "output_type": "stream",
     "text": [
      "Yes\n"
     ]
    }
   ],
   "source": [
    "# A - Similar String\n",
    "N = int(input())\n",
    "S = input()\n",
    "T = input()\n",
    "\n",
    "def is_similar(a, b):\n",
    "  if a == b:\n",
    "    return True\n",
    "  elif (a == '1' and b == 'l') or (a == 'l' and b == '1'):\n",
    "    return True\n",
    "  elif (a == '0' and b == 'o') or (a == 'o' and b == '0'):\n",
    "    return True\n",
    "  else:\n",
    "    return False\n",
    "\n",
    "def solve(s, t):\n",
    "  for i in range(N):\n",
    "    if is_similar(s[i], t[i]):\n",
    "      continue\n",
    "    else:\n",
    "      return False\n",
    "  return True\n",
    "\n",
    "print('Yes' if solve(S, T) else 'No')\n"
   ]
  },
  {
   "cell_type": "code",
   "execution_count": 9,
   "metadata": {},
   "outputs": [],
   "source": [
    "# B - Discord\n",
    "N, M = map(int, input().split())\n",
    "A = [list(map(int, input().split())) for _ in range(M)]\n",
    "for j in range(M):\n",
    "  for i in range(N):\n",
    "    A[j][i] -= 1\n",
    "\n",
    "is_next = {i: [False] * N for i in range(N) }\n",
    "for i in range(N):\n",
    "  is_next[i][i] = True\n",
    "\n",
    "for j in range(M):\n",
    "  for i in range(N):\n",
    "    if i != N - 1:\n",
    "      is_next[A[j][i]][A[j][i + 1]] = True\n",
    "    if i != 0:\n",
    "      is_next[A[j][i]][A[j][i - 1]] = True\n",
    "\n",
    "cnt_se = set()\n",
    "for i in range(N):\n",
    "  for j in range(N):\n",
    "    if is_next[i][j] == False:\n",
    "      cnt_se.add((i, j))\n",
    "\n",
    "print(len(cnt_se) // 2)"
   ]
  },
  {
   "cell_type": "code",
   "execution_count": null,
   "metadata": {},
   "outputs": [],
   "source": []
  }
 ],
 "metadata": {
  "kernelspec": {
   "display_name": "Python 3",
   "language": "python",
   "name": "python3"
  },
  "language_info": {
   "codemirror_mode": {
    "name": "ipython",
    "version": 3
   },
   "file_extension": ".py",
   "mimetype": "text/x-python",
   "name": "python",
   "nbconvert_exporter": "python",
   "pygments_lexer": "ipython3",
   "version": "3.10.4"
  },
  "orig_nbformat": 4
 },
 "nbformat": 4,
 "nbformat_minor": 2
}
