{
 "cells": [
  {
   "cell_type": "code",
   "execution_count": null,
   "metadata": {},
   "outputs": [],
   "source": [
    "N, D = map(int, input().split())\n",
    "T = list(map(int, input().split()))\n",
    "\n",
    "if N == 1:\n",
    "    print(-1)\n",
    "    exit()\n",
    "\n",
    "for i in range(1, N):\n",
    "    if T[i] - T[i - 1] <= D:\n",
    "        print(T[i])\n",
    "        exit()\n",
    "print(-1)"
   ]
  },
  {
   "cell_type": "code",
   "execution_count": null,
   "metadata": {},
   "outputs": [],
   "source": [
    "S = input()\n",
    "k = 0\n",
    "# q = 0\n",
    "r = []\n",
    "b = []\n",
    "# n = []\n",
    "for i, s in enumerate(S):\n",
    "    if s == 'K':\n",
    "        k = i\n",
    "    # if s == 'Q':\n",
    "        # q = i\n",
    "    if s == 'R':\n",
    "        r.append(i)\n",
    "    if s == 'B':\n",
    "        b.append(i)\n",
    "    # else:\n",
    "        # n.append(i)\n",
    "\n",
    "print('Yes' if (b[0] ^ b[1]) & 1 and r[0] < k < r[1] else 'No')"
   ]
  },
  {
   "cell_type": "code",
   "execution_count": null,
   "metadata": {},
   "outputs": [],
   "source": [
    "H, W = map(int, input().split())\n",
    "R = [list(input()) for _ in range(H)]\n",
    "\n",
    "for i in range(H):\n",
    "    for j in range(W - 1):\n",
    "        if R[i][j] == 'T' and R[i][j + 1] == 'T':\n",
    "            R[i][j] = 'P'\n",
    "            R[i][j + 1] = 'C'\n",
    "for i in range(H):\n",
    "    print(*R[i], sep='')\n",
    "    print(''.join(R[i]))"
   ]
  },
  {
   "cell_type": "code",
   "execution_count": 3,
   "metadata": {},
   "outputs": [
    {
     "name": "stdout",
     "output_type": "stream",
     "text": [
      "-1\n"
     ]
    }
   ],
   "source": [
    "a, b = map(int, input().split())\n",
    "ans = 0\n",
    "while a * b != 0:\n",
    "    if a > b:\n",
    "        ans += a // b\n",
    "        a %= b\n",
    "    elif a < b:\n",
    "        ans += b // a\n",
    "        b %= a\n",
    "    else:\n",
    "        print(0)\n",
    "        exit()\n",
    "ans -= 1\n",
    "print(ans)"
   ]
  },
  {
   "cell_type": "code",
   "execution_count": null,
   "metadata": {},
   "outputs": [],
   "source": []
  },
  {
   "cell_type": "code",
   "execution_count": null,
   "metadata": {},
   "outputs": [],
   "source": []
  }
 ],
 "metadata": {
  "kernelspec": {
   "display_name": "Python 3",
   "language": "python",
   "name": "python3"
  },
  "language_info": {
   "codemirror_mode": {
    "name": "ipython",
    "version": 3
   },
   "file_extension": ".py",
   "mimetype": "text/x-python",
   "name": "python",
   "nbconvert_exporter": "python",
   "pygments_lexer": "ipython3",
   "version": "3.10.4"
  },
  "orig_nbformat": 4
 },
 "nbformat": 4,
 "nbformat_minor": 2
}
