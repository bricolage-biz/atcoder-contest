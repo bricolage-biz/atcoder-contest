{
 "cells": [
  {
   "cell_type": "code",
   "execution_count": 8,
   "metadata": {},
   "outputs": [
    {
     "name": "stdout",
     "output_type": "stream",
     "text": [
      "0C\n"
     ]
    }
   ],
   "source": [
    "n = int(input())\n",
    "n = hex(n)\n",
    "n = n[2:]\n",
    "if len(n) == 1:\n",
    "    n = '0' + n\n",
    "print(n.upper())"
   ]
  },
  {
   "cell_type": "code",
   "execution_count": null,
   "metadata": {},
   "outputs": [],
   "source": [
    "N, Q = map(int, input().split())\n",
    "L = {}\n",
    "\n",
    "for i in range(N):\n",
    "    a = list(map(int, input().split()))\n",
    "    L[i] = list(a[1:])\n",
    "\n",
    "for _ in range(Q):\n",
    "    s, t = map(int, input().split())\n",
    "    s -= 1\n",
    "    t -= 1\n",
    "    print(L[s][t])"
   ]
  },
  {
   "cell_type": "code",
   "execution_count": null,
   "metadata": {},
   "outputs": [],
   "source": [
    "N = int(input())\n",
    "A = list(map(int, input().split()))\n",
    "\n",
    "def judge(x): #x巻まで読めるかどうか判定\n",
    "    se = set()\n",
    "    r = 0\n",
    "    for i in range(N):\n",
    "        if 1 <= A[i] <= x and A[i] not in se:\n",
    "            se.add(A[i])\n",
    "            r += 1\n",
    "    if r + (N - r) // 2 >= x:\n",
    "        return True\n",
    "    return False\n",
    "\n",
    "ok = 0\n",
    "ng = 1 << 61\n",
    "while abs(ok - ng) > 1:\n",
    "    mid = (ok + ng) // 2\n",
    "    if judge(mid):\n",
    "        ok = mid\n",
    "    else:\n",
    "        ng = mid\n",
    "print(ok)\n"
   ]
  },
  {
   "cell_type": "code",
   "execution_count": 9,
   "metadata": {},
   "outputs": [
    {
     "name": "stdout",
     "output_type": "stream",
     "text": [
      "1073741824\n"
     ]
    }
   ],
   "source": [
    "len(str(1 << 30)) - 1\n",
    "print(1 << 30)"
   ]
  },
  {
   "cell_type": "code",
   "execution_count": 5,
   "metadata": {},
   "outputs": [
    {
     "data": {
      "text/plain": [
       "True"
      ]
     },
     "execution_count": 5,
     "metadata": {},
     "output_type": "execute_result"
    }
   ],
   "source": [
    "1 <= 2 <= 3"
   ]
  },
  {
   "cell_type": "code",
   "execution_count": 13,
   "metadata": {},
   "outputs": [
    {
     "name": "stdout",
     "output_type": "stream",
     "text": [
      "3\n"
     ]
    }
   ],
   "source": [
    "N = int(input())\n",
    "A = list(map(int, input().split()))\n",
    "A.sort()\n",
    "\n",
    "if len(A) == 1:\n",
    "    if A[0] == 1:\n",
    "        print(1)\n",
    "    else:\n",
    "        print(0)\n",
    "    exit()\n",
    "\n",
    "cnt = 0\n",
    "i = 0\n",
    "j = 0\n",
    "while N - (i + j) >= 1:\n",
    "    if N - (i + j) == 1:\n",
    "        if A[i] == cnt + 1:\n",
    "            cnt += 1\n",
    "        break\n",
    "    if A[i] == cnt + 1:\n",
    "        cnt += 1\n",
    "        i += 1\n",
    "        continue\n",
    "    if N - i - j >= 2:\n",
    "        j += 2\n",
    "        cnt += 1\n",
    "        continue\n",
    "\n",
    "print(cnt)"
   ]
  },
  {
   "cell_type": "code",
   "execution_count": null,
   "metadata": {},
   "outputs": [],
   "source": [
    "N, S = map(int, input().split())\n",
    "A = [0]\n",
    "B = [0]\n",
    "for _ in range(N):\n",
    "    a, b = map(int, input().split())\n",
    "    A.append(a)\n",
    "    B.append(b)\n",
    "\n",
    "dp = [[False] * (10 ** 4 + 1) for _ in range(N + 1)]\n",
    "dp[0][0] = True\n",
    "dp[1][A[1]] = dp[1][B[1]] = True\n",
    "\n",
    "for i in range(1, N):\n",
    "    for j in range(1, 10 ** 4 + 1):\n",
    "        if dp[i][j] == False:\n",
    "            continue\n",
    "        dp[i + 1][j + A[i + 1]] = True \n",
    "        dp[i + 1][j + B[i + 1]] = True\n",
    "if dp[N][S] == False:\n",
    "    print('No')\n",
    "    exit()\n",
    "\n",
    "ans = []\n",
    "tot = S\n",
    "for k in range(N, 0, -1):\n",
    "    if tot - A[k] >= 0 and dp[k - 1][tot - A[k]] == True:\n",
    "        ans.append('H')\n",
    "        tot -= A[k]\n",
    "    else:\n",
    "        ans.append('T')\n",
    "        tot -= B[k]\n",
    "\n",
    "print('Yes')\n",
    "print(''.join(ans[::-1]))"
   ]
  },
  {
   "cell_type": "code",
   "execution_count": null,
   "metadata": {},
   "outputs": [],
   "source": []
  }
 ],
 "metadata": {
  "kernelspec": {
   "display_name": "Python 3.10.4 64-bit",
   "language": "python",
   "name": "python3"
  },
  "language_info": {
   "codemirror_mode": {
    "name": "ipython",
    "version": 3
   },
   "file_extension": ".py",
   "mimetype": "text/x-python",
   "name": "python",
   "nbconvert_exporter": "python",
   "pygments_lexer": "ipython3",
   "version": "3.10.4"
  },
  "orig_nbformat": 4,
  "vscode": {
   "interpreter": {
    "hash": "c036f8f3ad2f0d684820dfc35afda6e333e93b801313b3488a29c3dc9dff951a"
   }
  }
 },
 "nbformat": 4,
 "nbformat_minor": 2
}
