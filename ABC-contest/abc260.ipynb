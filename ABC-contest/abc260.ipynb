{
 "cells": [
  {
   "cell_type": "code",
   "execution_count": null,
   "metadata": {},
   "outputs": [],
   "source": [
    "N, K = map(int, input().split())\n",
    "P = list(map(int, input().split()))\n",
    "turn = [0] * N\n",
    "front = []\n",
    "\n",
    "for i in range(N):\n",
    "    card = P[i]\n",
    "    if len(front) == 0 or front[-1][0][-1] < card:\n",
    "        if K == 1:\n",
    "            turn[card - 1] = i + 1\n",
    "            continue\n",
    "        front.append([[card], 1])\n",
    "        continue\n",
    "    \n",
    "    # めぐる式二部探索\n",
    "    ok = len(front)\n",
    "    ng = -1\n",
    "    while abs(ok - ng) > 1:\n",
    "        mid = (ok + ng) // 2\n",
    "        if front[mid][0][-1] > card:\n",
    "            ok = mid\n",
    "        else:\n",
    "            ng = mid\n",
    "    front[ok][0].append(card)\n",
    "    front[ok][1] += 1\n",
    "    if front[ok][1] == K:\n",
    "        for c in front[ok][0]:\n",
    "            turn[c - 1] = i + 1\n",
    "        front.pop(ok)\n",
    "\n",
    "for t in turn:\n",
    "    if t == 0:\n",
    "        print(-1)\n",
    "    else:\n",
    "        print(t)"
   ]
  },
  {
   "cell_type": "code",
   "execution_count": null,
   "metadata": {},
   "outputs": [],
   "source": []
  }
 ],
 "metadata": {
  "kernelspec": {
   "display_name": "Python 3.10.4 64-bit",
   "language": "python",
   "name": "python3"
  },
  "language_info": {
   "codemirror_mode": {
    "name": "ipython",
    "version": 3
   },
   "file_extension": ".py",
   "mimetype": "text/x-python",
   "name": "python",
   "nbconvert_exporter": "python",
   "pygments_lexer": "ipython3",
   "version": "3.10.4"
  },
  "orig_nbformat": 4,
  "vscode": {
   "interpreter": {
    "hash": "c036f8f3ad2f0d684820dfc35afda6e333e93b801313b3488a29c3dc9dff951a"
   }
  }
 },
 "nbformat": 4,
 "nbformat_minor": 2
}
