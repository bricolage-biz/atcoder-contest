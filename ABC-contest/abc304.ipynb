{
 "cells": [
  {
   "cell_type": "code",
   "execution_count": null,
   "metadata": {},
   "outputs": [],
   "source": [
    "N = int(input())\n",
    "S = []\n",
    "A = []\n",
    "for _ in range(N):\n",
    "    s, a = input().split()\n",
    "    S.append(s)\n",
    "    A.append(int(a))\n",
    "\n",
    "ind = A.index(min(A))\n",
    "for i in range(N):\n",
    "    print(S[(ind + i) % N])"
   ]
  },
  {
   "cell_type": "code",
   "execution_count": 9,
   "metadata": {},
   "outputs": [
    {
     "name": "stdout",
     "output_type": "stream",
     "text": [
      "2\n"
     ]
    }
   ],
   "source": [
    "N = int(input())\n",
    "d = len(str(N))\n",
    "print(N // (10 ** (d - 3)) * (10 ** (d - 3)) if d > 3 else N)"
   ]
  },
  {
   "cell_type": "code",
   "execution_count": 1,
   "metadata": {},
   "outputs": [
    {
     "name": "stdout",
     "output_type": "stream",
     "text": [
      "1\n"
     ]
    }
   ],
   "source": [
    "from collections import deque\n",
    "\n",
    "def isClose(A, B):\n",
    "    ax, ay = A[0], A[1]\n",
    "    bx, by = B[0], B[1]\n",
    "    return (ax - bx) ** 2 + (ay - by) ** 2 <= D ** 2\n",
    "\n",
    "N, D = map(int, input().split())\n",
    "P = []\n",
    "for _ in range(N):\n",
    "    x, y = map(int, input().split())\n",
    "    P.append([x, y])\n",
    "\n",
    "infected = [False] * N\n",
    "infected[0] = True\n",
    "que = deque()\n",
    "que.append(0)\n",
    "\n",
    "while que:\n",
    "    now = que.popleft()\n",
    "    for next in range(N):\n",
    "        if infected[next]:\n",
    "            continue\n",
    "        if isClose(P[now], P[next]):\n",
    "            infected[next] = True\n",
    "            que.append(next)\n",
    "\n",
    "for i in range(N):\n",
    "    print('Yes' if infected[i] else 'No')"
   ]
  },
  {
   "cell_type": "code",
   "execution_count": null,
   "metadata": {},
   "outputs": [],
   "source": []
  }
 ],
 "metadata": {
  "kernelspec": {
   "display_name": "Python 3",
   "language": "python",
   "name": "python3"
  },
  "language_info": {
   "codemirror_mode": {
    "name": "ipython",
    "version": 3
   },
   "file_extension": ".py",
   "mimetype": "text/x-python",
   "name": "python",
   "nbconvert_exporter": "python",
   "pygments_lexer": "ipython3",
   "version": "3.10.4"
  },
  "orig_nbformat": 4
 },
 "nbformat": 4,
 "nbformat_minor": 2
}
