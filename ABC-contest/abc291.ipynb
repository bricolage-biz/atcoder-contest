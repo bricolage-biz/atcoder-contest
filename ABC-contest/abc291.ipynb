{
 "cells": [
  {
   "cell_type": "code",
   "execution_count": 4,
   "metadata": {},
   "outputs": [
    {
     "name": "stdout",
     "output_type": "stream",
     "text": [
      "1\n"
     ]
    }
   ],
   "source": [
    "S = input()\n",
    "for i in range(len(S)):\n",
    "    if S[i].isupper():\n",
    "        print(i + 1)"
   ]
  },
  {
   "cell_type": "code",
   "execution_count": 5,
   "metadata": {},
   "outputs": [
    {
     "data": {
      "text/plain": [
       "[1, 1, 3, 5]"
      ]
     },
     "execution_count": 5,
     "metadata": {},
     "output_type": "execute_result"
    }
   ],
   "source": [
    "N = int(input())\n",
    "X = list(map(int, input().split()))\n",
    "X.sort()\n",
    "ans = sum(X[N:-N]) / (3 * N)\n",
    "print(ans)"
   ]
  },
  {
   "cell_type": "code",
   "execution_count": 6,
   "metadata": {},
   "outputs": [
    {
     "data": {
      "text/plain": [
       "[2, 3, 4, 5, 6, 7]"
      ]
     },
     "execution_count": 6,
     "metadata": {},
     "output_type": "execute_result"
    }
   ],
   "source": [
    "N = int(input())\n",
    "S = input()\n",
    "visited = set()\n",
    "XY = [(0, 0)]\n",
    "visited.add((0, 0))\n",
    "for i in range(N):\n",
    "    now = XY[-1]\n",
    "    if S[i] == 'L':\n",
    "        next = (now[0] - 1, now[1])\n",
    "    if S[i] == 'R':\n",
    "        next = (now[0] + 1, now[1])\n",
    "    if S[i] == 'U':\n",
    "        next = (now[0], now[1] + 1)\n",
    "    if S[i] == 'D':\n",
    "        next = (now[0], now[1] - 1)\n",
    "    \n",
    "    if next not in visited:\n",
    "        XY.append(next)\n",
    "        visited.add(next)\n",
    "    else:\n",
    "        print('Yes')\n",
    "        exit()\n",
    "print('No')"
   ]
  },
  {
   "cell_type": "code",
   "execution_count": null,
   "metadata": {},
   "outputs": [],
   "source": [
    "N = int(input())\n",
    "S = input()\n",
    "visited = set()\n",
    "visited.add((0, 0))\n",
    "now = (0, 0)\n",
    "for i in range(N):\n",
    "    if S[i] == 'L':\n",
    "        next = (now[0] - 1, now[1])\n",
    "    elif S[i] == 'R':\n",
    "        next = (now[0] + 1, now[1])\n",
    "    elif S[i] == 'U':\n",
    "        next = (now[0], now[1] + 1)\n",
    "    elif S[i] == 'D':\n",
    "        next = (now[0], now[1] - 1)\n",
    "    \n",
    "    if next not in visited:\n",
    "        visited.add(next)\n",
    "        now = next\n",
    "    else:\n",
    "        print('Yes')\n",
    "        exit()\n",
    "print('No')"
   ]
  },
  {
   "cell_type": "code",
   "execution_count": null,
   "metadata": {},
   "outputs": [],
   "source": [
    "N = int(input())\n",
    "S = input()\n",
    "visited = set()\n",
    "x, y = 0, 0\n",
    "visited.add((x, y))\n",
    "for i in range(N):\n",
    "    if S[i] == 'L':\n",
    "        x -= 1\n",
    "    elif S[i] == 'R':\n",
    "        x += 1\n",
    "    elif S[i] == 'U':\n",
    "        y += 1\n",
    "    elif S[i] == 'D':\n",
    "        y -= 1    \n",
    "    visited.add((x, y))\n",
    "\n",
    "print('Yes' if len(visited) < N + 1 else 'No')"
   ]
  },
  {
   "cell_type": "code",
   "execution_count": null,
   "metadata": {},
   "outputs": [],
   "source": [
    "N = int(input())\n",
    "MOD = 998244353\n",
    "A = [0]\n",
    "B = [0]\n",
    "for _ in range(N):\n",
    "    a, b = map(int, input().split())\n",
    "    A.append(a)\n",
    "    B.append(b)\n",
    "\n",
    "dpF = [0] * (N + 1)\n",
    "dpB = [0] * (N + 1)\n",
    "dpF[1] = dpB[1] = 1\n",
    "for i in range(1, N):\n",
    "    if A[i + 1] != A[i]:\n",
    "        dpF[i + 1] += dpF[i]\n",
    "        dpF[i + 1] %= MOD\n",
    "    if A[i + 1] != B[i]:\n",
    "        dpF[i + 1] += dpB[i]\n",
    "        dpF[i + 1] %= MOD\n",
    "    if B[i + 1] != A[i]:\n",
    "        dpB[i + 1] = dpF[i]\n",
    "        dpB[i + 1] %= MOD\n",
    "    if B[i + 1] != B[i]:\n",
    "        dpB[i + 1] += dpB[i]\n",
    "        dpB[i + 1] %= MOD\n",
    "print((dpF[N] + dpB[N]) % MOD)"
   ]
  },
  {
   "cell_type": "code",
   "execution_count": null,
   "metadata": {},
   "outputs": [],
   "source": [
    "N = int(input())\n",
    "MOD = 998244353\n",
    "A = [0]\n",
    "B = [0]\n",
    "for _ in range(N):\n",
    "    a, b = map(int, input().split())\n",
    "    A.append(a)\n",
    "    B.append(b)\n",
    "\n",
    "dpF = [0] * (N + 1)\n",
    "dpB = [0] * (N + 1)\n",
    "dpF[1] = dpB[1] = 1\n",
    "for i in range(1, N):\n",
    "    if A[i + 1] != A[i]:\n",
    "        dpF[i + 1] += dpF[i]\n",
    "    if A[i + 1] != B[i]:\n",
    "        dpF[i + 1] += dpB[i]\n",
    "    if B[i + 1] != A[i]:\n",
    "        dpB[i + 1] = dpF[i]\n",
    "    if B[i + 1] != B[i]:\n",
    "        dpB[i + 1] += dpB[i]\n",
    "    dpF[i + 1] %= MOD\n",
    "    dpB[i + 1] %= MOD\n",
    "print((dpF[N] + dpB[N]) % MOD)"
   ]
  },
  {
   "cell_type": "code",
   "execution_count": null,
   "metadata": {},
   "outputs": [],
   "source": [
    "N, M = map(int, input().split())\n",
    "rank = [0] * (N + 1)\n",
    "rank[0] = -1\n",
    "rankInd = []\n",
    "seen = set()\n",
    "for i in range(M):\n",
    "    x, y = map(int, input().split())\n",
    "    if (x, y) in seen:\n",
    "        continue\n",
    "    seen.add((x, y))\n",
    "    rank[y] += rank[x]\n",
    "\n",
    "for i in range(1, N + 1):\n",
    "    rankInd.append([rank[i], i])\n",
    "rankInd.sort(reverse=True)\n",
    "\n",
    "ans = []\n",
    "now = N -1\n",
    "i = 0\n",
    "while now > 0:\n",
    "    if rankInd[i][0] == now:\n",
    "        ans.append(rankInd[i][1])\n",
    "        now -= 1\n",
    "        i += 1\n",
    "    else:\n",
    "        now = rankInd[i][0]\n",
    "        while"
   ]
  }
 ],
 "metadata": {
  "kernelspec": {
   "display_name": "Python 3",
   "language": "python",
   "name": "python3"
  },
  "language_info": {
   "codemirror_mode": {
    "name": "ipython",
    "version": 3
   },
   "file_extension": ".py",
   "mimetype": "text/x-python",
   "name": "python",
   "nbconvert_exporter": "python",
   "pygments_lexer": "ipython3",
   "version": "3.10.4"
  },
  "orig_nbformat": 4,
  "vscode": {
   "interpreter": {
    "hash": "c036f8f3ad2f0d684820dfc35afda6e333e93b801313b3488a29c3dc9dff951a"
   }
  }
 },
 "nbformat": 4,
 "nbformat_minor": 2
}
