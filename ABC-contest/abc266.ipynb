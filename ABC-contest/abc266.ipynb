{
 "cells": [
  {
   "cell_type": "code",
   "execution_count": 3,
   "metadata": {},
   "outputs": [
    {
     "name": "stdout",
     "output_type": "stream",
     "text": [
      "a\n"
     ]
    }
   ],
   "source": [
    "s = input()\n",
    "print(s[len(s)//2])"
   ]
  },
  {
   "cell_type": "code",
   "execution_count": 6,
   "metadata": {},
   "outputs": [
    {
     "name": "stdout",
     "output_type": "stream",
     "text": [
      "998244349\n"
     ]
    }
   ],
   "source": [
    "mod = 998244353\n",
    "N = int(input())\n",
    "\n",
    "x = N % mod\n",
    "print(x)"
   ]
  },
  {
   "cell_type": "code",
   "execution_count": null,
   "metadata": {},
   "outputs": [],
   "source": [
    "pos = []\n",
    "for _ in range(4):\n",
    "    pos.append(list(map(int, input().split())))\n",
    "vec = []\n",
    "for i in range(1, 4):\n",
    "    vec.append((pos[i][0] - pos[i-1][0], pos[i][1] - pos[i-1][1]))\n",
    "vec.append((pos[0][0] - pos[3][0], pos[0][1] - pos[3][1]))\n",
    "\n",
    "def outer(v1, v2):\n",
    "    x = v1[0] * v2[1] - v1[1] * v2[0]\n",
    "    return x\n",
    "\n",
    "flag = True\n",
    "for i in range(3):\n",
    "    if outer(vec[i], vec[i+1]) < 0:\n",
    "        flag = False\n",
    "        break\n",
    "if outer(vec[3], vec[0]) < 0:\n",
    "    flag = False\n",
    "print('Yes' if flag else 'No')"
   ]
  },
  {
   "cell_type": "code",
   "execution_count": null,
   "metadata": {},
   "outputs": [],
   "source": [
    "N = int(input())\n",
    "snuke = {}\n",
    "for i in range(N):\n",
    "    t, x, a = map(int, input().split())\n",
    "    snuke[t] = (x, a)\n",
    "    if i == N - 1:\n",
    "        Tn = t\n",
    "\n",
    "dp = [[0] * (Tn + 1) for i in range(5)]\n",
    "for t in range(4):\n",
    "    if t in range(Tn + 1):\n",
    "        for pos in range(t + 1, 5):\n",
    "            dp[pos][t] = -float(\"inf\")\n",
    "\n",
    "for t in range(1, Tn + 1):\n",
    "    for pos in range(5):\n",
    "        if dp[pos][t] < 0:\n",
    "            continue\n",
    "        if t in snuke and pos == snuke[t][0] and dp[pos][t] >= 0:\n",
    "            dp[snuke[t][0]][t] += snuke[t][1]\n",
    "        add = 0\n",
    "        for i in (-1, 0, 1):\n",
    "            if pos + i in range(5) and dp[pos + i][t - 1] >= 0:\n",
    "                add = max(add, dp[pos + i][t - 1])\n",
    "        dp[pos][t] += add\n",
    "\n",
    "ans = 0\n",
    "for pos in range(5):\n",
    "    ans = max(ans, dp[pos][Tn])\n",
    "print(ans)"
   ]
  },
  {
   "cell_type": "code",
   "execution_count": 57,
   "metadata": {},
   "outputs": [
    {
     "name": "stdout",
     "output_type": "stream",
     "text": [
      "4.25\n"
     ]
    }
   ],
   "source": [
    "N = int(input())\n",
    "E = [0] #E[i]は最大i回のターンからなるゲームの期待値の最大値\n",
    "for i in range(1, N + 1):\n",
    "    tot = 0\n",
    "    # 最大iターンからなるゲームの期待値は、1ターン目の出目xと最大i-1ターンからなるゲームの期待値の大きいほうを採用します\n",
    "    for x in range(1, 7):\n",
    "        tot += max(x, E[-1])\n",
    "    E.append(tot / 6)\n",
    "print(E[-1])"
   ]
  },
  {
   "cell_type": "code",
   "execution_count": null,
   "metadata": {},
   "outputs": [],
   "source": []
  }
 ],
 "metadata": {
  "kernelspec": {
   "display_name": "Python 3.10.4 64-bit",
   "language": "python",
   "name": "python3"
  },
  "language_info": {
   "codemirror_mode": {
    "name": "ipython",
    "version": 3
   },
   "file_extension": ".py",
   "mimetype": "text/x-python",
   "name": "python",
   "nbconvert_exporter": "python",
   "pygments_lexer": "ipython3",
   "version": "3.10.4"
  },
  "orig_nbformat": 4,
  "vscode": {
   "interpreter": {
    "hash": "c036f8f3ad2f0d684820dfc35afda6e333e93b801313b3488a29c3dc9dff951a"
   }
  }
 },
 "nbformat": 4,
 "nbformat_minor": 2
}
