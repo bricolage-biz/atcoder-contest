{
 "cells": [
  {
   "cell_type": "code",
   "execution_count": 3,
   "metadata": {},
   "outputs": [
    {
     "name": "stdout",
     "output_type": "stream",
     "text": [
      "0\n"
     ]
    }
   ],
   "source": [
    "L1, R1, L2, R2 = map(int, input().split())\n",
    "if R1 <= L2 or R2 <= L1:\n",
    "    print(0)\n",
    "else:\n",
    "    print(min(R1, R2) - max(L1, L2))"
   ]
  },
  {
   "cell_type": "code",
   "execution_count": null,
   "metadata": {},
   "outputs": [],
   "source": [
    "N = int(input())\n",
    "A = []\n",
    "for _ in range(N):\n",
    "    A.append(list(input()))\n",
    "\n",
    "def judge():\n",
    "    result = {}\n",
    "    for i in range(N):\n",
    "        for j in range(N):\n",
    "            if i == j:\n",
    "                continue\n",
    "            if (i, j) not in result:\n",
    "                result[(i, j)] = A[i][j]\n",
    "                if A[i][j] == \"D\":\n",
    "                    result[(j, i)] = \"D\"\n",
    "                elif A[i][j] == \"W\":\n",
    "                    result[(j, i)] = \"L\"\n",
    "                else:\n",
    "                    result[(j, i)] = \"W\"\n",
    "            else:\n",
    "                if A[i][j] == result[(i, j)]:\n",
    "                    continue\n",
    "                else:\n",
    "                    return False\n",
    "    return True\n",
    "\n",
    "print(\"correct\" if judge() else \"incorrect\")"
   ]
  },
  {
   "cell_type": "code",
   "execution_count": null,
   "metadata": {},
   "outputs": [],
   "source": [
    "N = int(input())\n",
    "counter = {}\n",
    "for i in range(N):\n",
    "    S = input()\n",
    "    if S not in counter:\n",
    "        counter[S] = 0\n",
    "        print(S)\n",
    "    else:\n",
    "        counter[S] += 1\n",
    "        print(f\"{S}({counter[S]})\")"
   ]
  },
  {
   "cell_type": "code",
   "execution_count": null,
   "metadata": {},
   "outputs": [],
   "source": [
    "from itertools import accumulate\n",
    "N, M = map(int, input().split())\n",
    "X = list(map(int, input().split()))\n",
    "Y = [0] * (N + 1)\n",
    "for _ in range(M):\n",
    "    c, y = map(int, input().split())\n",
    "    Y[c] += y\n",
    "\n",
    "Y_accum = list(accumulate(Y))\n",
    "Xs = sorted(X, reverse=True)\n",
    "Xs_accum = list(accumulate(Xs))\n",
    "\n",
    "ans = 0\n",
    "for j in range(1, N + 1):\n",
    "    tot = 0\n",
    "    K = (N + 1) // (j + 1)\n",
    "    R = (N + 1) % (j + 1)\n",
    "    tot += Y_accum[j] * K\n",
    "    tot += Y_accum[j + R] - Y_accum[j]\n",
    "    front = N - (K - 1)\n",
    "    tot += Xs_accum[front - 1]\n",
    "    ans = max(ans, tot)\n",
    "print(ans)"
   ]
  }
 ],
 "metadata": {
  "kernelspec": {
   "display_name": "Python 3.10.4 64-bit",
   "language": "python",
   "name": "python3"
  },
  "language_info": {
   "codemirror_mode": {
    "name": "ipython",
    "version": 3
   },
   "file_extension": ".py",
   "mimetype": "text/x-python",
   "name": "python",
   "nbconvert_exporter": "python",
   "pygments_lexer": "ipython3",
   "version": "3.10.4"
  },
  "orig_nbformat": 4,
  "vscode": {
   "interpreter": {
    "hash": "c036f8f3ad2f0d684820dfc35afda6e333e93b801313b3488a29c3dc9dff951a"
   }
  }
 },
 "nbformat": 4,
 "nbformat_minor": 2
}
