{
 "cells": [
  {
   "cell_type": "code",
   "execution_count": null,
   "metadata": {},
   "outputs": [],
   "source": [
    "N = int(input())\n",
    "A = list(map(int, input().split()))\n",
    "\n",
    "Stack = []\n",
    "for a in A:\n",
    "  Stack.append(a)\n",
    "  while len(Stack) != 1 and Stack[-1] == Stack[-2]:\n",
    "    Stack.pop()\n",
    "    Stack[-1] += 1\n",
    "ans = len(Stack)\n",
    "print(ans)"
   ]
  },
  {
   "cell_type": "code",
   "execution_count": null,
   "metadata": {},
   "outputs": [],
   "source": [
    "N = int(input())\n",
    "A = list(map(int, input().split()))\n",
    "import sys\n",
    "sys.setrecursionlimit(10**6)\n",
    "\n",
    "Stack = []\n",
    "def dfs(Stack):\n",
    "  if len(Stack) == 1 or Stack[-1] != Stack[-2]:\n",
    "    return\n",
    "  Stack.pop()\n",
    "  Stack[-1] += 1\n",
    "  dfs(Stack)\n",
    "\n",
    "for a in A:\n",
    "  Stack.append(a)\n",
    "  dfs(Stack)\n",
    "ans = len(Stack)\n",
    "print(ans)"
   ]
  },
  {
   "cell_type": "code",
   "execution_count": null,
   "metadata": {},
   "outputs": [],
   "source": []
  }
 ],
 "metadata": {
  "kernelspec": {
   "display_name": "Python 3",
   "language": "python",
   "name": "python3"
  },
  "language_info": {
   "codemirror_mode": {
    "name": "ipython",
    "version": 3
   },
   "file_extension": ".py",
   "mimetype": "text/x-python",
   "name": "python",
   "nbconvert_exporter": "python",
   "pygments_lexer": "ipython3",
   "version": "3.12.0"
  }
 },
 "nbformat": 4,
 "nbformat_minor": 2
}
