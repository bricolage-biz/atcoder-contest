{
 "cells": [
  {
   "cell_type": "code",
   "execution_count": 1,
   "metadata": {},
   "outputs": [
    {
     "name": "stdout",
     "output_type": "stream",
     "text": [
      "1\n"
     ]
    }
   ],
   "source": [
    "S = input()\n",
    "for i in range(len(S)):\n",
    "  if (i + 1) % 2 != 0:\n",
    "    continue\n",
    "  if S[i] != '0':\n",
    "    print('No')\n",
    "    exit()\n",
    "  else:\n",
    "    continue\n",
    "print('Yes')"
   ]
  },
  {
   "cell_type": "code",
   "execution_count": null,
   "metadata": {},
   "outputs": [],
   "source": [
    "from collections import defaultdict\n",
    "\n",
    "N = int(input())\n",
    "S = []\n",
    "for i in range(N):\n",
    "  s = input()\n",
    "  S.append(s)\n",
    "\n",
    "cnt = defaultdict(int)\n",
    "\n",
    "for i in range(N):\n",
    "  for j in range(N):\n",
    "    if S[i][j] == '-':\n",
    "      continue\n",
    "    if S[i][j] == 'o':\n",
    "      cnt[i] += 1\n",
    "\n",
    "result = [[] for _ in range(N)]\n",
    "for i in range(N):\n",
    "  result[cnt[i]].append(i + 1)\n",
    "\n",
    "ans = []\n",
    "for i in reversed(range(N)):\n",
    "  if len(result[i]) == 0:\n",
    "    continue\n",
    "  else:\n",
    "    for p in result[i]:\n",
    "      ans.append(p)\n",
    "print(*ans)"
   ]
  },
  {
   "cell_type": "code",
   "execution_count": 4,
   "metadata": {},
   "outputs": [
    {
     "name": "stdout",
     "output_type": "stream",
     "text": [
      "0\n",
      "[0, 0]\n"
     ]
    }
   ],
   "source": [
    "N, M = map(int, input().split())\n",
    "A = list(map(int, input().split()))\n",
    "S = [input() for _ in range(N)]\n",
    "\n",
    "tot = [0] * N\n",
    "for i in range(N):\n",
    "  for j in range(M):\n",
    "    if S[i][j] == 'o':\n",
    "      tot[i] += A[j]\n",
    "  tot[i] += i + 1\n",
    "\n",
    "rems = []\n",
    "for i in range(N):\n",
    "  rem = []\n",
    "  for j in range(M):\n",
    "    if S[i][j] == 'x':\n",
    "      rem.append(A[j])\n",
    "  rem.sort(reverse=True)\n",
    "  rems.append(rem)\n",
    "\n",
    "maxPoint = max(tot)\n",
    "\n",
    "ans = []\n",
    "for i in range(N):\n",
    "  if tot[i] == maxPoint:\n",
    "    ans.append(0)\n",
    "    continue\n",
    "  else:\n",
    "    remP = maxPoint - tot[i]\n",
    "    num = 0\n",
    "    j = 0\n",
    "    while remP >= 0:\n",
    "      remP -= rems[i][j]\n",
    "      num += 1\n",
    "      j += 1\n",
    "    ans.append(num)\n",
    "\n",
    "print(*ans, sep='\\n')  "
   ]
  },
  {
   "cell_type": "code",
   "execution_count": null,
   "metadata": {},
   "outputs": [],
   "source": [
    "N = int(input())\n",
    "cntS = dict()\n",
    "S = set()\n",
    "\n",
    "for i in range(N):\n",
    "  s, c = map(int, input().split())\n",
    "  S.add(s)\n",
    "  cntS[s] = c\n",
    "SS = sorted(S)\n",
    "\n",
    "ans = 0\n",
    "for s in SS:\n",
    "  cnt = cntS[s]\n",
    "  digit = len(format(cnt, \"b\"))\n",
    "  for d in range(digit):\n",
    "    if cnt & (1 << j):\n",
    "      result = s * 2 ** d\n",
    "      if j == 0:\n",
    "        ans += 1\n",
    "        continue\n",
    "      if result not in S:\n",
    "        ans += 1\n",
    "        continue\n",
    "      cntS[result] += 1\n",
    "\n",
    "  \n",
    "  for j in range(digit):\n",
    "    if cntS[s] & (1 << j):\n",
    "      continue\n",
    "\n",
    "\n",
    "  binC = format(cntS[s], 'b')\n",
    "  binC = binC[::-1]\n",
    "  for i in range(len(binC)):\n",
    "    if i == 0 and binC[i] % 2 == 0:\n",
    "      cntS[s] = 0\n",
    "    if i == 0 and binC[i] % 2 != 0:\n",
    "      cntS[s] = 1 \n",
    "    if binC[i] == 1:\n",
    "      newSize = s * 2 ** i\n",
    "      cntS[newSize] += 1\n",
    "\n",
    "def check(dic):\n",
    "  for s in dic:\n",
    "    if cntS[s] == 1 or cntS[s] == 0:\n",
    "      continue"
   ]
  },
  {
   "cell_type": "code",
   "execution_count": 32,
   "metadata": {},
   "outputs": [
    {
     "data": {
      "text/plain": [
       "[0, 9]"
      ]
     },
     "execution_count": 32,
     "metadata": {},
     "output_type": "execute_result"
    }
   ],
   "source": [
    "se = [9, 0]\n",
    "ss = sorted(se)"
   ]
  },
  {
   "cell_type": "code",
   "execution_count": 35,
   "metadata": {},
   "outputs": [
    {
     "name": "stdout",
     "output_type": "stream",
     "text": [
      "(0, 0, 0, 0)\n",
      "(0, 0, 0, 1)\n",
      "(0, 0, 1, 0)\n",
      "(0, 0, 1, 1)\n",
      "(0, 1, 0, 0)\n",
      "(0, 1, 0, 1)\n",
      "(0, 1, 1, 0)\n",
      "(0, 1, 1, 1)\n",
      "(1, 0, 0, 0)\n",
      "(1, 0, 0, 1)\n",
      "(1, 0, 1, 0)\n",
      "(1, 0, 1, 1)\n",
      "(1, 1, 0, 0)\n",
      "(1, 1, 0, 1)\n",
      "(1, 1, 1, 0)\n",
      "(1, 1, 1, 1)\n"
     ]
    }
   ],
   "source": [
    "from itertools import product\n",
    "for bit in product(range(2), repeat=4):\n",
    "  print(bit)"
   ]
  },
  {
   "cell_type": "code",
   "execution_count": null,
   "metadata": {},
   "outputs": [],
   "source": [
    "n, x = map(int, input().split())\n",
    "s = list(map(int, input().split()))\n",
    "\n",
    "ans = 0\n",
    "for i in range(n):\n",
    "  if s[i] <= x:\n",
    "    ans += s[i]\n",
    "print(ans)"
   ]
  },
  {
   "cell_type": "code",
   "execution_count": null,
   "metadata": {},
   "outputs": [],
   "source": [
    "N = int(input())\n",
    "D = [0] + list(map(int, input().split()))\n",
    "ans = 0\n",
    "\n",
    "same = set([1,2,3,4,5,6,7,8,9,11,22,33,44,55,66,77,88,99])\n",
    "for i in range(1, N + 1):\n",
    "  if i not in same:\n",
    "    continue\n",
    "  single = set(list(str(i))).pop()\n",
    "  double = single * 2\n",
    "  if D[i] >= int(single):\n",
    "    ans += 1\n",
    "  if D[i] >= int(double):\n",
    "    ans += 1\n",
    "print(ans)"
   ]
  },
  {
   "cell_type": "code",
   "execution_count": null,
   "metadata": {},
   "outputs": [],
   "source": [
    "N, Q = map(int, input().split())\n",
    "if N == 1:\n",
    "  for i in range(Q):\n",
    "    print(0)\n",
    "  exit()\n",
    "\n",
    "S = input()\n",
    "LR = []\n",
    "for i in range(Q):\n",
    "  l, r = map(int, input().split())\n",
    "  LR.append([l, r])\n",
    "\n",
    "P = [0] * (N + 1)\n",
    "for i in range(2, N - 1):\n",
    "  if S[i - 1] == S[i - 2]:\n",
    "    P[i] = P[i - 1] + 1\n",
    "  else:\n",
    "    P[i] = P[i - 1]\n",
    "\n",
    "for j in range(Q):\n",
    "  l, r = LR[j][0], LR[j][1]\n",
    "  if l == r:\n",
    "    print(0)\n",
    "    continue\n",
    "  ans = P[r] - P[l]\n",
    "  print(ans)"
   ]
  },
  {
   "cell_type": "code",
   "execution_count": 10,
   "metadata": {},
   "outputs": [
    {
     "name": "stdout",
     "output_type": "stream",
     "text": [
      "\n"
     ]
    }
   ],
   "source": [
    "from collections import deque\n",
    "S = input()\n",
    "N = len(S)\n",
    "seq = deque()\n",
    "for i in range(N):\n",
    "  seq.append(S[i])\n",
    "  if len(seq) < 3:\n",
    "    continue\n",
    "  while len(seq) >= 3:\n",
    "    if seq[-3] == 'A' and seq[-2] == 'B' and seq[-1] == 'C':\n",
    "      for j in range(3):\n",
    "        seq.pop()\n",
    "    else:\n",
    "      break\n",
    "\n",
    "print(''.join(seq))"
   ]
  },
  {
   "cell_type": "code",
   "execution_count": null,
   "metadata": {},
   "outputs": [],
   "source": [
    "#　Kruskal法のアルゴリズムの本体\n",
    "def kruskal(Edges, V):\n",
    "    \"\"\"\n",
    "    入力\n",
    "    Edges: (weight, (From_node, To_node))を管理するリスト\n",
    "    V: 頂点数\n",
    "    \n",
    "    出力\n",
    "    ans: 最小全域木の重み\n",
    "    \"\"\"\n",
    "    Edges.sort() #重みが小さい順に辺をソートする\n",
    "\n",
    "    ans = 0 #最小全域木の重み\n",
    "    uf = UnionFind(V) #UnionFindを初期化. 初期は全頂点が異なるグループ\n",
    "    for w, (From, To) in Edges:\n",
    "\n",
    "        #同じグループ(木)に属する場合、その辺は無視する\n",
    "        if uf.isSame(From, To):\n",
    "            continue\n",
    "        #異なるグループの場合、その辺を採用し、頂点From, Toを同じグループにする\n",
    "        else:\n",
    "            ans += w\n",
    "            uf.unite(From, To)\n",
    "    \n",
    "    return ans\n",
    "\n",
    "#=======以下、Union-Find木 各頂点の管理に利用===============\n",
    "class UnionFind():\n",
    "    def __init__(self, n):\n",
    "        self.n = n\n",
    "        self.parents = [-1 for i in range(n)]\n",
    "        self.size = [1]*n\n",
    "    def root(self, x):\n",
    "        if self.parents[x] == -1:\n",
    "            return x\n",
    "        else:\n",
    "            self.parents[x] = self.root(self.parents[x]) #工夫2: 経路圧縮\n",
    "            return self.parents[x]\n",
    "    def isSame(self, x, y):\n",
    "        if self.root(x)==self.root(y):\n",
    "            return True\n",
    "        else:\n",
    "            return False\n",
    "    def unite(self, x, y):\n",
    "        x = self.root(x)\n",
    "        y = self.root(y)\n",
    "        if x==y:\n",
    "            #なにもしない\n",
    "            return\n",
    "        #工夫1: サイズによる合併(小さい方を大き方に合併)\n",
    "        if self.size[x] < self.size[y]:\n",
    "            x, y = y, x #yが小さい方になるように交換する\n",
    "\n",
    "        self.parents[y] = x #yの根をxに変更\n",
    "        self.size[x] += self.size[y]\n",
    "\n",
    "N, M, K = map(int, input().split())\n",
    "Edges = []\n",
    "for i in range(M):\n",
    "    u, v, w = map(int, input().split())\n",
    "    u -= 1\n",
    "    v -= 1\n",
    "    Edges.append((w, (u, v)))\n",
    "\n",
    "ans = kruskal(Edges, N)\n",
    "print(ans)"
   ]
  },
  {
   "cell_type": "code",
   "execution_count": 13,
   "metadata": {},
   "outputs": [
    {
     "name": "stdout",
     "output_type": "stream",
     "text": [
      "__main__\n"
     ]
    }
   ],
   "source": [
    "print(__name__)"
   ]
  },
  {
   "cell_type": "code",
   "execution_count": 4,
   "metadata": {},
   "outputs": [
    {
     "data": {
      "text/plain": [
       "6"
      ]
     },
     "execution_count": 4,
     "metadata": {},
     "output_type": "execute_result"
    }
   ],
   "source": [
    "def factorial(n):\n",
    "  if n == 0:\n",
    "    return 1\n",
    "  return n * factorial(n - 1)\n",
    "\n",
    "factorial(3)"
   ]
  },
  {
   "cell_type": "code",
   "execution_count": null,
   "metadata": {},
   "outputs": [],
   "source": []
  }
 ],
 "metadata": {
  "kernelspec": {
   "display_name": "Python 3",
   "language": "python",
   "name": "python3"
  },
  "language_info": {
   "codemirror_mode": {
    "name": "ipython",
    "version": 3
   },
   "file_extension": ".py",
   "mimetype": "text/x-python",
   "name": "python",
   "nbconvert_exporter": "python",
   "pygments_lexer": "ipython3",
   "version": "3.12.0"
  }
 },
 "nbformat": 4,
 "nbformat_minor": 2
}
