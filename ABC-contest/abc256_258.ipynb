{
 "cells": [
  {
   "cell_type": "code",
   "execution_count": 4,
   "metadata": {},
   "outputs": [
    {
     "name": "stdout",
     "output_type": "stream",
     "text": [
      "4\n"
     ]
    }
   ],
   "source": [
    "r, c = map(int, input().split())\n",
    "A = []\n",
    "for _ in range(2):\n",
    "    A.append(list(map(int, input().split())))\n",
    "print(A[r-1][c-1])"
   ]
  },
  {
   "cell_type": "code",
   "execution_count": null,
   "metadata": {},
   "outputs": [],
   "source": [
    "import math\n",
    "n, k = map(int, input().split())\n",
    "A = list(map(int, input().split()))\n",
    "xy = []\n",
    "for _ in range(n):\n",
    "    xy.append(list(map(int, input().split())))\n",
    "\n",
    "def dis(x, y):\n",
    "    return math.sqrt((x[0] - y[0]) ** 2 + (x[1] - y[1]) ** 2)\n",
    "\n",
    "print(xy)\n",
    "print(A)\n",
    "ans = 10 * 6\n",
    "for i in A:\n",
    "    distance = 0\n",
    "    i -= 1\n",
    "    for j in range(n):\n",
    "        distance = max(distance, ((xy[i][0] - xy[j][0]) ** 2 + (xy[i][1] - xy[j][1]) ** 2) ** (1 / 2))\n",
    "    ans = min(ans, distance)\n",
    "print(ans)"
   ]
  },
  {
   "cell_type": "code",
   "execution_count": null,
   "metadata": {},
   "outputs": [],
   "source": [
    "import math\n",
    "n, k = map(int, input().split())\n",
    "A = list(map(int, input().split()))\n",
    "xy = []\n",
    "for _ in range(n):\n",
    "    xy.append(list(map(int, input().split())))\n",
    "\n",
    "def dis(x, y):\n",
    "    return math.sqrt((x[0] - y[0]) ** 2 + (x[1] - y[1]) ** 2)\n",
    "\n",
    "ans = float('inf')\n",
    "for i in A:\n",
    "    distance = 0\n",
    "    i -= 1\n",
    "    for j in range(n):\n",
    "        if i == j:\n",
    "            continue\n",
    "        if j <= k - 1:\n",
    "            distance = max(distance, dis(xy[i], xy[j]) / 2)\n",
    "        else:\n",
    "            distance = max(distance, dis(xy[i], xy[j]))\n",
    "    ans = min(ans, distance)\n",
    "print(ans)"
   ]
  },
  {
   "cell_type": "code",
   "execution_count": 13,
   "metadata": {},
   "outputs": [
    {
     "name": "stdout",
     "output_type": "stream",
     "text": [
      "1 2\n",
      "1\n"
     ]
    }
   ],
   "source": [
    "X, A, D, N = map(int, input().split())\n",
    "\n",
    "def num(i, a = A, d = D):\n",
    "    return a + d * i\n",
    "\n",
    "def is_ok(y):\n",
    "    return num(y) < X\n",
    "\n",
    "if D >= 0:\n",
    "    ok = 0\n",
    "    ng = N - 1\n",
    "else:\n",
    "    ok = N - 1\n",
    "    ng = 0\n",
    "\n",
    "\n",
    "if D >= 0:\n",
    "    while ng-ok > 1:\n",
    "        mid = (ok+ng) // 2\n",
    "        if is_ok(mid):\n",
    "            ok = mid\n",
    "        else:\n",
    "            ng = mid\n",
    "else:\n",
    "    while ok-ng > 1:\n",
    "        mid = (ok+ng) // 2\n",
    "        if is_ok(mid):\n",
    "            ng = mid\n",
    "        else:\n",
    "            ok = mid\n",
    "\n",
    "print(min(abs(num(ok) - X), abs(num(ng) - X)))"
   ]
  },
  {
   "cell_type": "markdown",
   "metadata": {},
   "source": [
    "### 東京海上日動プログラミングコンテスト2022（AtCoder Beginner Contest 256） "
   ]
  },
  {
   "cell_type": "code",
   "execution_count": 3,
   "metadata": {},
   "outputs": [
    {
     "name": "stdout",
     "output_type": "stream",
     "text": [
      "4\n"
     ]
    }
   ],
   "source": [
    "r, c = map(int, input().split())\n",
    "A = []\n",
    "for _ in range(2):\n",
    "    A.append(list(map(int, input().split())))\n",
    "\n",
    "print(A[r-1][c-1])"
   ]
  },
  {
   "cell_type": "code",
   "execution_count": null,
   "metadata": {},
   "outputs": [],
   "source": [
    "N = int(input())\n",
    "print(2 **N)"
   ]
  },
  {
   "cell_type": "code",
   "execution_count": 17,
   "metadata": {},
   "outputs": [
    {
     "name": "stdout",
     "output_type": "stream",
     "text": [
      "[0, 0, 1, 0]\n",
      "[0, 0, 1, 0]\n",
      "[0, 0, 0, 0]\n",
      "[0, 1, 0, 0]\n",
      "[0, 1, 1, 0]\n",
      "[0, 1, 1, 1]\n",
      "[0, 0, 0, 0]\n",
      "[0, 0, 1, 0]\n",
      "[0, 0, 1, 0]\n",
      "[0, 1, 0, 1]\n",
      "8\n"
     ]
    }
   ],
   "source": [
    "N = int(input())\n",
    "A = list(map(int, input().split()))\n",
    "P = 0\n",
    "\n",
    "trout = [0, 0, 0, 0]\n",
    "\n",
    "for a in A:\n",
    "    trout[0] = 1\n",
    "    now = set()\n",
    "    for i in range(4):\n",
    "        if trout[i] == 0:\n",
    "            continue\n",
    "        now.add(i + a)\n",
    "    trout = [0, 0, 0, 0]\n",
    "    for pos in now:\n",
    "        if pos >= 4:\n",
    "            P += 1\n",
    "        else:\n",
    "            trout[pos] = 1\n",
    "\n",
    "print(P)   "
   ]
  },
  {
   "cell_type": "code",
   "execution_count": 26,
   "metadata": {},
   "outputs": [
    {
     "name": "stdout",
     "output_type": "stream",
     "text": [
      "(0, 0, 0)\n",
      "(0, 0, 1)\n",
      "(0, 1, 0)\n",
      "(0, 1, 1)\n",
      "(1, 0, 0)\n",
      "(1, 0, 1)\n",
      "(1, 1, 0)\n",
      "(1, 1, 1)\n"
     ]
    }
   ],
   "source": [
    "from itertools import product\n",
    "\n",
    "info = list(map(int, input().split()))\n",
    "h = info[:3]\n",
    "w = info[3:]\n",
    "field = [[0] * 3 for _ in range(3)]\n",
    "ans = 0\n",
    "for permu in product(range(1, 31), repeat=4):\n",
    "    now = field[:]\n",
    "    now[0][0] = permu[0]\n",
    "    now[0][1] = permu[1]\n",
    "    now[1][0] = permu[2]\n",
    "    now[1][1] = permu[3]\n",
    "    now[0][2] = h[0] - now[0][0] - now[0][1]\n",
    "    now[1][2] = h[1] - now[1][0] - now[1][1]\n",
    "    now[2][0] = w[0] - now[0][0] - now[1][0]\n",
    "    now[2][1] = w[1] - now[0][1] - now[1][1]\n",
    "\n",
    "    if (now[0][2] >= 1 and\n",
    "        now[1][2] >= 1 and\n",
    "        now[2][0] >= 1 and\n",
    "        now[2][1] >= 1):\n",
    "        if (h[2] - now[2][0] - now[2][1] == w[2] - now[0][2] - now[1][2] and h[2] - now[2][0] - now[2][1] >= 1):\n",
    "            ans += 1\n",
    "        else:\n",
    "            continue\n",
    "    else:\n",
    "        continue\n",
    "print(ans)\n"
   ]
  },
  {
   "cell_type": "code",
   "execution_count": 35,
   "metadata": {},
   "outputs": [
    {
     "name": "stdout",
     "output_type": "stream",
     "text": [
      "1\n"
     ]
    }
   ],
   "source": [
    "# C - Filling 3x3 array\n",
    "hw = list(map(int, input().split()))\n",
    "h = hw[:3]\n",
    "w = hw[3:]\n",
    "n, m = 3, 30\n",
    "grid = [[0] * 3 for _ in range(n)]\n",
    "\n",
    "m4 = m ** 4\n",
    "ans = 0\n",
    "\n",
    "# 1~mの組み合わせをm進法で表現するやり方\n",
    "for i in range(m4):\n",
    "    tmp = i\n",
    "    grid[0][0] = (tmp%m)+1\n",
    "    tmp //= m\n",
    "    grid[0][1] = (tmp%m)+1\n",
    "    tmp //= m\n",
    "    grid[1][0] = (tmp%m)+1\n",
    "    tmp //= m\n",
    "    grid[1][1] = (tmp%m)+1 \n",
    "    tmp //= m\n",
    "    ok = True\n",
    "    for i in range(2):\n",
    "        grid[i][2] = h[i] - grid[i][0] - grid[i][1]\n",
    "        if grid[i][2] < 1:ok = False\n",
    "    for j in range(3):\n",
    "        grid[2][j] = w[j] - grid[0][j] - grid[1][j]\n",
    "        if grid[2][j] < 1:ok = False\n",
    "    if grid[2][0] + grid[2][1] + grid[2][2] != h[2]:ok = False\n",
    "    if ok:ans += 1\n",
    "print(ans)"
   ]
  },
  {
   "cell_type": "code",
   "execution_count": 29,
   "metadata": {},
   "outputs": [
    {
     "name": "stdout",
     "output_type": "stream",
     "text": [
      "10 30\n",
      "40 50\n"
     ]
    }
   ],
   "source": [
    "# D - Union of Interval\n",
    "N = int(input())\n",
    "LR = []\n",
    "for _ in range(N):\n",
    "    l, r = map(int, input().split())\n",
    "    LR.append((l, r))\n",
    "LR.sort()\n",
    "\n",
    "ans = []\n",
    "for i, (l, r) in enumerate(LR):\n",
    "    if i == 0:\n",
    "        ans.append([l, r])\n",
    "        continue\n",
    "    if l <= ans[-1][1]:\n",
    "        if r <= ans[-1][1]:\n",
    "            continue\n",
    "        elif r > ans[-1][1]:\n",
    "            ans[-1][1] = r\n",
    "    if l > ans[-1][1]:\n",
    "        ans.append([l, r])\n",
    "\n",
    "for x, y in ans:\n",
    "    print(x, y)"
   ]
  },
  {
   "cell_type": "code",
   "execution_count": 28,
   "metadata": {},
   "outputs": [
    {
     "name": "stdout",
     "output_type": "stream",
     "text": [
      "0 (1, 2)\n",
      "1 (2, 3)\n"
     ]
    }
   ],
   "source": [
    "ls = [(1, 2), (2, 3)]\n",
    "for i, (l, r) in enumerate(ls):\n",
    "    print(i, (l, r))"
   ]
  },
  {
   "cell_type": "markdown",
   "metadata": {},
   "source": [
    "### 日鉄ソリューションズプログラミングコンテスト2022（AtCoder Beginner Contest 257）"
   ]
  },
  {
   "cell_type": "code",
   "execution_count": 7,
   "metadata": {},
   "outputs": [
    {
     "name": "stdout",
     "output_type": "stream",
     "text": [
      "C\n"
     ]
    }
   ],
   "source": [
    "N, X = map(int, input().split())\n",
    "alpha = 'ABCDEFGHIJKLMNOPQRSTUVWXYZ'\n",
    "i = (X - 1) // N\n",
    "print(alpha[i])"
   ]
  },
  {
   "cell_type": "code",
   "execution_count": 10,
   "metadata": {},
   "outputs": [
    {
     "name": "stdout",
     "output_type": "stream",
     "text": [
      "1 2\n"
     ]
    }
   ],
   "source": [
    "N, K, Q = map(int, input().split())\n",
    "A = list(map(int, input().split()))\n",
    "L = list(map(int, input().split()))\n",
    "\n",
    "field = [0] * (N + 1)\n",
    "info = {}\n",
    "\n",
    "for i, a in enumerate(A):\n",
    "    i += 1\n",
    "    field[a] = i\n",
    "    info[i] = a\n",
    "\n",
    "for l in L:\n",
    "    if info[l] == N:\n",
    "        continue\n",
    "    elif field[info[l] + 1] == 0:\n",
    "        field[info[l]] = 0\n",
    "        info[l] += 1\n",
    "        field[info[l]] = l\n",
    "    else:\n",
    "        continue\n",
    "ans = []\n",
    "for i in range(1, K + 1):\n",
    "    ans.append(info[i])\n",
    "print(*ans)"
   ]
  },
  {
   "cell_type": "code",
   "execution_count": null,
   "metadata": {},
   "outputs": [],
   "source": [
    "# B - 1D Pawn\n",
    "n, k, q = map(int, input().split())\n",
    "A = list(map(int, input().split()))\n",
    "L = list(map(int, input().split()))\n",
    "for l in L:\n",
    "    l -= 1\n",
    "    if l == k - 1:\n",
    "        if A[l] != n:\n",
    "            A[l] += 1\n",
    "    elif A[l] + 1 != A[l + 1]:\n",
    "        A[l] += 1\n",
    "print(*A)"
   ]
  },
  {
   "cell_type": "code",
   "execution_count": null,
   "metadata": {},
   "outputs": [],
   "source": [
    "N = int(input())\n",
    "S = input()\n",
    "W = list(map(int, input().split()))\n",
    "\n",
    "if len(set(S)) == 1:\n",
    "    print(N)\n",
    "    exit()\n",
    "\n",
    "most_adult = 0\n",
    "least_child = float('inf')\n",
    "\n",
    "for i, w in enumerate(W):\n",
    "    if S[i] == '1':\n",
    "        most_adult = max(most_adult, w)\n",
    "    else:\n",
    "        least_child = min(least_child, w)\n",
    "\n",
    "num = 0\n",
    "ans = []\n",
    "for i, w in enumerate(W):\n",
    "    if S[i] == '1':\n",
    "        if w <= least_child:\n",
    "            num += 1\n",
    "\n",
    "ans.append(N - num)\n",
    "for i, w in enumerate(W):\n",
    "    if S[i] == '0':\n",
    "        if w > most_adult:\n",
    "            num += 1\n",
    "ans.append(N - num)\n",
    "\n",
    "print(max(ans))"
   ]
  },
  {
   "cell_type": "code",
   "execution_count": 24,
   "metadata": {},
   "outputs": [
    {
     "name": "stdout",
     "output_type": "stream",
     "text": [
      "5\n"
     ]
    }
   ],
   "source": [
    "N = int(input())\n",
    "S = list(input())\n",
    "W = list(map(int, input().split()))\n",
    "\n",
    "people = []\n",
    "cnt = 0\n",
    "\n",
    "for i in range(N):\n",
    "    people.append((W[i], S[i]))\n",
    "    if S[i] == '1':\n",
    "        cnt += 1\n",
    "ans = cnt\n",
    "people.sort()\n",
    "\n",
    "for i in range(N):\n",
    "    w, s = people[i]\n",
    "    if s == '0':\n",
    "        cnt += 1\n",
    "    if s == '1':\n",
    "        cnt -= 1\n",
    "    if i+1 == N or people[i+1][0] != w:\n",
    "        ans = max(ans, cnt)\n",
    "\n",
    "print(ans)"
   ]
  },
  {
   "cell_type": "markdown",
   "metadata": {},
   "source": [
    "### AtCoder Beginner Contest 258"
   ]
  },
  {
   "cell_type": "code",
   "execution_count": 9,
   "metadata": {},
   "outputs": [
    {
     "name": "stdout",
     "output_type": "stream",
     "text": [
      "22:40\n"
     ]
    }
   ],
   "source": [
    "k = int(input())\n",
    "h = k // 60\n",
    "m = k - h * 60\n",
    "mm = str(m).zfill(2)\n",
    "hh = str(21 + h)\n",
    "print(f'{hh}:{mm}')"
   ]
  },
  {
   "cell_type": "code",
   "execution_count": null,
   "metadata": {},
   "outputs": [],
   "source": [
    "n = int(input())\n",
    "A = []\n",
    "for _ in range(n):\n",
    "    A.append(input())\n",
    "dx = [0, 1, 1, 1, 0, -1, -1, -1]\n",
    "dy = [1, 1, 0, -1, -1, -1, 0, 1]\n",
    "ans = []\n",
    "for row in range(n):\n",
    "    for col in range(n):\n",
    "        for i in range(8):\n",
    "            tmp = []\n",
    "            tmp.append(A[row][col])\n",
    "            for _ in range(n - 1):\n",
    "                row += dx[i] \n",
    "                col += dy[i]\n",
    "                if row < 0:\n",
    "                    row += n\n",
    "                elif row >= n:\n",
    "                    row -= n\n",
    "                if col < 0:\n",
    "                    col += n\n",
    "                elif col >= n:\n",
    "                    col -= n\n",
    "                tmp.append(A[row][col])\n",
    "            num = int(''.join(tmp))\n",
    "            ans.append(num)\n",
    "print(max(ans))"
   ]
  },
  {
   "cell_type": "code",
   "execution_count": null,
   "metadata": {},
   "outputs": [],
   "source": [
    "n, q = map(int, input().split())\n",
    "S = input()\n",
    "start_pos = 0\n",
    "for _ in range(q):\n",
    "    t, x = map(int, input().split())\n",
    "    if t == 1:\n",
    "        start_pos -= x\n",
    "        if start_pos < 0:\n",
    "            start_pos += n\n",
    "    else:\n",
    "        x -= 1\n",
    "        output_pos = start_pos + x\n",
    "        if output_pos >= n:\n",
    "            output_pos -= n\n",
    "        print(S[output_pos])"
   ]
  },
  {
   "cell_type": "code",
   "execution_count": null,
   "metadata": {},
   "outputs": [],
   "source": [
    "from itertools import accumulate\n",
    "n, x = map(int, input().split())\n",
    "AB = []\n",
    "tot = []\n",
    "for _ in range(n):\n",
    "    ab = list(map(int, input().split()))\n",
    "    AB.append(ab)\n",
    "    tot.append(ab[0] + ab[1])\n",
    "acum_tot = list(accumulate(tot))\n",
    "\n",
    "elapsed_time = []\n",
    "for i in range(n):\n",
    "    if x - (i + 1) < 0:\n",
    "        continue\n",
    "    time = acum_tot[i] + AB[i][1] * (x - (i + 1))\n",
    "    elapsed_time.append(time)\n",
    "print(min(elapsed_time))"
   ]
  },
  {
   "cell_type": "code",
   "execution_count": null,
   "metadata": {},
   "outputs": [],
   "source": []
  }
 ],
 "metadata": {
  "interpreter": {
   "hash": "c036f8f3ad2f0d684820dfc35afda6e333e93b801313b3488a29c3dc9dff951a"
  },
  "kernelspec": {
   "display_name": "Python 3.10.4 64-bit",
   "language": "python",
   "name": "python3"
  },
  "language_info": {
   "codemirror_mode": {
    "name": "ipython",
    "version": 3
   },
   "file_extension": ".py",
   "mimetype": "text/x-python",
   "name": "python",
   "nbconvert_exporter": "python",
   "pygments_lexer": "ipython3",
   "version": "3.10.4"
  },
  "orig_nbformat": 4
 },
 "nbformat": 4,
 "nbformat_minor": 2
}
