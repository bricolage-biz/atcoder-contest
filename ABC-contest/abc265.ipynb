{
 "cells": [
  {
   "cell_type": "code",
   "execution_count": null,
   "metadata": {},
   "outputs": [],
   "source": [
    "X, Y, N = map(int, input().split())\n",
    "ans = float(\"inf\")\n",
    "for y in range(101):\n",
    "    x = N - 3 * y\n",
    "    if x < 0:\n",
    "        continue\n",
    "    ans = min(ans, x * X + y * Y)\n",
    "print(ans)"
   ]
  },
  {
   "cell_type": "code",
   "execution_count": null,
   "metadata": {},
   "outputs": [],
   "source": [
    "N, M, T = map(int, input().split())\n",
    "A = list(map(int, input().split()))\n",
    "XY = {}\n",
    "for _ in range(M):\n",
    "    x, y = map(int, input().split())\n",
    "    x -= 1\n",
    "    XY[x] = y\n",
    "\n",
    "pos = 0\n",
    "time = T\n",
    "ans = True\n",
    "while pos != N - 1:\n",
    "    if pos in XY:\n",
    "        time += XY[pos]\n",
    "    time -= A[pos]\n",
    "    if time <= 0:\n",
    "        ans = False\n",
    "        break\n",
    "    pos += 1\n",
    "\n",
    "print('Yes' if ans == True else 'No')"
   ]
  },
  {
   "cell_type": "code",
   "execution_count": null,
   "metadata": {},
   "outputs": [],
   "source": [
    "H, W = map(int, input().split())\n",
    "grid = []\n",
    "for _ in range(H):\n",
    "    grid.append(list(input()))\n",
    "\n",
    "visited = set()\n",
    "pos = [0, 0]\n",
    "while tuple(pos) not in visited:\n",
    "    visited.add((pos[0], pos[1]))\n",
    "\n",
    "    if grid[pos[0]][pos[1]] == 'U':\n",
    "        if pos[0] == 0:\n",
    "            print(pos[0] + 1, pos[1] + 1)\n",
    "            exit()\n",
    "        else:\n",
    "            pos[0] -= 1\n",
    "    if grid[pos[0]][pos[1]] == 'D':\n",
    "        if pos[0] == H - 1:\n",
    "            print(pos[0] + 1, pos[1] + 1)\n",
    "            exit()\n",
    "        else:\n",
    "            pos[0] += 1\n",
    "    if grid[pos[0]][pos[1]] == 'L':\n",
    "        if pos[1] == 0:\n",
    "            print(pos[0] + 1, pos[1] + 1)\n",
    "            exit()\n",
    "        else:\n",
    "            pos[1] -= 1\n",
    "    if grid[pos[0]][pos[1]] == 'R':\n",
    "        if pos[1] == W - 1:\n",
    "            print(pos[0] + 1, pos[1] + 1)\n",
    "            exit()\n",
    "        else:\n",
    "            pos[1] += 1\n",
    "print(-1)"
   ]
  },
  {
   "cell_type": "code",
   "execution_count": null,
   "metadata": {},
   "outputs": [],
   "source": [
    "# BFS(幅優先探索による実装)\n",
    "from collections import deque\n",
    "\n",
    "H, W = map(int, input().split())\n",
    "grid = []\n",
    "for _ in range(H):\n",
    "    grid.append(list(input()))\n",
    "\n",
    "que = deque()\n",
    "que.append((0, 0))\n",
    "visited = set()\n",
    "visited.add((0, 0))\n",
    "\n",
    "while que:\n",
    "    v = que.popleft() #先頭から取り出します\n",
    "\n",
    "    # 次の状態を作ります\n",
    "    if grid[v[0]][v[1]] == 'U':\n",
    "        next = (v[0] - 1, v[1])\n",
    "    if grid[v[0]][v[1]] == 'D':\n",
    "        next = (v[0] + 1, v[1])\n",
    "    if grid[v[0]][v[1]] == 'R':\n",
    "        next = (v[0], v[1] + 1)\n",
    "    if grid[v[0]][v[1]] == 'L':\n",
    "        next = (v[0], v[1] - 1)\n",
    "    \n",
    "    # すでに訪れていたら-1を出力してループを抜けます\n",
    "    if next in visited:\n",
    "        print(-1)\n",
    "        break\n",
    "    # grid内からはみ出したらはみ出す前の座標を出力してループを抜けます\n",
    "    if next[0] not in range(H) or next[1] not in range(W):\n",
    "        print(v[0] + 1, v[1] + 1)\n",
    "        break\n",
    "    que.append(next) #末尾に追加します\n",
    "    visited.add(next) #訪れ済みであることを記録しておきます"
   ]
  },
  {
   "cell_type": "code",
   "execution_count": 1,
   "metadata": {},
   "outputs": [],
   "source": [
    "N, P, Q, R = map(int, input().split())\n",
    "A = list(map(int, input().split()))\n",
    "\n",
    "B = [0]\n",
    "for a in A:\n",
    "    B.append(B[-1] + a)\n",
    "\n",
    "B = set(B)\n",
    "\n",
    "for b in B:\n",
    "    if (b + P in B \n",
    "    and b + P + Q in B \n",
    "    and b + P + Q + R in B):\n",
    "        print('Yes')\n",
    "        exit()\n",
    "print('No')"
   ]
  }
 ],
 "metadata": {
  "kernelspec": {
   "display_name": "Python 3.10.4 64-bit",
   "language": "python",
   "name": "python3"
  },
  "language_info": {
   "codemirror_mode": {
    "name": "ipython",
    "version": 3
   },
   "file_extension": ".py",
   "mimetype": "text/x-python",
   "name": "python",
   "nbconvert_exporter": "python",
   "pygments_lexer": "ipython3",
   "version": "3.10.4"
  },
  "orig_nbformat": 4,
  "vscode": {
   "interpreter": {
    "hash": "c036f8f3ad2f0d684820dfc35afda6e333e93b801313b3488a29c3dc9dff951a"
   }
  }
 },
 "nbformat": 4,
 "nbformat_minor": 2
}
