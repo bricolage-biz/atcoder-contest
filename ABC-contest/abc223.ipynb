{
 "cells": [
  {
   "cell_type": "code",
   "execution_count": null,
   "metadata": {},
   "outputs": [],
   "source": [
    "from heapq import heapify, heappop, heappush, heappushpop\n",
    "\n",
    "N, M = map(int, input().split())\n",
    "edges = [[] for _ in range(N)]\n",
    "indegree = [0] * N\n",
    "\n",
    "for _ in range(M):\n",
    "    a, b = map(int, input().split())\n",
    "    a -= 1\n",
    "    b -= 1\n",
    "    edges[a].append(b)\n",
    "    indegree[b] += 1\n",
    "\n",
    "minHeap = []\n",
    "for i in range(N):\n",
    "    if indegree[i] == 0:\n",
    "        heappush(minHeap, i)\n",
    "\n",
    "ans = []\n",
    "while minHeap:\n",
    "    now = heappop(minHeap)\n",
    "    for to in edges[now]:\n",
    "        indegree[to] -= 1\n",
    "        if indegree[to] == 0:\n",
    "            heappush(minHeap, to)\n",
    "    ans.append(now + 1)\n",
    "\n",
    "for i in range(N):\n",
    "    if indegree[i] != 0:\n",
    "        print(-1)\n",
    "        exit()\n",
    "print(*ans)"
   ]
  },
  {
   "cell_type": "code",
   "execution_count": 1,
   "metadata": {},
   "outputs": [
    {
     "ename": "NameError",
     "evalue": "name 'M' is not defined",
     "output_type": "error",
     "traceback": [
      "\u001b[1;31m---------------------------------------------------------------------------\u001b[0m",
      "\u001b[1;31mNameError\u001b[0m                                 Traceback (most recent call last)",
      "\u001b[1;32mセル2 を c:\\Users\\yamaguchi_sueko\\Documents\\atcoder\\abc223.ipynb\u001b[0m in \u001b[0;36m<cell line: 5>\u001b[1;34m()\u001b[0m\n\u001b[0;32m      <a href='vscode-notebook-cell:/c%3A/Users/yamaguchi_sueko/Documents/atcoder/abc223.ipynb#W1sZmlsZQ%3D%3D?line=2'>3</a>\u001b[0m edges \u001b[39m=\u001b[39m defaultdict(\u001b[39mlist\u001b[39m)\n\u001b[0;32m      <a href='vscode-notebook-cell:/c%3A/Users/yamaguchi_sueko/Documents/atcoder/abc223.ipynb#W1sZmlsZQ%3D%3D?line=3'>4</a>\u001b[0m visited \u001b[39m=\u001b[39m \u001b[39mset\u001b[39m()\n\u001b[1;32m----> <a href='vscode-notebook-cell:/c%3A/Users/yamaguchi_sueko/Documents/atcoder/abc223.ipynb#W1sZmlsZQ%3D%3D?line=4'>5</a>\u001b[0m \u001b[39mfor\u001b[39;00m _ \u001b[39min\u001b[39;00m \u001b[39mrange\u001b[39m(M):\n\u001b[0;32m      <a href='vscode-notebook-cell:/c%3A/Users/yamaguchi_sueko/Documents/atcoder/abc223.ipynb#W1sZmlsZQ%3D%3D?line=5'>6</a>\u001b[0m     a, b \u001b[39m=\u001b[39m \u001b[39mmap\u001b[39m(\u001b[39mint\u001b[39m, \u001b[39minput\u001b[39m()\u001b[39m.\u001b[39msplit())\n\u001b[0;32m      <a href='vscode-notebook-cell:/c%3A/Users/yamaguchi_sueko/Documents/atcoder/abc223.ipynb#W1sZmlsZQ%3D%3D?line=6'>7</a>\u001b[0m     edges[a]\u001b[39m.\u001b[39mappend(b)\n",
      "\u001b[1;31mNameError\u001b[0m: name 'M' is not defined"
     ]
    }
   ],
   "source": [
    "from collections import deque, defaultdict\n",
    "\n",
    "M = int(input())\n",
    "edges = defaultdict(list)\n",
    "visited_e = set()\n",
    "visited_v = set()\n",
    "for i in range(M):\n",
    "    a, b = map(int, input().split())\n",
    "    edges[a].append((i, b))\n",
    "    edges[b].append((i, a))\n",
    "\n",
    "def dfs(s):\n",
    "    que = deque()\n",
    "    que.append(s)\n",
    "    visited_v.add(s)\n",
    "    while que:\n",
    "        v = que.pop()\n",
    "        for edge, next in edges[v]:\n",
    "            if edge in visited_e:\n",
    "                continue\n",
    "            if next not in visited_v:\n",
    "                que.append(next)\n",
    "                visited_v.add(next)\n",
    "                visited_e.add(edge)\n",
    "            else:\n",
    "                return False\n",
    "    return True\n",
    "\n",
    "print('Yes' if dfs(0) else 'No')"
   ]
  },
  {
   "cell_type": "code",
   "execution_count": null,
   "metadata": {},
   "outputs": [],
   "source": [
    "from heapq import heapify, heappop, heappush\n",
    "N, M = map(int, input().split())\n",
    "edges = [[] for _ in range(N)]\n",
    "indegree = [0] * N\n",
    "\n",
    "for _ in range(M):\n",
    "    a, b = map(int, input().split())\n",
    "    a, b = a - 1, b - 1\n",
    "    edges[a].append(b)\n",
    "    indegree[b] += 1\n",
    "\n",
    "minHeap = []\n",
    "for i in range(N):\n",
    "    if indegree[i] == 0:\n",
    "        heappush(minHeap, i)\n",
    "ans = []\n",
    "while minHeap:\n",
    "    v = heappop(minHeap)\n",
    "    for next in edges[v]:\n",
    "        indegree[next] -= 1\n",
    "        if indegree[next] == 0:\n",
    "            heappush(minHeap, next)\n",
    "    ans.append(v + 1)\n",
    "\n",
    "print(*ans if len(ans) == N else [-1])"
   ]
  },
  {
   "cell_type": "code",
   "execution_count": null,
   "metadata": {},
   "outputs": [],
   "source": []
  }
 ],
 "metadata": {
  "kernelspec": {
   "display_name": "Python 3.10.4 64-bit",
   "language": "python",
   "name": "python3"
  },
  "language_info": {
   "codemirror_mode": {
    "name": "ipython",
    "version": 3
   },
   "file_extension": ".py",
   "mimetype": "text/x-python",
   "name": "python",
   "nbconvert_exporter": "python",
   "pygments_lexer": "ipython3",
   "version": "3.10.4"
  },
  "orig_nbformat": 4,
  "vscode": {
   "interpreter": {
    "hash": "c036f8f3ad2f0d684820dfc35afda6e333e93b801313b3488a29c3dc9dff951a"
   }
  }
 },
 "nbformat": 4,
 "nbformat_minor": 2
}
