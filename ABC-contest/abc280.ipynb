{
 "cells": [
  {
   "cell_type": "code",
   "execution_count": 1,
   "metadata": {},
   "outputs": [
    {
     "name": "stdout",
     "output_type": "stream",
     "text": [
      "1\n"
     ]
    }
   ],
   "source": [
    "H, W = map(int, input().split())\n",
    "cnt = 0\n",
    "for _ in range(H):\n",
    "    s = input()\n",
    "    cnt += s.count('#')\n",
    "print(cnt)"
   ]
  },
  {
   "cell_type": "code",
   "execution_count": null,
   "metadata": {},
   "outputs": [
    {
     "name": "stdout",
     "output_type": "stream",
     "text": [
      "1\n"
     ]
    }
   ],
   "source": [
    "H, W = map(int, input().split())\n",
    "cnt = 0\n",
    "for _ in range(H):\n",
    "    s = input()\n",
    "    cnt += s.count('#')\n",
    "print(cnt)"
   ]
  },
  {
   "cell_type": "code",
   "execution_count": null,
   "metadata": {},
   "outputs": [],
   "source": [
    "N = int(input())\n",
    "S = list(map(int, input().split()))\n",
    "A = []\n",
    "for i in range(N):\n",
    "    if i == 0:\n",
    "        A.append(S[i])\n",
    "    else:\n",
    "        A.append(S[i] - S[i - 1])\n",
    "print(*A)"
   ]
  },
  {
   "cell_type": "code",
   "execution_count": null,
   "metadata": {},
   "outputs": [],
   "source": [
    "S = input()\n",
    "T = input()\n",
    "N = len(S)\n",
    "d = {}\n",
    "for i, s in enumerate(S):\n",
    "    d[i] = s\n",
    "for i in range(N + 1):\n",
    "    if i == N:\n",
    "        print(i + 1)\n",
    "        exit()\n",
    "    if T[i] == d[i]:\n",
    "        continue\n",
    "    else:\n",
    "        print(i + 1)\n",
    "        exit()"
   ]
  },
  {
   "cell_type": "code",
   "execution_count": null,
   "metadata": {},
   "outputs": [],
   "source": [
    "from collections import Counter\n",
    "K = int(input())\n",
    "\n",
    "def primeFactorization(x):\n",
    "    \"\"\"\n",
    "    xを素因数分解\n",
    "    \"\"\"\n",
    "    factors = []\n",
    "    if x == 1:\n",
    "        return [1]\n",
    "    i = 2\n",
    "    while i ** 2 <= x:\n",
    "        if x % i == 0:\n",
    "            factors.append(i)\n",
    "            x //= i\n",
    "        else:\n",
    "            i += 1\n",
    "    if x != 1:\n",
    "        factors.append(x)\n",
    "    return factors\n",
    "\n",
    "fact = primeFactorization(K)\n",
    "fact.sort()\n",
    "se = set(fact)\n",
    "\n",
    "if len(fact) == 1:\n",
    "    print(K)\n",
    "    exit()\n",
    "\n",
    "factCnt = Counter(fact)\n",
    "\n",
    "for i in range(2, K + 1):\n",
    "    Facts = primeFactorization(i)\n",
    "    for f in Facts:\n",
    "        if f in se:\n",
    "            factCnt[f] -= 1\n",
    "            if factCnt[f] == 0:\n",
    "                se.remove(f)\n",
    "    if len(se) == 1 and list(se)[0] > i:\n",
    "        a = list(se)[0]\n",
    "        print(a + factCnt[a] - 1)\n",
    "        exit()\n",
    "    if len(se) == 0:\n",
    "        print(i)\n",
    "        exit()"
   ]
  },
  {
   "cell_type": "code",
   "execution_count": 6,
   "metadata": {},
   "outputs": [
    {
     "data": {
      "text/plain": [
       "1"
      ]
     },
     "execution_count": 6,
     "metadata": {},
     "output_type": "execute_result"
    }
   ],
   "source": [
    "from collections import Counter\n",
    "K = int(input())\n",
    "\n",
    "def primeFactorization(x):\n",
    "    \"\"\"\n",
    "    xを素因数分解\n",
    "    \"\"\"\n",
    "    factors = []\n",
    "    if x == 1:\n",
    "        return [1]\n",
    "    i = 2\n",
    "    while i ** 2 <= x:\n",
    "        if x % i == 0:\n",
    "            factors.append(i)\n",
    "            x //= i\n",
    "        else:\n",
    "            i += 1\n",
    "    if x != 1:\n",
    "        factors.append(x)\n",
    "    return factors\n",
    "\n",
    "fact = primeFactorization(K)\n",
    "fact.sort()\n",
    "se = set(fact)\n",
    "\n",
    "if len(fact) == 1:\n",
    "    print(K)\n",
    "    exit()\n",
    "\n",
    "factCnt = Counter(fact)\n",
    "ans = 1\n",
    "\n",
    "for f in se:\n",
    "    rem = factCnt[f]\n",
    "    i = f\n",
    "    while rem > 0:\n",
    "        cnt_f = Counter(primeFactorization(i))\n",
    "        rem -= cnt_f[f]\n",
    "        if rem > 0:\n",
    "            i += f\n",
    "    ans = max(ans, i)\n",
    "print(ans)"
   ]
  },
  {
   "cell_type": "code",
   "execution_count": 4,
   "metadata": {},
   "outputs": [
    {
     "name": "stdout",
     "output_type": "stream",
     "text": [
      "7\n"
     ]
    }
   ],
   "source": [
    "def primeFactorization(x):\n",
    "    \"\"\"\n",
    "    xを素因数分解(辞書型)\n",
    "    \"\"\"\n",
    "    factors = {}\n",
    "    if x == 1:\n",
    "        return {1: 1}\n",
    "    i = 2\n",
    "    while i ** 2 <= x:\n",
    "        if x % i == 0:\n",
    "            factors[i] = factors.get(i, 0) + 1\n",
    "            x //= i\n",
    "        else:\n",
    "            i += 1\n",
    "    if x != 1:\n",
    "        factors[x] = factors.get(x, 0) + 1\n",
    "    return factors\n",
    "\n",
    "def f(n, k):\n",
    "    if n == k:\n",
    "        return 1\n",
    "    elif n < k:\n",
    "        return 0\n",
    "    return n // k + f(n // k, k)\n",
    "\n",
    "def judge(x): # x!がKで割り切れるかどうか判定\n",
    "    for fact in factors:\n",
    "        if f(x, fact) >= factors[fact]:\n",
    "            continue\n",
    "        else:\n",
    "            return False\n",
    "    return True\n",
    "\n",
    "K = int(input())\n",
    "factors = primeFactorization(K)\n",
    "\n",
    "ng = 1\n",
    "ok = K\n",
    "while abs(ok - ng) > 1:\n",
    "    mid = (ng + ok) // 2\n",
    "    if judge(mid):\n",
    "        ok = mid\n",
    "    else:\n",
    "        ng = mid\n",
    "print(ok)"
   ]
  },
  {
   "cell_type": "code",
   "execution_count": null,
   "metadata": {},
   "outputs": [],
   "source": []
  }
 ],
 "metadata": {
  "kernelspec": {
   "display_name": "Python 3.10.4 64-bit",
   "language": "python",
   "name": "python3"
  },
  "language_info": {
   "codemirror_mode": {
    "name": "ipython",
    "version": 3
   },
   "file_extension": ".py",
   "mimetype": "text/x-python",
   "name": "python",
   "nbconvert_exporter": "python",
   "pygments_lexer": "ipython3",
   "version": "3.10.4"
  },
  "orig_nbformat": 4,
  "vscode": {
   "interpreter": {
    "hash": "c036f8f3ad2f0d684820dfc35afda6e333e93b801313b3488a29c3dc9dff951a"
   }
  }
 },
 "nbformat": 4,
 "nbformat_minor": 2
}
