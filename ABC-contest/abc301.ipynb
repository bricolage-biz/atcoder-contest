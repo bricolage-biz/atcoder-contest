{
 "cells": [
  {
   "cell_type": "code",
   "execution_count": 1,
   "metadata": {},
   "outputs": [
    {
     "name": "stdout",
     "output_type": "stream",
     "text": [
      "1\n"
     ]
    }
   ],
   "source": [
    "N = int(input())\n",
    "S = input()\n",
    "\n",
    "win = (N + (2 - 1)) // 2\n",
    "cntT = 0\n",
    "cntA = 0\n",
    "for i in range(N):\n",
    "    if S[i] == 'T':\n",
    "        cntT += 1\n",
    "        if cntT == win:\n",
    "            print('T')\n",
    "            exit()\n",
    "    else:\n",
    "        cntA += 1\n",
    "        if cntA == win:\n",
    "            print('A')\n",
    "            exit()"
   ]
  },
  {
   "cell_type": "code",
   "execution_count": 17,
   "metadata": {},
   "outputs": [
    {
     "name": "stdout",
     "output_type": "stream",
     "text": [
      "2 3 4 5 range(4, 1, -1) 1 2\n"
     ]
    }
   ],
   "source": [
    "N = int(input())\n",
    "A = list(map(int, input().split()))\n",
    "ans = []\n",
    "for i in range(N - 1):\n",
    "    ans.append(A[i])\n",
    "    if abs(A[i] - A[i + 1]) == 1:\n",
    "        continue\n",
    "    if A[i] < A[i + 1]:\n",
    "        ans.extend(range(A[i] + 1, A[i + 1]))\n",
    "    else:\n",
    "        ans.extend(range(A[i] - 1, A[i + 1], -1))\n",
    "ans.append(A[-1])\n",
    "\n",
    "print(*ans)"
   ]
  },
  {
   "cell_type": "code",
   "execution_count": null,
   "metadata": {},
   "outputs": [],
   "source": [
    "S = input()\n",
    "T = input()\n",
    "cntS = [0] * 27\n",
    "cntT = [0] * 27\n",
    "for s in S:\n",
    "    if s == '@':\n",
    "        cntS[-1] += 1\n",
    "    else:\n",
    "        ind = ord(s) - 97\n",
    "        cntS[ind] += 1\n",
    "for t in T:\n",
    "    if t == '@':\n",
    "        cntT[-1] += 1\n",
    "    else:\n",
    "        ind = ord(t) - 97\n",
    "        cntT[ind] += 1\n",
    "\n",
    "se = {0, 2, 3, 4, 14, 17, 19}\n",
    "for i in range(26):\n",
    "    if cntS[i] == cntT[i]:\n",
    "        continue\n",
    "    if i in se:\n",
    "        if cntS[i] > cntT[i]:\n",
    "            cntT[-1] -= cntS[i] - cntT[i]\n",
    "            if cntT[-1] < 0:\n",
    "                print('No')\n",
    "                exit()\n",
    "        else:\n",
    "            cntS[-1] -= cntT[i] - cntS[i]\n",
    "            if cntS[-1] < 0:\n",
    "                print('No')\n",
    "                exit()\n",
    "    else:\n",
    "        print('No')\n",
    "        exit()\n",
    "print('Yes')"
   ]
  },
  {
   "cell_type": "code",
   "execution_count": 9,
   "metadata": {},
   "outputs": [
    {
     "data": {
      "text/plain": [
       "'101'"
      ]
     },
     "execution_count": 9,
     "metadata": {},
     "output_type": "execute_result"
    }
   ],
   "source": [
    "S = input()\n",
    "N = int(input())\n",
    "binN = format(N, 'b')\n",
    "if len(S) >= len(binN):\n",
    "    binN = '0' * (len(S) - len(binN)) + binN\n",
    "else:\n",
    "    S = '0' * (len(binN) - len(S)) + S\n",
    "M = len(S)\n",
    "ans = [0] * M\n",
    "\n",
    "onesIndices = []\n",
    "for i in range(M):\n",
    "    if binN[i] == '1':\n",
    "        onesIndices.append(i)\n",
    "onesIndices = onesIndices[::-1]\n",
    "\n",
    "if len(onesIndices) == 0:\n",
    "    oneInd = float('inf')\n",
    "else:\n",
    "    oneInd = onesIndices[-1]\n",
    "\n",
    "for i in range(M):\n",
    "    if i < oneInd:\n",
    "        if S[i] == '1':\n",
    "            print(-1)\n",
    "            exit()\n",
    "    else:\n",
    "        if S[i] == '1':\n",
    "            ans[i] = 1\n",
    "            onesIndices.pop()\n",
    "            if len(onesIndices) == 0:\n",
    "                oneInd = float('inf')\n",
    "            else:\n",
    "                oneInd = onesIndices[-1]\n",
    "\n",
    "\n"
   ]
  },
  {
   "cell_type": "code",
   "execution_count": null,
   "metadata": {},
   "outputs": [],
   "source": [
    "S = list(input())\n",
    "N = int(input())\n",
    "\n",
    "def judge(X):\n",
    "    for i in range(len(X)):\n",
    "        if X[i] == '?':\n",
    "            X[i] = '0'\n",
    "    num = int(''.join(X), 2)\n",
    "    return N >= num\n",
    "\n",
    "if not(judge(S[:])):\n",
    "    print(-1)\n",
    "    exit()\n",
    "\n",
    "for i in range(len(S)):\n",
    "    if S[i] == '?':\n",
    "        S[i] = '1'\n",
    "        if judge(S[:]):\n",
    "            continue\n",
    "        else:\n",
    "            S[i] = '0'\n",
    "ans = int(''.join(S), 2)\n",
    "print(ans)"
   ]
  },
  {
   "cell_type": "code",
   "execution_count": null,
   "metadata": {},
   "outputs": [],
   "source": []
  }
 ],
 "metadata": {
  "kernelspec": {
   "display_name": "Python 3",
   "language": "python",
   "name": "python3"
  },
  "language_info": {
   "codemirror_mode": {
    "name": "ipython",
    "version": 3
   },
   "file_extension": ".py",
   "mimetype": "text/x-python",
   "name": "python",
   "nbconvert_exporter": "python",
   "pygments_lexer": "ipython3",
   "version": "3.10.4"
  },
  "orig_nbformat": 4
 },
 "nbformat": 4,
 "nbformat_minor": 2
}
