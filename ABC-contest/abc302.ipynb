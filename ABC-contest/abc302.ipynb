{
 "cells": [
  {
   "cell_type": "code",
   "execution_count": 2,
   "metadata": {},
   "outputs": [
    {
     "name": "stdout",
     "output_type": "stream",
     "text": [
      "499999999999999999\n"
     ]
    }
   ],
   "source": [
    "A, B = map(int, input().split())\n",
    "print((A + (B - 1)) // B)"
   ]
  },
  {
   "cell_type": "code",
   "execution_count": null,
   "metadata": {},
   "outputs": [],
   "source": [
    "H, W = map(int, input().split())\n",
    "S = [list(input()) for _ in range(H)]\n",
    "dr = [1,1,0,-1,-1,-1,0,1]\n",
    "dc = [0,1,1,1,0,-1,-1,-1]\n",
    "ch = 'snuke'\n",
    "\n",
    "def solve(r, c):\n",
    "    for d in range(8):\n",
    "        for k in range(5):\n",
    "            if (r + dr[d] * k in range(H)\n",
    "            and c + dc[d] * k in range(W)\n",
    "            and S[r + dr[d] * k][c + dc[d] * k] == ch[k]):\n",
    "                continue\n",
    "            else:\n",
    "                break\n",
    "        else:\n",
    "            for k in range(5):\n",
    "                print(r + dr[d] * k + 1, c + dc[d] * k + 1)\n",
    "            return True\n",
    "    return False\n",
    "\n",
    "for i in range(H):\n",
    "    for j in range(W):\n",
    "        if S[i][j] == 's' and solve(i, j):\n",
    "            exit()"
   ]
  },
  {
   "cell_type": "code",
   "execution_count": 3,
   "metadata": {},
   "outputs": [
    {
     "name": "stdout",
     "output_type": "stream",
     "text": [
      "(0, 1, 2)\n",
      "(0, 2, 1)\n",
      "(1, 0, 2)\n",
      "(1, 2, 0)\n",
      "(2, 0, 1)\n",
      "(2, 1, 0)\n"
     ]
    }
   ],
   "source": [
    "from itertools import permutations\n",
    "\n",
    "N, M = map(int, input().split())\n",
    "S = []\n",
    "for _ in range(N):\n",
    "    S.append(input())\n",
    "\n",
    "def almost_same(A, B):\n",
    "    cnt = 0\n",
    "    for i in range(M):\n",
    "        if A[i] != B[i]:\n",
    "            cnt += 1\n",
    "    return cnt == 1\n",
    "\n",
    "for perm in permutations(range(N)):\n",
    "    for i in range(N - 1):\n",
    "        if almost_same(S[perm[i]], S[perm[i + 1]]):\n",
    "            continue\n",
    "        else:\n",
    "            break\n",
    "    else:\n",
    "        print('Yes')\n",
    "        exit()\n",
    "print('No')"
   ]
  },
  {
   "cell_type": "code",
   "execution_count": null,
   "metadata": {},
   "outputs": [],
   "source": [
    "from bisect import bisect_right\n",
    "\n",
    "N, M, D = map(int, input().split())\n",
    "A = list(map(int, input().split()))\n",
    "B = list(map(int, input().split()))\n",
    "A.sort()\n",
    "B.sort()\n",
    "\n",
    "ans = -1\n",
    "for a in A:\n",
    "    i = bisect_right(B, a + D) - 1\n",
    "    if i >= 0 and abs(a - B[i]) <= D:\n",
    "        ans = max(ans, a + B[i])\n",
    "print(ans)"
   ]
  },
  {
   "cell_type": "code",
   "execution_count": 11,
   "metadata": {},
   "outputs": [
    {
     "data": {
      "text/plain": [
       "0"
      ]
     },
     "execution_count": 11,
     "metadata": {},
     "output_type": "execute_result"
    }
   ],
   "source": [
    "from bisect import bisect_right\n",
    "ls = [0, 1, 2]\n",
    "bisect_right(ls, 0.1) - 1"
   ]
  },
  {
   "cell_type": "code",
   "execution_count": null,
   "metadata": {},
   "outputs": [],
   "source": [
    "N, Q = map(int, input().split())\n",
    "cntE = [0] * N\n",
    "edges = {v: set() for v in range(N)}\n",
    "ans = N\n",
    "\n",
    "for _ in range(Q):\n",
    "    ind, *query = list(map(int, input().split()))\n",
    "    if ind == 1:\n",
    "        u, v = query[0] - 1, query[1] - 1\n",
    "        edges[u].add(v)\n",
    "        edges[v].add(u)\n",
    "        if cntE[u] == 0:\n",
    "            ans -= 1\n",
    "        if cntE[v] == 0:\n",
    "            ans -= 1\n",
    "        cntE[u] += 1\n",
    "        cntE[v] += 1\n",
    "        print(ans)\n",
    "    else:\n",
    "        v = query[0] - 1\n",
    "        for node in edges[v]:\n",
    "            cntE[node] -= 1\n",
    "            if cntE[node] == 0:\n",
    "                ans += 1\n",
    "            edges[node].remove(v)\n",
    "        \n",
    "        if cntE[v] != 0:\n",
    "            ans += 1\n",
    "        edges[v].clear()\n",
    "        cntE[v] = 0\n",
    "        print(ans)"
   ]
  },
  {
   "cell_type": "code",
   "execution_count": 8,
   "metadata": {},
   "outputs": [
    {
     "name": "stdout",
     "output_type": "stream",
     "text": [
      "{0, 1, 2}\n"
     ]
    }
   ],
   "source": [
    "se = set()\n",
    "se.add(0)\n",
    "se.add(1)\n",
    "se.add(2)\n",
    "# se.clear()\n",
    "print(se)"
   ]
  },
  {
   "cell_type": "code",
   "execution_count": 13,
   "metadata": {},
   "outputs": [
    {
     "data": {
      "text/plain": [
       "{'b': 1, 'a': 2}"
      ]
     },
     "execution_count": 13,
     "metadata": {},
     "output_type": "execute_result"
    }
   ],
   "source": [
    "dic1 = {'b': 1}\n",
    "dic2 = {'a': 2}\n",
    "dic1.update(dic2)\n",
    "dic1"
   ]
  },
  {
   "cell_type": "code",
   "execution_count": null,
   "metadata": {},
   "outputs": [],
   "source": []
  }
 ],
 "metadata": {
  "kernelspec": {
   "display_name": "Python 3",
   "language": "python",
   "name": "python3"
  },
  "language_info": {
   "codemirror_mode": {
    "name": "ipython",
    "version": 3
   },
   "file_extension": ".py",
   "mimetype": "text/x-python",
   "name": "python",
   "nbconvert_exporter": "python",
   "pygments_lexer": "ipython3",
   "version": "3.10.4"
  },
  "orig_nbformat": 4
 },
 "nbformat": 4,
 "nbformat_minor": 2
}
