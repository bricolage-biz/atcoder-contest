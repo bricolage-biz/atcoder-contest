{
 "cells": [
  {
   "cell_type": "code",
   "execution_count": 26,
   "metadata": {},
   "outputs": [
    {
     "name": "stdout",
     "output_type": "stream",
     "text": [
      "No\n"
     ]
    }
   ],
   "source": [
    "se = {\"and\", \"not\", \"that\", \"the\", \"you\"}\n",
    "N = int(input())\n",
    "W = input().split()\n",
    "\n",
    "for w in W:\n",
    "    if w in se:\n",
    "        print('Yes')\n",
    "        exit()\n",
    "print('No')"
   ]
  },
  {
   "cell_type": "code",
   "execution_count": null,
   "metadata": {},
   "outputs": [],
   "source": [
    "R, C = map(int, input().split())\n",
    "B = []\n",
    "for i in range(R):\n",
    "    a = list(input())\n",
    "    B.append(a)\n",
    "Boms = []\n",
    "nums = '123456789'\n",
    "for i in range(R):\n",
    "    for j in range(C):\n",
    "        if B[i][j] in nums:\n",
    "            Boms.append([(i, j), int(B[i][j])])\n",
    "\n",
    "for b in Boms:\n",
    "    p = b[1]\n",
    "    x, y = b[0][0], b[0][1]\n",
    "    B[x][y] = '.'\n",
    "    for dcol in range(-p, p + 1):\n",
    "        rY = p - abs(dcol)\n",
    "        for drow in range(-rY, rY + 1):\n",
    "            if (y + dcol in range(C) \n",
    "                and x + drow in range(R)\n",
    "                and B[x + drow][y + dcol] == '#'):\n",
    "                B[x + drow][y + dcol] = '.'\n",
    "\n",
    "for i in range(R):\n",
    "    print(''.join(B[i]))"
   ]
  },
  {
   "cell_type": "code",
   "execution_count": 25,
   "metadata": {},
   "outputs": [
    {
     "ename": "ValueError",
     "evalue": "not enough values to unpack (expected 2, got 0)",
     "output_type": "error",
     "traceback": [
      "\u001b[1;31m---------------------------------------------------------------------------\u001b[0m",
      "\u001b[1;31mValueError\u001b[0m                                Traceback (most recent call last)",
      "\u001b[1;32mc:\\Users\\yamaguchi_sueko\\Documents\\atcoder\\abc295.ipynb セル 3\u001b[0m in \u001b[0;36m<cell line: 1>\u001b[1;34m()\u001b[0m\n\u001b[1;32m----> <a href='vscode-notebook-cell:/c%3A/Users/yamaguchi_sueko/Documents/atcoder/abc295.ipynb#X11sZmlsZQ%3D%3D?line=0'>1</a>\u001b[0m R, C \u001b[39m=\u001b[39m \u001b[39mmap\u001b[39m(\u001b[39mint\u001b[39m, \u001b[39minput\u001b[39m()\u001b[39m.\u001b[39msplit())\n\u001b[0;32m      <a href='vscode-notebook-cell:/c%3A/Users/yamaguchi_sueko/Documents/atcoder/abc295.ipynb#X11sZmlsZQ%3D%3D?line=1'>2</a>\u001b[0m B \u001b[39m=\u001b[39m [\u001b[39mlist\u001b[39m(\u001b[39minput\u001b[39m()) \u001b[39mfor\u001b[39;00m _ \u001b[39min\u001b[39;00m \u001b[39mrange\u001b[39m(R)]\n\u001b[0;32m      <a href='vscode-notebook-cell:/c%3A/Users/yamaguchi_sueko/Documents/atcoder/abc295.ipynb#X11sZmlsZQ%3D%3D?line=2'>3</a>\u001b[0m A \u001b[39m=\u001b[39m [[\u001b[39mFalse\u001b[39;00m] \u001b[39m*\u001b[39m C \u001b[39mfor\u001b[39;00m _ \u001b[39min\u001b[39;00m \u001b[39mrange\u001b[39m(R)]\n",
      "\u001b[1;31mValueError\u001b[0m: not enough values to unpack (expected 2, got 0)"
     ]
    }
   ],
   "source": [
    "R, C = map(int, input().split())\n",
    "B = [list(input()) for _ in range(R)] #gridをつかうとき便利\n",
    "# 爆弾の影響範囲かどうかを保管するgridを用意しておく。\n",
    "A = [[False] * C for _ in range(R)]\n",
    "\n",
    "for i in range(R):\n",
    "    for j in range(C):\n",
    "        if B[i][j].isnumeric():\n",
    "            for ii in range(R):\n",
    "                for jj in range(C):\n",
    "                    if abs(ii - i) + abs(jj - j) <= int(B[i][j]):\n",
    "                        A[ii][jj] = True\n",
    "for i in range(R):\n",
    "    for j in range(C):\n",
    "        if A[i][j]:\n",
    "            B[i][j] = '.'\n",
    "for row in range(R):\n",
    "    print(*B[row], sep='') #　''.join(B[row])を使うより実践的か？"
   ]
  },
  {
   "cell_type": "code",
   "execution_count": 12,
   "metadata": {},
   "outputs": [
    {
     "data": {
      "text/plain": [
       "True"
      ]
     },
     "execution_count": 12,
     "metadata": {},
     "output_type": "execute_result"
    }
   ],
   "source": [
    "from collections import Counter\n",
    "N = int(input())\n",
    "A = list(map(int, input().split()))\n",
    "cntA = Counter(A)\n",
    "ans = 0\n",
    "\n",
    "for a in cntA:\n",
    "    ans += cntA[a] // 2\n",
    "print(ans)"
   ]
  },
  {
   "cell_type": "code",
   "execution_count": null,
   "metadata": {},
   "outputs": [],
   "source": [
    "N = int(input())\n",
    "A = list(map(int, input().split()))\n",
    "cnt = {}\n",
    "for a in A:\n",
    "    cnt[a] = cnt.get(a, 0) + 1\n",
    "\n",
    "ans = sum(v // 2 for v in cnt.values())\n",
    "print(ans)"
   ]
  },
  {
   "cell_type": "code",
   "execution_count": null,
   "metadata": {},
   "outputs": [],
   "source": [
    "import math\n",
    "\n",
    "S = input()\n",
    "N = len(S)\n",
    "cntS = [[0] * (N + 1) for _ in range(10)]\n",
    "\n",
    "def comb(n, k):\n",
    "    return math.factorial(n) // (math.factorial(n - k) * math.factorial(k))\n",
    "\n",
    "for r in range(N):\n",
    "    for i in range(10):\n",
    "        if i == int(S[r]):\n",
    "            cntS[i][r + 1] = cntS[i][r] ^ 1\n",
    "        else:\n",
    "            cntS[i][r + 1] = cntS[i][r]\n",
    "\n",
    "parities = {}\n",
    "for r in range(N + 1):\n",
    "    parity = []\n",
    "    for i in range(10):\n",
    "        parity.append(cntS[i][r])\n",
    "    parity = tuple(parity)\n",
    "    parities[parity] = parities.get(parity, 0) + 1\n",
    "\n",
    "ans = 0\n",
    "for p in parities:\n",
    "    if parities[p] < 2:\n",
    "        continue\n",
    "    ans += comb(parities[p], 2)\n",
    "print(ans)"
   ]
  },
  {
   "cell_type": "code",
   "execution_count": null,
   "metadata": {},
   "outputs": [],
   "source": [
    "import math\n",
    "\n",
    "S = input()\n",
    "N = len(S)\n",
    "# cntS[r][i]: Sのr文字目までの、整数iの登場回数をmod2したもの\n",
    "cntS = [[0] * 10 for _ in range(N + 1)]\n",
    "\n",
    "def comb(n, k):\n",
    "    return math.factorial(n) // (math.factorial(n - k) * math.factorial(k))\n",
    "\n",
    "for r in range(N):\n",
    "    for i in range(10):\n",
    "        if i == int(S[r]):\n",
    "            cntS[r + 1][i] = cntS[r][i] ^ 1\n",
    "        else:\n",
    "            cntS[r + 1][i] = cntS[r][i]\n",
    "\n",
    "parities = {}\n",
    "for r in range(N + 1):\n",
    "    parity = tuple(cntS[r])\n",
    "    parities[parity] = parities.get(parity, 0) + 1\n",
    "\n",
    "ans = 0\n",
    "for p in parities:\n",
    "    if parities[p] < 2:\n",
    "        continue\n",
    "    ans += comb(parities[p], 2)\n",
    "print(ans)"
   ]
  },
  {
   "cell_type": "code",
   "execution_count": 12,
   "metadata": {},
   "outputs": [
    {
     "data": {
      "text/plain": [
       "4"
      ]
     },
     "execution_count": 12,
     "metadata": {},
     "output_type": "execute_result"
    }
   ],
   "source": []
  },
  {
   "cell_type": "code",
   "execution_count": null,
   "metadata": {},
   "outputs": [],
   "source": []
  }
 ],
 "metadata": {
  "kernelspec": {
   "display_name": "Python 3",
   "language": "python",
   "name": "python3"
  },
  "language_info": {
   "codemirror_mode": {
    "name": "ipython",
    "version": 3
   },
   "file_extension": ".py",
   "mimetype": "text/x-python",
   "name": "python",
   "nbconvert_exporter": "python",
   "pygments_lexer": "ipython3",
   "version": "3.10.4"
  },
  "orig_nbformat": 4
 },
 "nbformat": 4,
 "nbformat_minor": 2
}
