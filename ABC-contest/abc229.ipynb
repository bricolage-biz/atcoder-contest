{
 "cells": [
  {
   "cell_type": "code",
   "execution_count": 1,
   "metadata": {},
   "outputs": [
    {
     "name": "stdout",
     "output_type": "stream",
     "text": [
      "1\n"
     ]
    }
   ],
   "source": [
    "# 尺取法deque実装\n",
    "from collections import deque\n",
    "S = input()\n",
    "K = int(input())\n",
    "N = len(S)\n",
    "\n",
    "ans = 0\n",
    "rem = K\n",
    "que = deque()\n",
    "for i in range(N):\n",
    "    que.append(S[i])\n",
    "    if S[i] == '.':\n",
    "        rem -= 1\n",
    "    while rem < 0:\n",
    "        rm = que.popleft()\n",
    "        if rm == '.':\n",
    "            rem += 1\n",
    "    ans = max(ans, len(que))\n",
    "print(ans)"
   ]
  },
  {
   "cell_type": "code",
   "execution_count": 3,
   "metadata": {},
   "outputs": [
    {
     "name": "stdout",
     "output_type": "stream",
     "text": [
      "4\n"
     ]
    }
   ],
   "source": [
    "# 二分探索で実装\n",
    "S = input()\n",
    "K = int(input())\n",
    "N = len(S)\n",
    "\n",
    "ans = 0\n",
    "# tot[r]はS[0] ~ S[r - 1]の`.`の個数\n",
    "tot = [0]\n",
    "for i in range(N):\n",
    "    if S[i] == '.':\n",
    "        tot.append(tot[-1] + 1)\n",
    "    else:\n",
    "        tot.append(tot[-1])\n",
    "\n",
    "# コーナーケースの処理\n",
    "if tot[-1] == N and K == 0:\n",
    "    print(0)\n",
    "    exit()\n",
    "\n",
    "ans = 0\n",
    "for l in range(N):\n",
    "    ok = l\n",
    "    ng = N\n",
    "    while abs(ng - ok) > 1:\n",
    "        mid = (ng + ok) // 2\n",
    "        if tot[mid + 1] - tot[l] <= K:\n",
    "            ok = mid\n",
    "        else:\n",
    "            ng = mid\n",
    "    ans = max(ans, ok - l + 1)\n",
    "print(ans)"
   ]
  },
  {
   "cell_type": "code",
   "execution_count": null,
   "metadata": {},
   "outputs": [],
   "source": []
  }
 ],
 "metadata": {
  "kernelspec": {
   "display_name": "Python 3.10.4 64-bit",
   "language": "python",
   "name": "python3"
  },
  "language_info": {
   "codemirror_mode": {
    "name": "ipython",
    "version": 3
   },
   "file_extension": ".py",
   "mimetype": "text/x-python",
   "name": "python",
   "nbconvert_exporter": "python",
   "pygments_lexer": "ipython3",
   "version": "3.10.4"
  },
  "orig_nbformat": 4,
  "vscode": {
   "interpreter": {
    "hash": "c036f8f3ad2f0d684820dfc35afda6e333e93b801313b3488a29c3dc9dff951a"
   }
  }
 },
 "nbformat": 4,
 "nbformat_minor": 2
}
