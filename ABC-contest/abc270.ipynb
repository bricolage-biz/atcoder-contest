{
 "cells": [
  {
   "cell_type": "code",
   "execution_count": 1,
   "metadata": {},
   "outputs": [
    {
     "name": "stdout",
     "output_type": "stream",
     "text": [
      "3\n"
     ]
    }
   ],
   "source": [
    "A, B = map(int, input().split())\n",
    "print(A|B)"
   ]
  },
  {
   "cell_type": "code",
   "execution_count": null,
   "metadata": {},
   "outputs": [],
   "source": [
    "x, y, z = map(int, input().split())\n",
    "if x < 0:\n",
    "    x = -x\n",
    "    y = -y\n",
    "    z = -z\n",
    "\n",
    "if not (0 < y < x):\n",
    "    print(x)\n",
    "    exit()\n",
    "if 0 < z < y:\n",
    "    print(x)\n",
    "    exit()\n",
    "if z < 0:\n",
    "    print(abs(z) * 2 + x)\n",
    "    exit()\n",
    "else:\n",
    "    print(-1)"
   ]
  },
  {
   "cell_type": "code",
   "execution_count": null,
   "metadata": {},
   "outputs": [],
   "source": [
    "from collections import defaultdict, deque\n",
    "N, X, Y = map(int, input().split())\n",
    "edges = defaultdict(list)\n",
    "for _ in range(N - 1):\n",
    "    u, v = map(int, input().split())\n",
    "    edges[u].append(v)\n",
    "    edges[v].append(u)\n",
    "\n",
    "def bfs(s, t):\n",
    "    visited = set()\n",
    "    before = [-1] * (N + 1)\n",
    "    que = deque()\n",
    "    que.append(s)\n",
    "    visited.add(s)\n",
    "    while que:\n",
    "        v = que.popleft()\n",
    "        for next in edges[v]:\n",
    "            if next in visited:\n",
    "                continue\n",
    "            before[next] = v\n",
    "            if next != t:\n",
    "                que.append(next)\n",
    "                visited.add(next)\n",
    "                continue\n",
    "            if next == t:\n",
    "                now = t\n",
    "                ans = []\n",
    "                ans.append(now)\n",
    "                while now != s:\n",
    "                    now = before[now]\n",
    "                    ans.append(now)\n",
    "                return ans[::-1]\n",
    "\n",
    "print(*bfs(X, Y))"
   ]
  },
  {
   "cell_type": "code",
   "execution_count": null,
   "metadata": {},
   "outputs": [],
   "source": [
    "# D 枝刈り全探索で解く\n",
    "import sys\n",
    "sys.setrecursionlimit(10 ** 5)\n",
    "\n",
    "N, K = map(int, input().split())\n",
    "A = list(map(int, input().split()))\n",
    "score = {}\n",
    "\n",
    "def dfs(i, j):\n",
    "    if j == 0:\n",
    "        return 0\n",
    "    if (i, j) in score:\n",
    "        return score[(i, j)]\n",
    "\n",
    "    if i == 0:\n",
    "        ret = -1 << 61\n",
    "    else:\n",
    "        ret = 1 << 61\n",
    "    for a in A:\n",
    "        if j - a < 0:\n",
    "            continue\n",
    "        if i == 0:\n",
    "            ret = max(ret, a + dfs(i ^ 1, j - a))\n",
    "        else:\n",
    "            ret = min(ret, dfs(i ^ 1, j - a))\n",
    "    score[(i, j)] = ret\n",
    "    return ret\n",
    "\n",
    "print(dfs(0, N))"
   ]
  },
  {
   "cell_type": "code",
   "execution_count": 4,
   "metadata": {},
   "outputs": [
    {
     "name": "stdout",
     "output_type": "stream",
     "text": [
      "[[0, 1, 1, 2, 4, 4, 5, 5, 4, 5, 5], [0, 0, 1, 1, 0, 1, 1, 2, 4, 4, 5]]\n",
      "5\n"
     ]
    }
   ],
   "source": [
    "# D\n",
    "N, K = map(int, input().split())\n",
    "A = list(map(int, input().split()))\n",
    "# dp[i][j]をi番目の人(0のとき高橋君、1を青木君)が手番で山にj個石が残っているときの高橋君の最終的な石の取り分\n",
    "dp = [[0] * (N + 1) for _ in range(2)]\n",
    "inf = 1 << 61\n",
    "for j in range(1, N + 1):\n",
    "    dp[1][j] = inf\n",
    "\n",
    "for j in range(1, N + 1):\n",
    "    # i = 0のとき\n",
    "    for a in A:\n",
    "        if j - a >= 0:\n",
    "            dp[0][j] = max(dp[0][j], a + dp[1][j - a])\n",
    "    # i = 1のとき\n",
    "    for a in A:\n",
    "        if j - a >= 0:\n",
    "            dp[1][j] = min(dp[1][j], dp[0][j - a])\n",
    "\n",
    "print(dp[0][N])"
   ]
  },
  {
   "cell_type": "code",
   "execution_count": null,
   "metadata": {},
   "outputs": [],
   "source": [
    "# D 枝刈り全探索で解く\n",
    "import sys\n",
    "sys.setrecursionlimit(10 ** 5)\n",
    "\n",
    "N, K = map(int, input().split())\n",
    "A = list(map(int, input().split()))\n",
    "score = {}\n",
    "\n",
    "def dfs(i, j):\n",
    "    if j == 0:\n",
    "        return 0\n",
    "    if (i, j) in score:\n",
    "        return score[(i, j)]\n",
    "\n",
    "    if i == 0:\n",
    "        for a in A:\n",
    "            if j - a >= 0:\n",
    "                ret = max(-1 << 61, a + dfs(1, j - a))\n",
    "    else:\n",
    "        for a in A:\n",
    "            if j - a >= 0:\n",
    "                ret = min(1 << 61, dfs(0, j - a))\n",
    "    score[(i, j)]\n",
    "    return ret\n",
    "\n",
    "print(dfs(0, N))\n"
   ]
  },
  {
   "cell_type": "code",
   "execution_count": 1,
   "metadata": {},
   "outputs": [
    {
     "ename": "",
     "evalue": "",
     "output_type": "error",
     "traceback": [
      "\u001b[1;31mCanceled future for execute_request message before replies were done"
     ]
    },
    {
     "ename": "",
     "evalue": "",
     "output_type": "error",
     "traceback": [
      "\u001b[1;31m現在のセルまたは前のセルでコードを実行中に、カーネルがクラッシュしました。エラーの原因を特定するには、セル内のコードを確認してください。詳細については、<a href='https://aka.ms/vscodeJupyterKernelCrash'>こちら</a> をクリックしてください。さらなる詳細については、Jupyter [log] (command:jupyter.viewOutput) を参照してください。"
     ]
    }
   ],
   "source": [
    "import sys\n",
    "sys.setrecursionlimit(10 ** 5)\n",
    "\n",
    "n, k = map(int, input().split())\n",
    "A = list(map(int, input().split()))\n",
    "\n",
    "memo = {}\n",
    "def dfs(n, t):\n",
    "    if n == 0:\n",
    "        return 0\n",
    "    tmp = 2 * n + t\n",
    "    if tmp in memo:\n",
    "        return memo[tmp]\n",
    "\n",
    "    if t == 1:\n",
    "        ret = -1 << 30\n",
    "    else:\n",
    "        ret = 1 << 30\n",
    "    for a in A:\n",
    "        if a > n:\n",
    "            break\n",
    "        x = dfs(n - a, t ^ 1)\n",
    "        if t == 1:\n",
    "            ret = max(ret, x + a)\n",
    "        else:\n",
    "            ret = min(ret, x - a)\n",
    "    memo[tmp] = ret\n",
    "    return ret\n",
    "\n",
    "pm = dfs(n, 1)\n",
    "ans = (n + pm) // 2\n",
    "print(ans)\n"
   ]
  },
  {
   "cell_type": "code",
   "execution_count": null,
   "metadata": {},
   "outputs": [],
   "source": [
    "# E\n",
    "N, K =map(int, input().split())\n",
    "A = list(map(int, input().split()))\n",
    "As = [0] + sorted(A)\n",
    "\n",
    "def cnt(k): # k周したときの高橋君が食べたリンゴの数\n",
    "    score = 0\n",
    "    for a in As:\n",
    "        score += min(a, k)\n",
    "    return score\n",
    "\n",
    "# ok周したときまだリンゴが残っていて、ng周してしまうとリンゴが残らないとして二分探索\n",
    "ok = 0\n",
    "ng = K + 1\n",
    "while abs(ng - ok) > 1:\n",
    "    mid = (ok + ng) // 2\n",
    "    if cnt(mid) <= K:\n",
    "        ok = mid\n",
    "    else:\n",
    "        ng = mid\n",
    "\n",
    "rem = K - cnt(ok)\n",
    "Arem = [max(0, a - ok) for a in A]\n",
    "\n",
    "# i = 0\n",
    "# while rem > 0:\n",
    "#     if Arem[i] > 0:\n",
    "#         Arem[i] -= 1\n",
    "#         rem -= 1\n",
    "#     i += 1\n",
    "\n",
    "for i in range(N):\n",
    "    if rem > 0 and Arem[i] > 0:\n",
    "        Arem[i] -= 1\n",
    "        rem -= 1\n",
    "\n",
    "print(*Arem)"
   ]
  },
  {
   "cell_type": "code",
   "execution_count": 8,
   "metadata": {},
   "outputs": [
    {
     "name": "stdout",
     "output_type": "stream",
     "text": [
      "500000000000 500000000000\n"
     ]
    }
   ],
   "source": [
    "# E二回目\n",
    "N, K = map(int, input().split())\n",
    "A = list(map(int, input().split()))\n",
    "\n",
    "# 高橋君がx周したとき食べたリンゴの個数\n",
    "def cnt(x):\n",
    "    ret = 0\n",
    "    for a in A:\n",
    "        ret += min(a, x)\n",
    "    return ret\n",
    "\n",
    "# ok周では高橋君が食べるリンゴがまだ1個以上残っていて、ng周では残っていない\n",
    "ok = 0\n",
    "ng = 1 << 61\n",
    "while abs(ok - ng) > 1:\n",
    "    mid = (ok + ng) // 2\n",
    "    if cnt(mid) < K:\n",
    "        ok = mid\n",
    "    else:\n",
    "        ng = mid\n",
    "\n",
    "remA = [max(a - ok, 0) for a in A]\n",
    "rem = K - cnt(ok)\n",
    "i = 0\n",
    "while rem:\n",
    "    if remA[i] > 0:\n",
    "        remA[i] -= 1\n",
    "        rem -= 1\n",
    "    i += 1    \n",
    "\n",
    "print(*remA)"
   ]
  },
  {
   "cell_type": "code",
   "execution_count": null,
   "metadata": {},
   "outputs": [],
   "source": []
  }
 ],
 "metadata": {
  "kernelspec": {
   "display_name": "Python 3.10.4 64-bit",
   "language": "python",
   "name": "python3"
  },
  "language_info": {
   "codemirror_mode": {
    "name": "ipython",
    "version": 3
   },
   "file_extension": ".py",
   "mimetype": "text/x-python",
   "name": "python",
   "nbconvert_exporter": "python",
   "pygments_lexer": "ipython3",
   "version": "3.10.4"
  },
  "orig_nbformat": 4,
  "vscode": {
   "interpreter": {
    "hash": "c036f8f3ad2f0d684820dfc35afda6e333e93b801313b3488a29c3dc9dff951a"
   }
  }
 },
 "nbformat": 4,
 "nbformat_minor": 2
}
