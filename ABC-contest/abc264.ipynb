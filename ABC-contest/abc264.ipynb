{
 "cells": [
  {
   "cell_type": "code",
   "execution_count": 11,
   "metadata": {},
   "outputs": [
    {
     "name": "stdout",
     "output_type": "stream",
     "text": [
      "o\n"
     ]
    }
   ],
   "source": [
    "s = 'atcoder'\n",
    "l, r = map(int, input().split())\n",
    "print(s[l-1:r])"
   ]
  },
  {
   "cell_type": "code",
   "execution_count": 18,
   "metadata": {},
   "outputs": [
    {
     "name": "stdout",
     "output_type": "stream",
     "text": [
      "white\n"
     ]
    }
   ],
   "source": [
    "# B\n",
    "r, c = map(int, input().split())\n",
    "r -= 1\n",
    "c -= 1\n",
    "r = min(r, 14 - r)\n",
    "c = min(c, 14 - c)\n",
    "\n",
    "x = min(r, c)\n",
    "if x % 2 == 0:\n",
    "    print(\"black\")\n",
    "else:\n",
    "    print(\"white\")"
   ]
  },
  {
   "cell_type": "code",
   "execution_count": 2,
   "metadata": {},
   "outputs": [
    {
     "name": "stdout",
     "output_type": "stream",
     "text": [
      "white\n"
     ]
    }
   ],
   "source": [
    "# B別解\n",
    "r, c = map(int, input().split())\n",
    "r, c = abs(r - 8), abs(c - 8)\n",
    "dist = max(r, c)\n",
    "print('white' if dist % 2 == 0 else 'black')"
   ]
  },
  {
   "cell_type": "code",
   "execution_count": null,
   "metadata": {},
   "outputs": [],
   "source": [
    "# C\n",
    "from itertools import product\n",
    "\n",
    "rowA, colA = map(int, input().split())\n",
    "A = []\n",
    "for _ in range(rowA):\n",
    "    A.append(list(map(int, input().split())))\n",
    "    \n",
    "rowB, colB = map(int, input().split())\n",
    "B = []\n",
    "for _ in range(rowB):\n",
    "    B.append(list(map(int, input().split())))\n",
    "\n",
    "for bits in product(range(2), repeat= rowA + colA):\n",
    "    bitRow = bits[:rowA]\n",
    "    bitCol = bits[rowA:]\n",
    "    newA = []\n",
    "    for i in range(rowA):\n",
    "        if bitRow[i] == 0:\n",
    "            continue\n",
    "        else:\n",
    "            newRow = []\n",
    "            for j in range(colA):\n",
    "                if bitCol[j] == 1:\n",
    "                    newRow.append(A[i][j])\n",
    "            if len(newRow) == 0:\n",
    "                continue\n",
    "            else:\n",
    "                newA.append(newRow)\n",
    "    if newA == B:\n",
    "        print('Yes')\n",
    "        exit()\n",
    "print('No')"
   ]
  },
  {
   "cell_type": "code",
   "execution_count": 14,
   "metadata": {},
   "outputs": [
    {
     "data": {
      "text/plain": [
       "2"
      ]
     },
     "execution_count": 14,
     "metadata": {},
     "output_type": "execute_result"
    }
   ],
   "source": [
    "# C別解\n",
    "def solve():\n",
    "    def judge(bit_r, bit_c):\n",
    "        A2 = []\n",
    "        for row in range(H1):\n",
    "            if not (bit_r >> row & 1):\n",
    "                continue\n",
    "            else:\n",
    "                V = []\n",
    "                for col in range(W1):\n",
    "                    if bit_c >> col & 1:\n",
    "                        V.append(A[row][col])\n",
    "                A2.append(V)\n",
    "        return A2 == B\n",
    "\n",
    "    H1, W1 = map(int, input().split())\n",
    "    A = [list(map(int, input().split())) for _ in range(H1)]\n",
    "    H2, W2 = map(int, input().split())\n",
    "    B = [list(map(int, input().split())) for _ in range(H2)]\n",
    "    for bit_r in range(1 << H1):\n",
    "        for bit_c in range(1 << W1):\n",
    "            if judge(bit_r, bit_c):\n",
    "                return True\n",
    "    return False\n",
    "\n",
    "print('Yes' if solve() else 'No')"
   ]
  },
  {
   "cell_type": "code",
   "execution_count": null,
   "metadata": {},
   "outputs": [],
   "source": [
    "# D\n",
    "S = list(input())\n",
    "goal = \"atcoder\"\n",
    "order = {}\n",
    "for i, s in enumerate(goal):\n",
    "    order[s] = i\n",
    "\n",
    "pos = 0\n",
    "cnt = 0\n",
    "while pos != 7:\n",
    "    for i in range(6, -1, -1):\n",
    "        if S[i] != goal[pos]:\n",
    "            continue\n",
    "        else:\n",
    "            if i == order[goal[pos]]:\n",
    "                pos += 1\n",
    "                break\n",
    "            else:\n",
    "                S[i], S[i-1] = S[i-1], S[i]\n",
    "                cnt += 1\n",
    "                break\n",
    "print(cnt)"
   ]
  },
  {
   "cell_type": "code",
   "execution_count": 6,
   "metadata": {},
   "outputs": [
    {
     "name": "stdout",
     "output_type": "stream",
     "text": [
      "0\n"
     ]
    }
   ],
   "source": [
    "# D別解\n",
    "S = input()\n",
    "P = 'atcoder'\n",
    "N = len(P)\n",
    "L = [P.index(c) for c in S]\n",
    "\n",
    "ans = 0\n",
    "for i in range(N - 1):\n",
    "    for j in range(N - i - 1):\n",
    "        if L[j] > L[j + 1]:\n",
    "            L[j], L[j + 1] = L[j + 1], L[j]\n",
    "            ans += 1\n",
    "print(ans)"
   ]
  },
  {
   "cell_type": "code",
   "execution_count": 39,
   "metadata": {},
   "outputs": [],
   "source": [
    "class UnionFind():\n",
    "    def __init__(self, nodes):\n",
    "        self.n = len(no\n",
    "        des)\n",
    "        self.parents = {v: v for v in nodes}\n",
    "        self.size = {v: 1 for v in nodes}\n",
    "\n",
    "    def find(self, x):\n",
    "        if self.parents[x] == x:\n",
    "            return x\n",
    "        else:\n",
    "            self.parents[x] = self.find(self.parents[x])\n",
    "            return self.parents[x]\n",
    "\n",
    "    def union(self, x, y):\n",
    "        x = self.find(x)\n",
    "        y = self.find(y)\n",
    "\n",
    "        if x == y:\n",
    "            return\n",
    "        if self.parents[x] > self.parents[y]:\n",
    "            self.size[x] += self.size[y]\n",
    "            self.parents[y] = x\n",
    "        else:\n",
    "            self.size[y] += self.size[x]\n",
    "            self.parents[x] = y\n",
    "\n",
    "N, M, E = map(int, input().split())\n",
    "nodes = list(range(1, N + M + 1))\n",
    "UFT = UnionFind(nodes)\n",
    "edges = {}\n",
    "for i in range(1, E + 1):\n",
    "    edges[i] = tuple(map(int, input().split()))\n",
    "\n",
    "Q = int(input())\n",
    "qlst = []\n",
    "for _ in range(Q):\n",
    "    qlst.append(int(input()))\n",
    "\n",
    "for e in range(1, E + 1):\n",
    "    if e not in qlst:\n",
    "        UFT.union(edges[e][0], edges[e][1])\n",
    "\n",
    "ans = []\n",
    "for q in qlst[::-1]:\n",
    "    cnt = 0\n",
    "    for n in range(1, N + 1):\n",
    "        for m in range(N + 1, M + 1):\n",
    "            if UFT.find(n) == UFT.find(m):\n",
    "                cnt += 1\n",
    "                break\n",
    "    ans.append(cnt)\n",
    "    UFT.union(edges[q][0], edges[q][1])\n",
    "cnt = 0\n",
    "for n in range(1, N + 1):\n",
    "    for m in range(N + 1, M + 1):\n",
    "        if UFT.find(n) == UFT.find(m):\n",
    "            cnt += 1\n",
    "            break\n",
    "ans.append(cnt)\n",
    "for a in ans[::-1]:\n",
    "    print(a)"
   ]
  },
  {
   "cell_type": "code",
   "execution_count": null,
   "metadata": {},
   "outputs": [],
   "source": [
    "import sys\n",
    "readline = sys.stdin.readline\n",
    "\n",
    "class UnionFind():\n",
    "    def __init__(self, n):\n",
    "        self.n = n\n",
    "        self.parents = [-1] * n\n",
    "    \n",
    "    def root(self, x): #xの根を取得\n",
    "        if self.parents[x] < 0:\n",
    "            return x\n",
    "        else:\n",
    "            self.parents[x] = self.root(self.parents[x])\n",
    "            return self.parents[x]\n",
    "\n",
    "    def unite(self, x, y): #xとyをマージ\n",
    "        x = self.root(x)\n",
    "        y = self.root(y)\n",
    "\n",
    "        if x == y:\n",
    "            return\n",
    "        if self.parents[x] > self.parents[y]:\n",
    "            x, y = y, x\n",
    "\n",
    "        self.parents[x] += self.parents[y]\n",
    "        self.parents[y] = x\n",
    "\n",
    "    def is_same(self, x, y): #xとyが同じ連結成分か判定\n",
    "        return self.root(x) == self.root(y)\n",
    "\n",
    "def main():\n",
    "    N, M, E = map(int, readline().split())\n",
    "    edges = []\n",
    "    for _ in range(E):\n",
    "        u, v = map(int, readline().split())\n",
    "        u, v = min(u - 1, N), min(v - 1, N)\n",
    "        edges.append((u, v))\n",
    "    Q = int(readline())\n",
    "    cut = []\n",
    "    for _ in range(Q):\n",
    "        cut.append(int(readline()) - 1)\n",
    "\n",
    "    # 最終的に切れていない電線で地点を結ぶ\n",
    "    uft = UnionFind(N + 1)\n",
    "    se_cut = set(cut)\n",
    "    for i in range(E):\n",
    "        if i in se_cut:\n",
    "            continue\n",
    "        x, y = edges[i]\n",
    "        uft.unite(x, y)\n",
    "    ans = []\n",
    "    for c in cut[::-1]:\n",
    "        ans.append(-uft.parents[uft.root(N)] - 1)\n",
    "        x, y = edges[c]\n",
    "        uft.unite(x, y)\n",
    "\n",
    "    print(*ans[::-1], sep='\\n')\n",
    "\n",
    "if __name__ == \"__main__\":\n",
    "    main()"
   ]
  },
  {
   "cell_type": "code",
   "execution_count": null,
   "metadata": {},
   "outputs": [],
   "source": [
    "import sys\n",
    "readline = sys.stdin.readline\n",
    "\n",
    "class UnionFind():\n",
    "    def __init__(self, n):\n",
    "        self.n = n\n",
    "        self.parents = [-1] * n\n",
    "    \n",
    "    def root(self, x): #xの根を取得\n",
    "        if self.parents[x] < 0:\n",
    "            return x\n",
    "        else:\n",
    "            self.parents[x] = self.root(self.parents[x])\n",
    "            return self.parents[x]\n",
    "\n",
    "    def unite(self, x, y): #xとyをマージ\n",
    "        x = self.root(x)\n",
    "        y = self.root(y)\n",
    "\n",
    "        if x == y:\n",
    "            return\n",
    "        if self.parents[x] > self.parents[y]:\n",
    "            x, y = y, x\n",
    "\n",
    "        self.parents[x] += self.parents[y]\n",
    "        self.parents[y] = x\n",
    "\n",
    "    def is_same(self, x, y): #xとyが同じ連結成分か判定\n",
    "        return self.root(x) == self.root(y)\n",
    "\n",
    "def main():\n",
    "    N, M, E = map(int, readline().split())\n",
    "    edge = []\n",
    "    for i in range(E):\n",
    "        u, v = map(int, readline().split())\n",
    "        edge.append((min(u - 1, N), min(v - 1, N)))  # N以上なら発電所なので、すべてNに置き換える\n",
    "\n",
    "    Q = int(readline())\n",
    "    X = []\n",
    "    connected = [True] * E  # Q個のイベントの後、残っている辺をつなげる\n",
    "    for i in range(Q):\n",
    "        x = int(readline())\n",
    "        x -= 1\n",
    "        connected[x] = False\n",
    "        X.append(x)\n",
    "\n",
    "    uf = UnionFind(N + 1)\n",
    "    for i in range(E):\n",
    "        if connected[i]:  # 切れてない辺なら接続\n",
    "            u, v = edge[i]\n",
    "            uf.unite(u, v)\n",
    "\n",
    "    ans = [0] * Q  # 逆再生します\n",
    "    for i in reversed(range(Q)):\n",
    "        ans[i] = -uf.parents[uf.root(N)] - 1\n",
    "        u, v = edge[X[i]]\n",
    "        uf.unite(u, v)  # 逆再生なので、答えを求めてから接続します\n",
    "    print(*ans, sep='\\n')\n",
    "\n",
    "if __name__ == \"__main__\":\n",
    "    main()"
   ]
  },
  {
   "cell_type": "code",
   "execution_count": 5,
   "metadata": {},
   "outputs": [
    {
     "name": "stdout",
     "output_type": "stream",
     "text": [
      "4\n",
      "3\n",
      "2\n",
      "1\n"
     ]
    }
   ],
   "source": [
    "ls = [1,2,3,4]\n",
    "for i in reversed(ls):\n",
    "    print(i)\n"
   ]
  },
  {
   "cell_type": "code",
   "execution_count": null,
   "metadata": {},
   "outputs": [],
   "source": []
  }
 ],
 "metadata": {
  "kernelspec": {
   "display_name": "Python 3.10.4 64-bit",
   "language": "python",
   "name": "python3"
  },
  "language_info": {
   "codemirror_mode": {
    "name": "ipython",
    "version": 3
   },
   "file_extension": ".py",
   "mimetype": "text/x-python",
   "name": "python",
   "nbconvert_exporter": "python",
   "pygments_lexer": "ipython3",
   "version": "3.10.4"
  },
  "orig_nbformat": 4,
  "vscode": {
   "interpreter": {
    "hash": "c036f8f3ad2f0d684820dfc35afda6e333e93b801313b3488a29c3dc9dff951a"
   }
  }
 },
 "nbformat": 4,
 "nbformat_minor": 2
}
