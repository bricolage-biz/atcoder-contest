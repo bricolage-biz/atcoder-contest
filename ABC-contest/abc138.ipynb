{
 "cells": [
  {
   "cell_type": "code",
   "execution_count": null,
   "metadata": {},
   "outputs": [],
   "source": [
    "a, b = map(int, input().split())\n",
    "Pd = {\n",
    "    0: [],\n",
    "    1: [1],\n",
    "    2: [2],\n",
    "    3: [1, 2],\n",
    "    4: [4],\n",
    "    5: [1, 4],\n",
    "    6: [2, 4],\n",
    "    7: [1, 2, 4]\n",
    "}\n",
    "ans = set()\n",
    "for i in Pd[a]:\n",
    "    ans.add(i)\n",
    "for i in Pd[b]:\n",
    "    ans.add(i)\n",
    "print(sum(ans) if len(ans) != 0 else 0)"
   ]
  },
  {
   "cell_type": "code",
   "execution_count": null,
   "metadata": {},
   "outputs": [],
   "source": [
    "x, y, z = map(int, input().split())\n",
    "if x < 0:\n",
    "    x = -x\n",
    "    y = -y\n",
    "    z = -z\n",
    "\n",
    "if not (0 < y < x):\n",
    "    print(x)\n",
    "    exit()\n",
    "if 0 < z < y:\n",
    "    print(x)\n",
    "    exit()\n",
    "if z < 0:\n",
    "    print(abs(z) * 2 + x)\n",
    "    exit()\n",
    "else:\n",
    "    print(-1)"
   ]
  },
  {
   "cell_type": "code",
   "execution_count": null,
   "metadata": {},
   "outputs": [],
   "source": [
    "from collections import defaultdict, deque\n",
    "N, X, Y = map(int, input().split())\n",
    "edges = defaultdict(list)\n",
    "for _ in range(N - 1):\n",
    "    u, v = map(int, input().split())\n",
    "    edges[u].append(v)\n",
    "    edges[v].append(u)\n",
    "\n",
    "def bfs(s, t):\n",
    "    visited = set()\n",
    "    before = [-1] * (N + 1)\n",
    "    que = deque()\n",
    "    que.append(s)\n",
    "    visited.add(s)\n",
    "    while que:\n",
    "        v = que.popleft()\n",
    "        for next in edges[v]:\n",
    "            if next in visited:\n",
    "                continue\n",
    "            before[next] = v\n",
    "            if next != t:\n",
    "                que.append(next)\n",
    "                visited.add(next)\n",
    "                continue\n",
    "            if next == t:\n",
    "                now = t\n",
    "                ans = []\n",
    "                ans.append(now)\n",
    "                while now != s:\n",
    "                    now = before[now]\n",
    "                    ans.append(now)\n",
    "                return ans[::-1]\n",
    "\n",
    "print(*bfs(X, Y))\n"
   ]
  },
  {
   "cell_type": "code",
   "execution_count": null,
   "metadata": {},
   "outputs": [],
   "source": [
    "from bisect import bisect_right\n",
    "N, K = map(int, input().split())\n",
    "A = list(map(int, input().split()))\n",
    "As = sorted(A)\n",
    "rem = N\n",
    "P = []\n",
    "turn = 0\n",
    "\n",
    "while rem > 0:\n",
    "    ind = bisect_right(As, rem)\n",
    "    if ind == 0:\n",
    "        break\n",
    "    if turn == 0:\n",
    "        a = As[ind-1]\n",
    "        P.append(a)\n",
    "        rem -= a\n",
    "        turn = 1\n",
    "    else:\n",
    "        b = As[ind-1]\n",
    "        rem -= b\n",
    "        turn = 0\n",
    "print(sum(P))"
   ]
  },
  {
   "cell_type": "code",
   "execution_count": null,
   "metadata": {},
   "outputs": [],
   "source": [
    "from bisect import bisect_left\n",
    "ls = [1,2,3,6]\n",
    "print(ls)\n",
    "ind = bisect_right(ls, 0)\n",
    "print(ind)\n",
    "ls[ind-1]"
   ]
  },
  {
   "cell_type": "code",
   "execution_count": null,
   "metadata": {},
   "outputs": [],
   "source": [
    "# E - Strings of Impurity\n"
   ]
  },
  {
   "cell_type": "code",
   "execution_count": 11,
   "metadata": {},
   "outputs": [
    {
     "name": "stdout",
     "output_type": "stream",
     "text": [
      "314000000000000\n"
     ]
    }
   ],
   "source": [
    "X, K = map(int, input().split())\n",
    "X = list(str(X)[::-1])\n",
    "X = list(map(int, X)) + [0] * 20\n",
    "\n",
    "for i in range(K):\n",
    "    num_i = X[i]\n",
    "    X[i] = 0\n",
    "    if num_i >= 5:\n",
    "        X[i + 1] += 1\n",
    "    for j in range(i + 1, 15):\n",
    "        num_j = X[j]\n",
    "        if num_j >= 10:\n",
    "            X[j] = 0\n",
    "            X[j + 1] += 1\n",
    "\n",
    "X = list(map(str, X))\n",
    "ans = ''.join(X[::-1])\n",
    "ans = ans.lstrip('0')\n",
    "if len(ans) == 0:\n",
    "    print(0)\n",
    "else:\n",
    "    print(int(ans))\n"
   ]
  },
  {
   "cell_type": "markdown",
   "metadata": {},
   "source": []
  },
  {
   "cell_type": "code",
   "execution_count": null,
   "metadata": {},
   "outputs": [],
   "source": []
  },
  {
   "cell_type": "code",
   "execution_count": null,
   "metadata": {},
   "outputs": [],
   "source": []
  }
 ],
 "metadata": {
  "kernelspec": {
   "display_name": "Python 3.10.4 64-bit",
   "language": "python",
   "name": "python3"
  },
  "language_info": {
   "codemirror_mode": {
    "name": "ipython",
    "version": 3
   },
   "file_extension": ".py",
   "mimetype": "text/x-python",
   "name": "python",
   "nbconvert_exporter": "python",
   "pygments_lexer": "ipython3",
   "version": "3.10.4"
  },
  "orig_nbformat": 4,
  "vscode": {
   "interpreter": {
    "hash": "c036f8f3ad2f0d684820dfc35afda6e333e93b801313b3488a29c3dc9dff951a"
   }
  }
 },
 "nbformat": 4,
 "nbformat_minor": 2
}
