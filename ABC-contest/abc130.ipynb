{
 "cells": [
  {
   "cell_type": "code",
   "execution_count": null,
   "metadata": {},
   "outputs": [],
   "source": [
    "from collections import deque\n",
    "N, K = map(int, input().split())\n",
    "A = list(map(int, input().split()))\n",
    "\n",
    "que = deque()\n",
    "ans = 0\n",
    "tot = 0\n",
    "for i in range(N):\n",
    "    que.append(A[i])\n",
    "    tot += A[i]\n",
    "    while tot >= K:\n",
    "        rm = que.popleft()\n",
    "        tot -= rm\n",
    "    ans += len(que)\n",
    "ans = N * (N + 1) // 2 - ans\n",
    "print(ans)"
   ]
  },
  {
   "cell_type": "code",
   "execution_count": null,
   "metadata": {},
   "outputs": [],
   "source": [
    "from collections import deque\n",
    "N, K = map(int, input().split())\n",
    "A = list(map(int, input().split()))\n",
    "\n",
    "que = deque()\n",
    "ans = 0\n",
    "tot = 0\n",
    "for i in range(N):\n",
    "    que.append(A[i])\n",
    "    tot += A[i]\n",
    "    while tot >= K:\n",
    "        ans += N - i\n",
    "        rm = que.popleft()\n",
    "        tot -= rm\n",
    "print(ans)"
   ]
  }
 ],
 "metadata": {
  "kernelspec": {
   "display_name": "Python 3.10.4 64-bit",
   "language": "python",
   "name": "python3"
  },
  "language_info": {
   "name": "python",
   "version": "3.10.4"
  },
  "orig_nbformat": 4,
  "vscode": {
   "interpreter": {
    "hash": "c036f8f3ad2f0d684820dfc35afda6e333e93b801313b3488a29c3dc9dff951a"
   }
  }
 },
 "nbformat": 4,
 "nbformat_minor": 2
}
