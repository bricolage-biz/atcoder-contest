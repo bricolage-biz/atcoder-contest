{
 "cells": [
  {
   "cell_type": "code",
   "execution_count": null,
   "metadata": {},
   "outputs": [],
   "source": [
    "n = int(input())\n",
    "def f(k):\n",
    "    if k == 0:\n",
    "        return 1\n",
    "    return k * f(k - 1)\n",
    "\n",
    "print(f(n))"
   ]
  },
  {
   "cell_type": "code",
   "execution_count": null,
   "metadata": {},
   "outputs": [],
   "source": [
    "# ダメ解答\n",
    "X, K = map(int, input().split())\n",
    "X = list(str(X)[::-1])\n",
    "X = list(map(int, X)) + [0] * 20\n",
    "\n",
    "for i in range(K):\n",
    "    num_i = X[i]\n",
    "    X[i] = 0\n",
    "    if num_i >= 5:\n",
    "        X[i + 1] += 1\n",
    "    for j in range(i + 1, 15):\n",
    "        num_j = X[j]\n",
    "        if num_j >= 10:\n",
    "            X[j] = 0\n",
    "            X[j + 1] += 1\n",
    "\n",
    "X = list(map(str, X))\n",
    "ans = ''.join(X[::-1])\n",
    "ans = ans.lstrip('0')\n",
    "if len(ans) == 0:\n",
    "    print(0)\n",
    "else:\n",
    "    print(int(ans))\n"
   ]
  },
  {
   "cell_type": "code",
   "execution_count": 3,
   "metadata": {},
   "outputs": [
    {
     "name": "stdout",
     "output_type": "stream",
     "text": [
      "314000000000000\n"
     ]
    }
   ],
   "source": [
    "# B\n",
    "X, K = map(int, input().split())\n",
    "for k in range(K):\n",
    "    X += 5 * (10 ** k)\n",
    "    X = (X // (10 ** (k + 1))) * (10 ** (k + 1))\n",
    "print(X)"
   ]
  },
  {
   "cell_type": "code",
   "execution_count": 7,
   "metadata": {},
   "outputs": [
    {
     "name": "stdout",
     "output_type": "stream",
     "text": [
      "314000000000000\n"
     ]
    }
   ],
   "source": [
    "# B別解\n",
    "X, K = map(int, input().split())\n",
    "for i in range(K):\n",
    "    t = 10 ** i\n",
    "    d = X // t % 10\n",
    "    \n",
    "    t *= 10\n",
    "    X = X // t * t\n",
    "    if d >= 5:\n",
    "        X += t\n",
    "print(X)"
   ]
  },
  {
   "cell_type": "code",
   "execution_count": null,
   "metadata": {},
   "outputs": [],
   "source": [
    "# C\n",
    "from bisect import bisect_right\n",
    "from collections import defaultdict\n",
    "N = int(input())\n",
    "A = list(map(int, input().split()))\n",
    "\n",
    "se = set(A)\n",
    "N_se = len(se)\n",
    "As = sorted(se)\n",
    "ans = defaultdict(int)\n",
    "for a in A:\n",
    "    k = bisect_right(As, a)\n",
    "    ans[(N_se - k)] += 1\n",
    "\n",
    "for i in range(N):\n",
    "    print(ans[i])"
   ]
  },
  {
   "cell_type": "code",
   "execution_count": 12,
   "metadata": {},
   "outputs": [
    {
     "data": {
      "text/plain": [
       "[1, 5]"
      ]
     },
     "execution_count": 12,
     "metadata": {},
     "output_type": "execute_result"
    }
   ],
   "source": [
    "# C別解\n",
    "from collections import Counter\n",
    "N = int(input())\n",
    "A = list(map(int, input().split()))\n",
    "\n",
    "ans = [0] * N\n",
    "cntA = Counter(A)\n",
    "cntAs = sorted(cntA, reverse=True)\n",
    "for i, a in enumerate(cntAs):\n",
    "    ans[i] = cntA[a]\n",
    "print(*ans)"
   ]
  },
  {
   "cell_type": "code",
   "execution_count": 11,
   "metadata": {},
   "outputs": [
    {
     "name": "stdout",
     "output_type": "stream",
     "text": [
      "2 1\n"
     ]
    }
   ],
   "source": [
    "from bisect import bisect, bisect_right, bisect_left\n",
    "ls = [1,3,5]\n",
    "print(bisect_right(ls, 3), bisect_left(ls, 3))"
   ]
  },
  {
   "cell_type": "code",
   "execution_count": null,
   "metadata": {},
   "outputs": [],
   "source": [
    "from collections import defaultdict\n",
    "from bisect import bisect_left\n",
    "import sys\n",
    "input = sys.stdin.readline\n",
    "H, W, r, c = map(int, input().split())\n",
    "r -= 1\n",
    "c -= 1\n",
    "N = int(input())\n",
    "\n",
    "Wr = defaultdict(list)\n",
    "Wc = defaultdict(list)\n",
    "for _ in range(N):\n",
    "    ri, ci = map(int, input().split())\n",
    "    ri -= 1\n",
    "    ci -= 1\n",
    "    Wr[ri].append(ci)\n",
    "    Wc[ci].append(ri)\n",
    "\n",
    "for row in Wr:\n",
    "    Wr[row].append(-1)\n",
    "    Wr[row].append(W)\n",
    "    Wr[row].sort()\n",
    "for col in Wc:\n",
    "    Wc[col].append(-1)\n",
    "    Wc[col].append(H)\n",
    "    Wc[col].sort()\n",
    "\n",
    "Q = int(input())\n",
    "\n",
    "for _ in range(Q):\n",
    "    d, l = map(str, input().split())\n",
    "    l = int(l)\n",
    "    if d == 'L' or d == \"R\":\n",
    "        if r in Wr:\n",
    "            ind = bisect_left(Wr[r], c)\n",
    "            if d == 'R':\n",
    "                c = min(Wr[r][ind] - 1, c + l)\n",
    "            else:\n",
    "                ind -= 1\n",
    "                c = max(Wr[r][ind] + 1, c - l)\n",
    "        else:\n",
    "            if d == \"R\":\n",
    "                c = min(W - 1, c + l)\n",
    "            else:\n",
    "                c = max(0, c - l)\n",
    "    else:\n",
    "        if c in Wc:\n",
    "            ind = bisect_left(Wc[c], r)\n",
    "            if d == 'D':\n",
    "                r = min(Wc[c][ind] - 1, r + l)\n",
    "            else:\n",
    "                ind -= 1\n",
    "                r = max(Wc[c][ind] + 1, r - l)\n",
    "        else:\n",
    "            if d == \"D\":\n",
    "                r = min(H - 1, r + l)\n",
    "            else:\n",
    "                r = max(0, r - l)\n",
    "    print(r + 1, c + 1)"
   ]
  },
  {
   "cell_type": "code",
   "execution_count": 12,
   "metadata": {},
   "outputs": [
    {
     "name": "stdout",
     "output_type": "stream",
     "text": [
      "ababaca\n"
     ]
    }
   ],
   "source": [
    "from collections import Counter\n",
    "from heapq import heappop, heappush\n",
    "S = input()\n",
    "cntS = Counter(S)\n",
    "maxHeap = []\n",
    "for ch in cntS:\n",
    "    heappush(maxHeap, [-cntS[ch] ,ch])\n",
    "\n",
    "ans = '1'\n",
    "while maxHeap:\n",
    "    next = heappop(maxHeap)\n",
    "    if len(maxHeap) == 0:\n",
    "        ans += -next[0] * next[1]\n",
    "        continue\n",
    "    \n",
    "    if ans[-1] == next[1]:\n",
    "        back = next\n",
    "        next = heappop(maxHeap)\n",
    "        ans += next[1]\n",
    "        heappush(maxHeap, back)\n",
    "    else:\n",
    "        ans += next[1]\n",
    "\n",
    "    next[0] += 1\n",
    "    if next[0] == 0:\n",
    "        continue\n",
    "    heappush(maxHeap, next)\n",
    "\n",
    "print(ans[1:])"
   ]
  },
  {
   "cell_type": "code",
   "execution_count": null,
   "metadata": {},
   "outputs": [],
   "source": []
  }
 ],
 "metadata": {
  "kernelspec": {
   "display_name": "Python 3.10.4 64-bit",
   "language": "python",
   "name": "python3"
  },
  "language_info": {
   "codemirror_mode": {
    "name": "ipython",
    "version": 3
   },
   "file_extension": ".py",
   "mimetype": "text/x-python",
   "name": "python",
   "nbconvert_exporter": "python",
   "pygments_lexer": "ipython3",
   "version": "3.10.4"
  },
  "orig_nbformat": 4,
  "vscode": {
   "interpreter": {
    "hash": "c036f8f3ad2f0d684820dfc35afda6e333e93b801313b3488a29c3dc9dff951a"
   }
  }
 },
 "nbformat": 4,
 "nbformat_minor": 2
}
