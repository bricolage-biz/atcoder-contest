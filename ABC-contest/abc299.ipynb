{
 "cells": [
  {
   "cell_type": "code",
   "execution_count": 6,
   "metadata": {},
   "outputs": [
    {
     "data": {
      "text/plain": [
       "3"
      ]
     },
     "execution_count": 6,
     "metadata": {},
     "output_type": "execute_result"
    }
   ],
   "source": [
    "N = int(input())\n",
    "S = input()\n",
    "ind = []\n",
    "for i in range(N):\n",
    "    if S[i] == '|':\n",
    "        ind.append(i)\n",
    "    if S[i] == '*':\n",
    "        target = i\n",
    "print('in' if ind[0] < target < ind[1] else 'out')"
   ]
  },
  {
   "cell_type": "code",
   "execution_count": null,
   "metadata": {},
   "outputs": [],
   "source": [
    "N, T = map(int, input().split())\n",
    "dicR = {}\n",
    "lsT = []\n",
    "ls1 = []\n",
    "C = list(map(int, input().split()))\n",
    "R = list(map(int, input().split()))\n",
    "for i in range(N):\n",
    "    dicR[R[i]] = i + 1\n",
    "    if C[i] == T:\n",
    "        lsT.append(R[i])\n",
    "    if C[i] == C[0]:\n",
    "        ls1.append(R[i])\n",
    "\n",
    "if lsT:\n",
    "    print(dicR[max(lsT)])\n",
    "else:\n",
    "    print(dicR[max(ls1)])"
   ]
  },
  {
   "cell_type": "code",
   "execution_count": null,
   "metadata": {},
   "outputs": [],
   "source": [
    "N = int(input())\n",
    "S = input()\n",
    "\n",
    "if '-o' not in S and 'o-' not in S:\n",
    "    print(-1)\n",
    "    exit()\n",
    "\n",
    "def is_ok(x):\n",
    "    if '-' + 'o' * x in S or 'o' * x + '-' in S:\n",
    "        return True\n",
    "    else:\n",
    "        return False\n",
    "\n",
    "ok = 1\n",
    "ng = 10 ** 6\n",
    "while abs(ng - ok) > 1:\n",
    "    mid = (ok + ng) // 2\n",
    "    if is_ok(mid):\n",
    "        ok = mid\n",
    "    else:\n",
    "        ng = mid\n",
    "print(ok)"
   ]
  },
  {
   "cell_type": "code",
   "execution_count": 1,
   "metadata": {},
   "outputs": [
    {
     "name": "stdout",
     "output_type": "stream",
     "text": [
      "? 2\n",
      "! 1\n",
      "? 6\n",
      "! 6\n",
      "? 4\n",
      "? 3\n",
      "! 3\n"
     ]
    },
    {
     "ename": "",
     "evalue": "",
     "output_type": "error",
     "traceback": [
      "\u001b[1;31m現在のセルまたは前のセルでコードを実行中に、カーネルがクラッシュしました。エラーの原因を特定するには、セル内のコードを確認してください。詳細については、<a href='https://aka.ms/vscodeJupyterKernelCrash'>こちら</a> をクリックしてください。さらなる詳細については、Jupyter [log] (command:jupyter.viewOutput) を参照してください。"
     ]
    }
   ],
   "source": [
    "N = int(input())\n",
    "l = 2\n",
    "r = N - 1\n",
    "\n",
    "print('?', l, flush=True)\n",
    "if int(input()) == 1:\n",
    "    print('!', l - 1, flush=True)\n",
    "    exit()\n",
    "\n",
    "print('?', r, flush=True)\n",
    "if int(input()) == 0:\n",
    "    print('!', r, flush=True)\n",
    "    exit()\n",
    "\n",
    "while abs(r - l) > 1:\n",
    "    mid = (r + l) // 2\n",
    "    print('?', mid, flush=True)\n",
    "    if int(input()) == 0:\n",
    "        l = mid\n",
    "    else:\n",
    "        r = mid\n",
    "print('!', l, flush=True)"
   ]
  },
  {
   "cell_type": "code",
   "execution_count": null,
   "metadata": {},
   "outputs": [],
   "source": []
  }
 ],
 "metadata": {
  "kernelspec": {
   "display_name": "Python 3",
   "language": "python",
   "name": "python3"
  },
  "language_info": {
   "codemirror_mode": {
    "name": "ipython",
    "version": 3
   },
   "file_extension": ".py",
   "mimetype": "text/x-python",
   "name": "python",
   "nbconvert_exporter": "python",
   "pygments_lexer": "ipython3",
   "version": "3.10.4"
  },
  "orig_nbformat": 4
 },
 "nbformat": 4,
 "nbformat_minor": 2
}
