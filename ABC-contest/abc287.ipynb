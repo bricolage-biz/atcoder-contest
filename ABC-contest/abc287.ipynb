{
 "cells": [
  {
   "cell_type": "code",
   "execution_count": 1,
   "metadata": {},
   "outputs": [
    {
     "name": "stdout",
     "output_type": "stream",
     "text": [
      "1\n"
     ]
    }
   ],
   "source": [
    "N = int(input())\n",
    "cnt = 0\n",
    "for _ in range(N):\n",
    "    s = input()\n",
    "    if s == 'For':\n",
    "        cnt += 1\n",
    "print('Yes' if cnt > N // 2 else 'No')"
   ]
  },
  {
   "cell_type": "code",
   "execution_count": null,
   "metadata": {},
   "outputs": [],
   "source": [
    "N, M = map(int, input().split())\n",
    "S = []\n",
    "for _ in range(N):\n",
    "    s = input()[3:]\n",
    "    S.append(s)\n",
    "T = set()\n",
    "for _ in range(M):\n",
    "    T.add(input())\n",
    "\n",
    "cnt = 0\n",
    "for i in range(N):\n",
    "    if S[i] in T:\n",
    "        cnt += 1\n",
    "print(cnt)"
   ]
  },
  {
   "cell_type": "code",
   "execution_count": null,
   "metadata": {},
   "outputs": [],
   "source": [
    "from collections import defaultdict, deque\n",
    "N, M = map(int, input().split())\n",
    "indegree = [0] * N\n",
    "outdegree = [0] * N\n",
    "edges = defaultdict(list)\n",
    "visited = set()\n",
    "\n",
    "for _ in range(M):\n",
    "    u, v = map(int, input().split())\n",
    "    u -= 1\n",
    "    v -= 1\n",
    "    edges[u].append(v)\n",
    "    edges[v].append(u)\n",
    "    indegree[u] += 1\n",
    "    outdegree[u] += 1\n",
    "    indegree[v] += 1\n",
    "    outdegree[v] += 1\n",
    "    \n",
    "for i in range(N):\n",
    "    if indegree[i] >= 3 or outdegree[i] >= 3:\n",
    "        print('No')\n",
    "        exit()\n",
    "\n",
    "for i in range(N):\n",
    "    if indegree[i] == 1 and outdegree[i] == 1:\n",
    "        start = i\n",
    "        break\n",
    "else:\n",
    "    print('No')\n",
    "    exit()\n",
    "\n",
    "que = deque()\n",
    "que.append(start)\n",
    "while que:\n",
    "    v = que.popleft()\n",
    "    visited.add(v)\n",
    "    for next in edges[v]:\n",
    "        if next not in visited:\n",
    "            que.append(next)\n",
    "print('Yes' if len(visited) == N else 'No')"
   ]
  },
  {
   "cell_type": "code",
   "execution_count": null,
   "metadata": {},
   "outputs": [],
   "source": [
    "S = input()\n",
    "T = input()\n",
    "Ns = len(S)\n",
    "Nt = len(T)\n",
    "ind = []\n",
    "\n",
    "def is_match(x):\n",
    "    for i in ind:\n",
    "        if i < x:\n",
    "            if S[i] == T[i] or S[i] == '?':\n",
    "                continue\n",
    "            else:\n",
    "                return False\n",
    "        else:\n",
    "            if S[-(Nt - x + i)] == T[i] or S[-(Nt - x + i)] == '?':\n",
    "                continue\n",
    "            else:\n",
    "                return False\n",
    "    return True\n",
    "\n",
    "for i in range(Nt):\n",
    "    if T[i] != '?':\n",
    "        ind.append(i)\n",
    "for x in range(Nt + 1):\n",
    "    print('Yes' if is_match(x) else 'No')    "
   ]
  },
  {
   "cell_type": "code",
   "execution_count": null,
   "metadata": {},
   "outputs": [],
   "source": [
    "S = input()\n",
    "T = input()\n",
    "N = len(T)\n",
    "\n",
    "pre = [False] * (N + 1)\n",
    "suf = [False] * (N + 1)\n",
    "pre[0] = True\n",
    "suf[0] = True\n",
    "\n",
    "for i in range(1, N + 1):\n",
    "    if S[i - 1] == T[i - 1] or S[i - 1] == '?' or T[i - 1] == '?':\n",
    "        pre[i] = True\n",
    "    else:\n",
    "        break\n",
    "\n",
    "rS = ''.join(list(reversed(S)))\n",
    "rT = ''.join(list(reversed(T)))\n",
    "for i in range(1, N + 1):\n",
    "    if rS[i - 1] == rT[i - 1] or rS[i - 1] == '?' or rT[i - 1] == '?':\n",
    "        suf[i] = True\n",
    "    else:\n",
    "        break\n",
    "    \n",
    "for x in range(N + 1):\n",
    "    if pre[x] and suf[N - x]:\n",
    "        print('Yes')\n",
    "    else:\n",
    "        print('No')"
   ]
  }
 ],
 "metadata": {
  "kernelspec": {
   "display_name": "Python 3",
   "language": "python",
   "name": "python3"
  },
  "language_info": {
   "codemirror_mode": {
    "name": "ipython",
    "version": 3
   },
   "file_extension": ".py",
   "mimetype": "text/x-python",
   "name": "python",
   "nbconvert_exporter": "python",
   "pygments_lexer": "ipython3",
   "version": "3.10.4"
  },
  "orig_nbformat": 4,
  "vscode": {
   "interpreter": {
    "hash": "c036f8f3ad2f0d684820dfc35afda6e333e93b801313b3488a29c3dc9dff951a"
   }
  }
 },
 "nbformat": 4,
 "nbformat_minor": 2
}
