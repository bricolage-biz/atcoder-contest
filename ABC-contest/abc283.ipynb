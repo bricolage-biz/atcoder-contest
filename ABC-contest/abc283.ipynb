{
 "cells": [
  {
   "cell_type": "code",
   "execution_count": 1,
   "metadata": {},
   "outputs": [
    {
     "name": "stdout",
     "output_type": "stream",
     "text": [
      "1\n"
     ]
    }
   ],
   "source": [
    "a, b = map(int, input().split())\n",
    "print(a ** b)"
   ]
  },
  {
   "cell_type": "code",
   "execution_count": 2,
   "metadata": {},
   "outputs": [
    {
     "ename": "IndentationError",
     "evalue": "expected an indented block after 'if' statement on line 6 (2870810389.py, line 7)",
     "output_type": "error",
     "traceback": [
      "\u001b[1;36m  Input \u001b[1;32mIn [2]\u001b[1;36m\u001b[0m\n\u001b[1;33m    else:\u001b[0m\n\u001b[1;37m    ^\u001b[0m\n\u001b[1;31mIndentationError\u001b[0m\u001b[1;31m:\u001b[0m expected an indented block after 'if' statement on line 6\n"
     ]
    }
   ],
   "source": [
    "N = int(input())\n",
    "A = list(map(int, input().split()))\n",
    "Q = int(input())\n",
    "for _ in range(Q):\n",
    "    query = list(map(int, input().split()))\n",
    "    if query[0] == 1:\n",
    "        k, x = query[1], query[2]\n",
    "        A[k - 1] = x\n",
    "    else:\n",
    "        k = query[1]\n",
    "        print(A[k - 1])\n"
   ]
  },
  {
   "cell_type": "code",
   "execution_count": 8,
   "metadata": {},
   "outputs": [
    {
     "name": "stdout",
     "output_type": "stream",
     "text": [
      "27\n"
     ]
    }
   ],
   "source": [
    "S = input()\n",
    "N = len(S)\n",
    "flag = False\n",
    "cnt = 0\n",
    "for i in range(N):\n",
    "    if flag:\n",
    "        if S[i] == '0':\n",
    "            cnt += 1\n",
    "        flag = False\n",
    "    else:\n",
    "        if S[i] == '0':\n",
    "            flag = True\n",
    "        else:\n",
    "            flag = False\n",
    "\n",
    "print(N - cnt)"
   ]
  },
  {
   "cell_type": "code",
   "execution_count": null,
   "metadata": {},
   "outputs": [],
   "source": [
    "from collections import deque, defaultdict\n",
    "S = input()\n",
    "N = len(S)\n",
    "se = set()\n",
    "que = deque()\n",
    "d = {}\n",
    "d_inv = {}\n",
    "d_se = defaultdict(set)\n",
    "\n",
    "for i in range(N):\n",
    "    if S[i] == '(':\n",
    "        que.append(i)\n",
    "    elif S[i] == ')':\n",
    "        v = que.pop()\n",
    "        d[v] = i\n",
    "        d_inv[i] = v\n",
    "\n",
    "Q = deque()\n",
    "for i in range(N):\n",
    "    if S[i] == '(':\n",
    "        Q.append(i)\n",
    "    elif S[i] == ')':\n",
    "        Q.pop()\n",
    "    else:\n",
    "        for q in Q:\n",
    "            d_se[d[q]].add(S[i])\n",
    "\n",
    "for i in range(N):\n",
    "    if S[i] == '(':\n",
    "        continue\n",
    "    elif S[i] == ')':\n",
    "        start = d_inv[i]\n",
    "        last = i\n",
    "        L = list(se)\n",
    "        for ch in L:\n",
    "            if ch in d_se[i]:\n",
    "                se.remove(ch)\n",
    "    else:\n",
    "        if S[i] in se:\n",
    "            print('No')\n",
    "            exit()\n",
    "        else:\n",
    "            se.add(S[i])\n",
    "print('Yes')"
   ]
  },
  {
   "cell_type": "code",
   "execution_count": null,
   "metadata": {},
   "outputs": [],
   "source": [
    "from collections import deque, defaultdict\n",
    "S = input()\n",
    "N = len(S)\n",
    "se = set()\n",
    "que = deque()\n",
    "d = {}\n",
    "d_inv = {}\n",
    "alpha = defaultdict(set)\n",
    "\n",
    "for i in range(N):\n",
    "    if S[i] == '(':\n",
    "        que.append(i)\n",
    "    elif S[i] == ')':\n",
    "        v = que.pop()\n",
    "        d[v] = i\n",
    "        d_inv[i] = v\n",
    "\n",
    "Q = deque()\n",
    "for i in range(N):\n",
    "    if S[i] == '(':\n",
    "        Q.append(i)\n",
    "    elif S[i] == ')':\n",
    "        Q.pop()\n",
    "    else:\n",
    "        for q in Q:\n",
    "            alpha[S[i]].add(q)\n",
    "\n",
    "for i in range(N):\n",
    "    if S[i] == '(':\n",
    "        continue\n",
    "    elif S[i] == ')':\n",
    "        start = d_inv[i]\n",
    "        last = i\n",
    "        L = list(se)\n",
    "        for ch in L:\n",
    "            if d_inv[i] in alpha[ch]:\n",
    "                se.remove(ch)\n",
    "    else:\n",
    "        if S[i] in se:\n",
    "            print('No')\n",
    "            exit()\n",
    "        else:\n",
    "            se.add(S[i])\n",
    "print('Yes')"
   ]
  },
  {
   "cell_type": "code",
   "execution_count": null,
   "metadata": {},
   "outputs": [],
   "source": [
    "from collections import deque\n",
    "import sys\n",
    "input = sys.stdin.readline\n",
    "def solve():\n",
    "    S = input()\n",
    "    N = len(S)\n",
    "    se = set()\n",
    "    que = deque()\n",
    "    d_inv = {}\n",
    "\n",
    "    for i in range(N):\n",
    "        if S[i] == '(':\n",
    "            que.append(i)\n",
    "        elif S[i] == ')':\n",
    "            v = que.pop()\n",
    "            d_inv[i] = v\n",
    "\n",
    "    for i in range(N):\n",
    "        if S[i] == '(':\n",
    "            continue\n",
    "        elif S[i] == ')':\n",
    "            start = d_inv[i]\n",
    "            last = i\n",
    "            se = sorted(se)\n",
    "            \n",
    "\n",
    "            for ch in L:\n",
    "                if ch in S[start: last + 1]:\n",
    "                    se.remove(ch)\n",
    "        else:\n",
    "            if S[i] in se:\n",
    "                print('No')\n",
    "                exit()\n",
    "            else:\n",
    "                se.add(S[i])\n",
    "    print('Yes')\n",
    "\n",
    "solve()"
   ]
  },
  {
   "cell_type": "code",
   "execution_count": 1,
   "metadata": {},
   "outputs": [
    {
     "name": "stdout",
     "output_type": "stream",
     "text": [
      "No\n"
     ]
    },
    {
     "ename": "KeyError",
     "evalue": "'a'",
     "output_type": "error",
     "traceback": [
      "\u001b[1;31m---------------------------------------------------------------------------\u001b[0m",
      "\u001b[1;31mKeyError\u001b[0m                                  Traceback (most recent call last)",
      "\u001b[1;32mセル7 を c:\\Users\\yamaguchi_sueko\\Documents\\atcoder\\abc283.ipynb\u001b[0m in \u001b[0;36m<cell line: 5>\u001b[1;34m()\u001b[0m\n\u001b[0;32m      <a href='vscode-notebook-cell:/c%3A/Users/yamaguchi_sueko/Documents/atcoder/abc283.ipynb#W6sZmlsZQ%3D%3D?line=7'>8</a>\u001b[0m \u001b[39melif\u001b[39;00m ch \u001b[39m==\u001b[39m \u001b[39m'\u001b[39m\u001b[39m)\u001b[39m\u001b[39m'\u001b[39m:\n\u001b[0;32m      <a href='vscode-notebook-cell:/c%3A/Users/yamaguchi_sueko/Documents/atcoder/abc283.ipynb#W6sZmlsZQ%3D%3D?line=8'>9</a>\u001b[0m     \u001b[39mfor\u001b[39;00m c \u001b[39min\u001b[39;00m stack[\u001b[39m-\u001b[39m\u001b[39m1\u001b[39m]:\n\u001b[1;32m---> <a href='vscode-notebook-cell:/c%3A/Users/yamaguchi_sueko/Documents/atcoder/abc283.ipynb#W6sZmlsZQ%3D%3D?line=9'>10</a>\u001b[0m         se\u001b[39m.\u001b[39;49mremove(c)\n\u001b[0;32m     <a href='vscode-notebook-cell:/c%3A/Users/yamaguchi_sueko/Documents/atcoder/abc283.ipynb#W6sZmlsZQ%3D%3D?line=10'>11</a>\u001b[0m     stack\u001b[39m.\u001b[39mpop()\n\u001b[0;32m     <a href='vscode-notebook-cell:/c%3A/Users/yamaguchi_sueko/Documents/atcoder/abc283.ipynb#W6sZmlsZQ%3D%3D?line=11'>12</a>\u001b[0m \u001b[39melse\u001b[39;00m:\n",
      "\u001b[1;31mKeyError\u001b[0m: 'a'"
     ]
    },
    {
     "ename": "",
     "evalue": "",
     "output_type": "error",
     "traceback": [
      "\u001b[1;31m現在のセルまたは前のセルでコードを実行中に、カーネルがクラッシュしました。エラーの原因を特定するには、セル内のコードを確認してください。詳細については、<a href='https://aka.ms/vscodeJupyterKernelCrash'>こちら</a> をクリックしてください。さらなる詳細については、Jupyter [log] (command:jupyter.viewOutput) を参照してください。"
     ]
    }
   ],
   "source": [
    "S = input()\n",
    "stack = []\n",
    "se = set()\n",
    "stack.append('')\n",
    "for ch in S:\n",
    "    if ch == '(':\n",
    "        stack.append('')\n",
    "    elif ch == ')':\n",
    "        for c in stack[-1]:\n",
    "            se.discard(c)\n",
    "        stack.pop()\n",
    "    else:\n",
    "        if ch in se:\n",
    "            print('No')\n",
    "            exit()\n",
    "        se.add(ch)\n",
    "        stack[-1] += ch\n",
    "print('Yes')\n"
   ]
  },
  {
   "cell_type": "code",
   "execution_count": 8,
   "metadata": {},
   "outputs": [
    {
     "data": {
      "text/plain": [
       "set()"
      ]
     },
     "execution_count": 8,
     "metadata": {},
     "output_type": "execute_result"
    }
   ],
   "source": [
    "se = set([2])\n",
    "se.discard(2)\n",
    "se"
   ]
  },
  {
   "cell_type": "code",
   "execution_count": null,
   "metadata": {},
   "outputs": [],
   "source": []
  }
 ],
 "metadata": {
  "kernelspec": {
   "display_name": "Python 3",
   "language": "python",
   "name": "python3"
  },
  "language_info": {
   "codemirror_mode": {
    "name": "ipython",
    "version": 3
   },
   "file_extension": ".py",
   "mimetype": "text/x-python",
   "name": "python",
   "nbconvert_exporter": "python",
   "pygments_lexer": "ipython3",
   "version": "3.10.4"
  },
  "orig_nbformat": 4,
  "vscode": {
   "interpreter": {
    "hash": "c036f8f3ad2f0d684820dfc35afda6e333e93b801313b3488a29c3dc9dff951a"
   }
  }
 },
 "nbformat": 4,
 "nbformat_minor": 2
}
