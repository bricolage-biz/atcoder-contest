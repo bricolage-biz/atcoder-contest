{
 "cells": [
  {
   "cell_type": "code",
   "execution_count": 5,
   "metadata": {},
   "outputs": [
    {
     "name": "stdout",
     "output_type": "stream",
     "text": [
      "3002\n"
     ]
    }
   ],
   "source": [
    "y = int(input())\n",
    "x = y % 4\n",
    "ans = y\n",
    "if x == 0:\n",
    "    ans += 2\n",
    "elif x == 1:\n",
    "    ans += 1\n",
    "elif x == 3:\n",
    "    ans += 3\n",
    "print(ans)"
   ]
  },
  {
   "cell_type": "code",
   "execution_count": null,
   "metadata": {},
   "outputs": [],
   "source": [
    "from collections import defaultdict\n",
    "N, M = map(int, input().split())\n",
    "nodes = list(range(1, N + 1))\n",
    "edges = defaultdict(list)\n",
    "for _ in range(M):\n",
    "    u, v = map(int, input().split())\n",
    "    edges[u].append(v)\n",
    "    edges[v].append(u)\n",
    "\n",
    "ans = 0\n",
    "for i in range(1, N + 1):\n",
    "    for j in range(i + 1, N + 1):\n",
    "        for k in range(j + 1, N + 1):\n",
    "            if i in edges[j] and i in edges[k] and j in edges[k]:\n",
    "                ans += 1\n",
    "print(ans)"
   ]
  },
  {
   "cell_type": "code",
   "execution_count": 14,
   "metadata": {},
   "outputs": [
    {
     "name": "stdout",
     "output_type": "stream",
     "text": [
      "8\n"
     ]
    }
   ],
   "source": [
    "N = int(input())\n",
    "a = [0] + list(map(int, input().split()))\n",
    "A = [0] * (N + 1)\n",
    "tmp = 0\n",
    "for i in range(N, 0, -1):\n",
    "    if i == a[i]:\n",
    "        tmp += 1\n",
    "    A[i] = tmp\n",
    "\n",
    "ans = 0\n",
    "for i in range(1, N + 1):\n",
    "    if i == a[i]:\n",
    "        ans += A[i] - 1\n",
    "        continue\n",
    "    if a[a[i]] == i and a[i] > i:\n",
    "        ans += 1\n",
    "        continue\n",
    "print(ans)"
   ]
  },
  {
   "cell_type": "code",
   "execution_count": 16,
   "metadata": {},
   "outputs": [
    {
     "name": "stdout",
     "output_type": "stream",
     "text": [
      "組み合わせ： [(1, 2, 3), (1, 2, 4), (1, 2, 5), (1, 3, 4), (1, 3, 5), (1, 4, 5), (2, 3, 4), (2, 3, 5), (2, 4, 5), (3, 4, 5)]\n",
      "順列： [(0, 1), (0, 2), (1, 0), (1, 2), (2, 0), (2, 1)]\n"
     ]
    }
   ],
   "source": [
    "from itertools import combinations\n",
    "# 1 ~ 5から3つの数字を取り出す組み合わせ\n",
    "print('組み合わせ：', list(combinations(range(1,6), 3)))\n",
    "\n",
    "from itertools import permutations\n",
    "# 0, 1, 2から2つ数字を選んで一列に並べた数列\n",
    "print('順列：', list(permutations(range(3), 2)))"
   ]
  },
  {
   "cell_type": "code",
   "execution_count": 13,
   "metadata": {},
   "outputs": [
    {
     "data": {
      "text/plain": [
       "[(0, 1), (0, 2), (1, 0), (1, 2), (2, 0), (2, 1)]"
      ]
     },
     "execution_count": 13,
     "metadata": {},
     "output_type": "execute_result"
    }
   ],
   "source": []
  },
  {
   "cell_type": "code",
   "execution_count": null,
   "metadata": {},
   "outputs": [],
   "source": []
  }
 ],
 "metadata": {
  "kernelspec": {
   "display_name": "Python 3.10.4 64-bit",
   "language": "python",
   "name": "python3"
  },
  "language_info": {
   "codemirror_mode": {
    "name": "ipython",
    "version": 3
   },
   "file_extension": ".py",
   "mimetype": "text/x-python",
   "name": "python",
   "nbconvert_exporter": "python",
   "pygments_lexer": "ipython3",
   "version": "3.10.4"
  },
  "orig_nbformat": 4,
  "vscode": {
   "interpreter": {
    "hash": "c036f8f3ad2f0d684820dfc35afda6e333e93b801313b3488a29c3dc9dff951a"
   }
  }
 },
 "nbformat": 4,
 "nbformat_minor": 2
}
