{
 "cells": [
  {
   "cell_type": "code",
   "execution_count": 6,
   "metadata": {},
   "outputs": [
    {
     "name": "stdout",
     "output_type": "stream",
     "text": [
      "3\n"
     ]
    }
   ],
   "source": [
    "se = set(input().split())\n",
    "print(len(se))"
   ]
  },
  {
   "cell_type": "code",
   "execution_count": null,
   "metadata": {},
   "outputs": [],
   "source": [
    "s = input()\n",
    "t = input()\n",
    "if len(s) > len(t):\n",
    "    print('No')\n",
    "    exit()\n",
    "for i in range(len(s)):\n",
    "    if s[i] == t[i]:\n",
    "        continue\n",
    "    else:\n",
    "        print('No')\n",
    "        exit()\n",
    "print('Yes')"
   ]
  },
  {
   "cell_type": "code",
   "execution_count": null,
   "metadata": {},
   "outputs": [],
   "source": [
    "N = int(input())\n",
    "P = list(map(int, input().split()))\n",
    "foods = [[0] * 3 for _ in range(N)]\n",
    "for i in range(N):\n",
    "    x = (i - P[i]) % N\n",
    "    foods[P[i]][:] = (x - 1) % N, x, (x + 1) % N\n",
    "ans = [0] * N\n",
    "for i in range(N):\n",
    "    ans[foods[i][0]] += 1\n",
    "    ans[foods[i][1]] += 1\n",
    "    ans[foods[i][2]] += 1\n",
    "print(max(ans))"
   ]
  },
  {
   "cell_type": "code",
   "execution_count": null,
   "metadata": {},
   "outputs": [],
   "source": [
    "N, M = map(int, input().split())\n",
    "S = []\n",
    "A = {}\n",
    "B = {}\n",
    "for i in range(N):\n",
    "    c = input()\n",
    "    S.append(c)\n",
    "    A[i] = c\n",
    "    B[c] = i\n",
    "\n",
    "for i in range(M):\n",
    "    t = input()\n",
    "    if t[0] == '_':\n",
    "        continue\n",
    "    ls = []\n",
    "    i = 0\n",
    "    while i != len(t):\n",
    "        cnt = 0\n",
    "        ch = ''\n",
    "        while t[i] != '_':\n",
    "            ch += t[i]\n",
    "            i += 1\n",
    "        while t[i] == '_':\n",
    "            cnt += 1\n",
    "            i += 1\n",
    "        ls.append([ch, cnt])\n",
    "\n",
    "\n",
    "\n",
    "\n",
    "    for j in range(len(t)):\n",
    "        if t[j] == '_':\n",
    "            num += 1\n",
    "            \n",
    "        else:\n",
    "            num = 0\n",
    "            ch += t[j]\n",
    "        "
   ]
  },
  {
   "cell_type": "code",
   "execution_count": 1,
   "metadata": {},
   "outputs": [
    {
     "data": {
      "text/plain": [
       "5"
      ]
     },
     "execution_count": 1,
     "metadata": {},
     "output_type": "execute_result"
    }
   ],
   "source": [
    "-1 % 6"
   ]
  },
  {
   "cell_type": "code",
   "execution_count": null,
   "metadata": {},
   "outputs": [],
   "source": []
  },
  {
   "cell_type": "code",
   "execution_count": null,
   "metadata": {},
   "outputs": [],
   "source": []
  },
  {
   "cell_type": "code",
   "execution_count": null,
   "metadata": {},
   "outputs": [],
   "source": [
    "import itertools\n",
    "\n",
    "n, m = map(int, input().split())\n",
    "S = [input() for _ in range(n)]\n",
    "ng = set()\n",
    "for _ in range(m):\n",
    "    ng.add(input())\n",
    "\n",
    "t = sum(len(s) for s in S)\n",
    "t += n - 1\n",
    "t = 16 - t\n",
    "for T in itertools.permutations(S):\n",
    "    X = []\n",
    "    \n",
    "    def dfs(i, t):\n",
    "        X.append(T[i])\n",
    "        if i == n - 1:\n",
    "            U = \"\".join(X)\n",
    "            if len(U) < 3:\n",
    "                X.pop()\n",
    "                return\n",
    "            if U not in ng:\n",
    "                print(U)\n",
    "                exit()\n",
    "            X.pop()\n",
    "            return\n",
    "\n",
    "        for j in range(t + 1):\n",
    "            X.append(\"_\")\n",
    "            dfs(i + 1, t - j)\n",
    "        for _ in range(t + 2):\n",
    "            X.pop()\n",
    "\n",
    "\n",
    "    dfs(0, t)\n",
    "\n",
    "print(-1)"
   ]
  },
  {
   "cell_type": "code",
   "execution_count": null,
   "metadata": {},
   "outputs": [],
   "source": [
    "from itertools import permutations\n",
    "\n",
    "n, m = map(int, input().split())\n",
    "S = [input() for _ in range(n)]\n",
    "ng = set()\n",
    "for _ in range(m):\n",
    "    ng.add(input())\n",
    "\n",
    "t = sum(len(S[i]) for i in range(n))\n",
    "t += n - 1\n",
    "t = 16 - t\n",
    "\n",
    "def dfs(i, t):\n",
    "    X.append(T[i])\n",
    "    if i == n - 1:\n",
    "        U = \"\".join(X)\n",
    "        if len(U) < 3:\n",
    "            X.pop()\n",
    "            return\n",
    "        if U not in ng:\n",
    "            print(U)\n",
    "            exit()\n",
    "        X.pop()\n",
    "        return\n",
    "    \n",
    "    for j in range(t + 1):\n",
    "        X.append('_')\n",
    "        dfs(i + 1, t - j)\n",
    "    for _ in range(t + 2):\n",
    "        X.pop()\n",
    "\n",
    "\n",
    "for T in permutations(S):\n",
    "    X = []\n",
    "    dfs(0, t)\n",
    "\n",
    "print(-1)"
   ]
  }
 ],
 "metadata": {
  "kernelspec": {
   "display_name": "Python 3.10.4 64-bit",
   "language": "python",
   "name": "python3"
  },
  "language_info": {
   "codemirror_mode": {
    "name": "ipython",
    "version": 3
   },
   "file_extension": ".py",
   "mimetype": "text/x-python",
   "name": "python",
   "nbconvert_exporter": "python",
   "pygments_lexer": "ipython3",
   "version": "3.10.4"
  },
  "orig_nbformat": 4,
  "vscode": {
   "interpreter": {
    "hash": "c036f8f3ad2f0d684820dfc35afda6e333e93b801313b3488a29c3dc9dff951a"
   }
  }
 },
 "nbformat": 4,
 "nbformat_minor": 2
}
