{
 "cells": [
  {
   "cell_type": "code",
   "execution_count": null,
   "metadata": {},
   "outputs": [],
   "source": [
    "S = list(input())\n",
    "N = len(S)\n",
    "for i in range(N // 2):\n",
    "    S[2 * i], S[2 * i + 1] = S[2 * i + 1], S[2 * i]\n",
    "print(*S, sep='')"
   ]
  },
  {
   "cell_type": "code",
   "execution_count": null,
   "metadata": {},
   "outputs": [],
   "source": [
    "N = int(input())\n",
    "A = list(map(int, input().split()))\n",
    "is_call = [False] * (N + 1)\n",
    "\n",
    "for i, a in enumerate(A, 1):\n",
    "    if not is_call[i]:\n",
    "        is_call[a] = True\n",
    "ans = [i for i in range(1, N + 1) if is_call[i] == False]\n",
    "print(len(ans))\n",
    "print(*ans)"
   ]
  },
  {
   "cell_type": "code",
   "execution_count": null,
   "metadata": {},
   "outputs": [],
   "source": [
    "from itertools import combinations\n",
    "\n",
    "H, W = map(int, input().split())\n",
    "A = [list(map(int, input().split())) for _ in range(H)]\n",
    "\n",
    "ans = 0\n",
    "for comb in combinations(range(H + W - 2), H - 1):\n",
    "    nums = set()\n",
    "    x, y = 0, 0\n",
    "    nums.add(A[x][y])\n",
    "    for i in range(H + W - 2):\n",
    "        if i in comb:\n",
    "            x += 1\n",
    "        else:\n",
    "            y += 1\n",
    "        nums.add(A[x][y])\n",
    "    if len(nums) == H + W - 1:\n",
    "        ans += 1\n",
    "print(ans)"
   ]
  },
  {
   "cell_type": "code",
   "execution_count": 1,
   "metadata": {},
   "outputs": [
    {
     "data": {
      "text/plain": [
       "[(0, 1, 2), (0, 1, 3), (0, 2, 3), (1, 2, 3)]"
      ]
     },
     "execution_count": 1,
     "metadata": {},
     "output_type": "execute_result"
    }
   ],
   "source": [
    "from collections import defaultdict, deque\n",
    "N, M = map(int, input().split())\n",
    "dgrees = [1] * (2 * N)\n",
    "edges = defaultdict(list)\n",
    "\n",
    "for i in range(N):\n",
    "    edges[2 * i].append(2 * i + 1)\n",
    "    edges[2 * i + 1].append(2 * i)\n",
    "\n",
    "for _ in range(M):\n",
    "    a, b, c, d = input().split()\n",
    "    a = (int(a) - 1) * 2\n",
    "    c = (int(c) - 1) * 2\n",
    "    if b == 'B':\n",
    "        a += 1\n",
    "    if d == 'B':\n",
    "        c += 1\n",
    "    dgrees[a] += 1\n",
    "    dgrees[c] += 1\n",
    "    edges[a].append(c)\n",
    "    edges[c].append(a)\n",
    "\n",
    "ans = [0, 0]\n",
    "visited = set()\n",
    "for i in range(2 * N):\n",
    "    que = deque()\n",
    "    if i not in visited and dgrees[i] == 1:\n",
    "        que.append(i)\n",
    "        while que:\n",
    "            v = que.pop()\n",
    "            visited.add(v)\n",
    "            for next in edges[v]:\n",
    "                if next not in visited:\n",
    "                    que.append(next)\n",
    "        ans[1] += 1\n",
    "\n",
    "for i in range(2 * N):\n",
    "    que = deque()\n",
    "    if i not in visited:\n",
    "        que.append(i)\n",
    "        while que:\n",
    "            v = que.pop()\n",
    "            visited.add(v)\n",
    "            for next in edges[v]:\n",
    "                if next not in visited:\n",
    "                    que.append(next)\n",
    "        ans[0] += 1\n",
    "\n",
    "print(*ans)"
   ]
  },
  {
   "cell_type": "code",
   "execution_count": null,
   "metadata": {},
   "outputs": [],
   "source": []
  }
 ],
 "metadata": {
  "kernelspec": {
   "display_name": "Python 3",
   "language": "python",
   "name": "python3"
  },
  "language_info": {
   "codemirror_mode": {
    "name": "ipython",
    "version": 3
   },
   "file_extension": ".py",
   "mimetype": "text/x-python",
   "name": "python",
   "nbconvert_exporter": "python",
   "pygments_lexer": "ipython3",
   "version": "3.10.4"
  },
  "orig_nbformat": 4
 },
 "nbformat": 4,
 "nbformat_minor": 2
}
