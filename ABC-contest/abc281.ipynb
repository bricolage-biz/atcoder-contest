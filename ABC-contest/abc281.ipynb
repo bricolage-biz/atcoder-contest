{
 "cells": [
  {
   "cell_type": "code",
   "execution_count": 2,
   "metadata": {},
   "outputs": [
    {
     "name": "stdout",
     "output_type": "stream",
     "text": [
      "22\n",
      "21\n",
      "20\n",
      "19\n",
      "18\n",
      "17\n",
      "16\n",
      "15\n",
      "14\n",
      "13\n",
      "12\n",
      "11\n",
      "10\n",
      "9\n",
      "8\n",
      "7\n",
      "6\n",
      "5\n",
      "4\n",
      "3\n",
      "2\n",
      "1\n",
      "0\n"
     ]
    }
   ],
   "source": [
    "N = int(input())\n",
    "\n",
    "for i in reversed(range(N + 1)):\n",
    "    print(i)"
   ]
  },
  {
   "cell_type": "code",
   "execution_count": 3,
   "metadata": {},
   "outputs": [
    {
     "ename": "TypeError",
     "evalue": "'str' object cannot be interpreted as an integer",
     "output_type": "error",
     "traceback": [
      "\u001b[1;31m---------------------------------------------------------------------------\u001b[0m",
      "\u001b[1;31mTypeError\u001b[0m                                 Traceback (most recent call last)",
      "\u001b[1;32mセル2 を c:\\Users\\yamaguchi_sueko\\Documents\\atcoder\\abc281.ipynb\u001b[0m in \u001b[0;36m<cell line: 1>\u001b[1;34m()\u001b[0m\n\u001b[1;32m----> <a href='vscode-notebook-cell:/c%3A/Users/yamaguchi_sueko/Documents/atcoder/abc281.ipynb#W1sZmlsZQ%3D%3D?line=0'>1</a>\u001b[0m \u001b[39mchr\u001b[39;49m(\u001b[39m'\u001b[39;49m\u001b[39mA\u001b[39;49m\u001b[39m'\u001b[39;49m)\n",
      "\u001b[1;31mTypeError\u001b[0m: 'str' object cannot be interpreted as an integer"
     ]
    }
   ],
   "source": [
    "S = input()\n",
    "alpha = 'ABCDEFGHIJKLMNOPQRSTUVWXYZ'\n",
    "if len(S) != 8:\n",
    "    print('No')\n",
    "    exit()\n",
    "first = S[0]\n",
    "middle = S[1:7]\n",
    "last = S[-1]\n",
    "\n",
    "if not (first in alpha and last in alpha):\n",
    "    print('No')\n",
    "    exit()\n",
    "if not middle.isdecimal():\n",
    "    print('No')\n",
    "    exit()\n",
    "if not (middle.lstrip('0') == middle):\n",
    "    print('No')\n",
    "    exit()\n",
    "print('Yes')"
   ]
  },
  {
   "cell_type": "code",
   "execution_count": null,
   "metadata": {},
   "outputs": [],
   "source": [
    "S = input()\n",
    "\n",
    "def solve():\n",
    "    if len(S) != 8:\n",
    "        return False\n",
    "    if not (S[0].isupper() and S[-1].isupper()):\n",
    "        return False\n",
    "    for i in range(1, 7):\n",
    "        if not (S[i].isdecimal()):\n",
    "            return False\n",
    "    if S[1] == '0':\n",
    "        return False\n",
    "    return True\n",
    "\n",
    "print('Yes' if solve() else 'No')"
   ]
  },
  {
   "cell_type": "code",
   "execution_count": null,
   "metadata": {},
   "outputs": [],
   "source": [
    "N, T = map(int, input().split())\n",
    "A = list(map(int, input().split()))\n",
    "tot = sum(A)\n",
    "\n",
    "rem = T % tot\n",
    "for i, a in enumerate(A, 1):\n",
    "    if rem - a >= 0:\n",
    "        rem -= a\n",
    "    else:\n",
    "        print(i, rem)\n",
    "        exit()"
   ]
  },
  {
   "cell_type": "code",
   "execution_count": null,
   "metadata": {},
   "outputs": [],
   "source": [
    "N, K, D = map(int, input().split())\n",
    "A = list(map(int, input().split()))\n",
    "Ad = [a % D for a in A]\n",
    "inf = 10 ** 15\n",
    "dp = [[inf] * D for _ in range(N + 1)]\n",
    "dp[0][0] = 0\n",
    "for i in range(N):\n",
    "    for j in range(D):\n",
    "        if dp[i][j] == inf or dp[i][j] == K:\n",
    "            continue\n",
    "        dp[i + 1][j] = dp[i][j]\n",
    "        dp[i + 1][(j + Ad[i]) % D] = dp[i][j] + 1\n",
    "\n",
    "if dp[N][0] != K:\n",
    "    print(-1)\n",
    "    exit()\n"
   ]
  },
  {
   "cell_type": "code",
   "execution_count": 5,
   "metadata": {},
   "outputs": [
    {
     "data": {
      "text/plain": [
       "[[[-1, -1, -1], [-1, -1, -1], [-1, -1, -1]],\n",
       " [[-1, -1, -1], [-1, -1, -1], [-1, -1, -1]]]"
      ]
     },
     "execution_count": 5,
     "metadata": {},
     "output_type": "execute_result"
    }
   ],
   "source": [
    "N, K, D = map(int, input().split())\n",
    "A = list(map(int, input().split()))\n",
    "\n",
    "dp = [[[-1] * (N + 1) for j in range(K + 1)] for r in range(D)] # dp[d][k][n]\n",
    "dp[0][0][0] = 0\n",
    "for i in range(N):\n",
    "    ni = i + 1\n",
    "    for j in range(K + 1):\n",
    "        for r in range(D):\n",
    "            if dp[r][j][i] == -1:\n",
    "                continue\n",
    "            # 項の和にaiを使う場合\n",
    "            if j + 1 <= K:\n",
    "                nj = j + 1\n",
    "                nr = (r + A[ni - 1])%D\n",
    "                now = dp[nr][nj][ni]\n",
    "                dp[nr][nj][ni] = max(now, dp[r][j][i] + A[ni - 1])\n",
    "            # 使わない場合\n",
    "            nj = j\n",
    "            nr = r\n",
    "            now = dp[nr][nj][ni]\n",
    "            dp[nr][nj][ni] = max(now, dp[r][j][i])\n",
    "print(dp[0][K][N])"
   ]
  },
  {
   "cell_type": "code",
   "execution_count": 7,
   "metadata": {},
   "outputs": [
    {
     "data": {
      "text/plain": [
       "[0, 0, 0, 0, 0]"
      ]
     },
     "execution_count": 7,
     "metadata": {},
     "output_type": "execute_result"
    }
   ],
   "source": [
    "N, K, D = map(int, input().split())\n",
    "A = list(map(int, input().split()))\n",
    "\n",
    "# dpテーブルを少し大きめにとれば添え字での場合分けが不要になる\n",
    "dp = [[[-1] * (N + 5) for j in range(K + 5)] for r in range(D)] # dp[d][k][n]\n",
    "dp[0][0][0] = 0\n",
    "for i in range(N):\n",
    "    ni = i + 1\n",
    "    for j in range(K + 1):\n",
    "        for r in range(D):\n",
    "            if dp[r][j][i] == -1:\n",
    "                continue\n",
    "            # 項の和にaiを使う場合\n",
    "            nj = j + 1\n",
    "            nr = (r + A[ni - 1])%D\n",
    "            now = dp[nr][nj][ni]\n",
    "            dp[nr][nj][ni] = max(now, dp[r][j][i] + A[ni - 1])\n",
    "            # 使わない場合\n",
    "            nj = j\n",
    "            nr = r\n",
    "            now = dp[nr][nj][ni]\n",
    "            dp[nr][nj][ni] = max(now, dp[r][j][i])\n",
    "print(dp[0][K][N])"
   ]
  },
  {
   "cell_type": "code",
   "execution_count": null,
   "metadata": {},
   "outputs": [],
   "source": []
  }
 ],
 "metadata": {
  "kernelspec": {
   "display_name": "Python 3",
   "language": "python",
   "name": "python3"
  },
  "language_info": {
   "codemirror_mode": {
    "name": "ipython",
    "version": 3
   },
   "file_extension": ".py",
   "mimetype": "text/x-python",
   "name": "python",
   "nbconvert_exporter": "python",
   "pygments_lexer": "ipython3",
   "version": "3.10.4"
  },
  "orig_nbformat": 4,
  "vscode": {
   "interpreter": {
    "hash": "c036f8f3ad2f0d684820dfc35afda6e333e93b801313b3488a29c3dc9dff951a"
   }
  }
 },
 "nbformat": 4,
 "nbformat_minor": 2
}
