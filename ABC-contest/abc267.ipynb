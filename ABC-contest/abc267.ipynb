{
 "cells": [
  {
   "cell_type": "code",
   "execution_count": null,
   "metadata": {},
   "outputs": [],
   "source": [
    "s = input()\n",
    "lst = [\"Monday\", \"Tuesday\", \"Wednesday\", \"Thursday\", \"Friday\"]\n",
    "print(5 - lst.index(s))"
   ]
  },
  {
   "cell_type": "code",
   "execution_count": null,
   "metadata": {},
   "outputs": [],
   "source": [
    "S = input()\n",
    "cols = [[6], [3], [1, 7], [0, 4], [2, 8], [5], [9]]\n",
    "if S[0] == '1':\n",
    "    print('No')\n",
    "    exit()\n",
    "\n",
    "for i in range(5):\n",
    "    cnt1 = 0\n",
    "    for pin1 in cols[i]:\n",
    "        if S[pin1] == '1':\n",
    "            cnt1 += 1\n",
    "    if cnt1 == 0:\n",
    "        continue\n",
    "    for j in range(i + 2, 7):\n",
    "        cnt2 = 0\n",
    "        for pin2 in cols[j]:\n",
    "            if S[pin2] == '1':\n",
    "                cnt2 += 1\n",
    "        if cnt2 >= 1:\n",
    "            for k in range(i + 1, j):\n",
    "                cnt3 = 0\n",
    "                for pin3 in cols[k]:\n",
    "                    if S[pin3] == '0':\n",
    "                        cnt3 += 1\n",
    "                if cnt3 == len(cols[k]):\n",
    "                    print('Yes')\n",
    "                    exit()\n",
    "print('No')\n"
   ]
  },
  {
   "cell_type": "code",
   "execution_count": null,
   "metadata": {},
   "outputs": [],
   "source": [
    "# B\n",
    "S = input()\n",
    "C = 'x'\n",
    "if S[6] == '1':C += 'o'\n",
    "else:C += 'x'\n",
    "if S[3] == '1':C += 'o'\n",
    "else:C += 'x'\n",
    "if S[1] == '1' or S[7] == '1':C += 'o'\n",
    "else:C += 'x'\n",
    "if S[0] == '1' or S[4] == '1':C += 'o'\n",
    "else:C += 'x'\n",
    "if S[2] == '1' or S[8] == '1':C += 'o'\n",
    "else:C += 'x'\n",
    "if S[5] == '1':C += 'o'\n",
    "else:C += 'x'\n",
    "if S[9] == '1':C += 'o'\n",
    "else:C += 'x'\n",
    "\n",
    "cnt = 0\n",
    "for i in range(7):\n",
    "    if C[i:i+2] == 'xo':\n",
    "        cnt += 1\n",
    "print('Yes' if cnt > 1 and S[0] == '0' else 'No')"
   ]
  },
  {
   "cell_type": "code",
   "execution_count": 6,
   "metadata": {},
   "outputs": [
    {
     "name": "stdout",
     "output_type": "stream",
     "text": [
      "yes\n"
     ]
    }
   ],
   "source": [
    "# C\n",
    "n, m = map(int, input().split())\n",
    "A = list(map(int, input().split()))\n",
    "tot = 0\n",
    "f = 0\n",
    "for i in range(m):\n",
    "    tot += A[i]\n",
    "    f += (i + 1) * A[i]\n",
    "ans = f\n",
    "for i in range(m, n):\n",
    "    f += m * A[i]\n",
    "    f -= tot\n",
    "    tot += A[i]\n",
    "    tot -= A[i - m]\n",
    "    ans = max(ans, f)\n",
    "print(ans)"
   ]
  },
  {
   "cell_type": "code",
   "execution_count": 13,
   "metadata": {},
   "outputs": [
    {
     "name": "stdout",
     "output_type": "stream",
     "text": [
      "21\n"
     ]
    }
   ],
   "source": [
    "# D\n",
    "N, M = map(int, input().split())\n",
    "A = list(map(int, input().split()))\n",
    "INF = 1 << 60\n",
    "dp = [[-INF] * (N + 1) for _ in range(M + 1)]\n",
    "dp[0][0] = 0\n",
    "for i in range(N):\n",
    "    for j in range(M + 1):\n",
    "        dp[j][i + 1] = max(dp[j][i + 1], dp[j][i])\n",
    "        if j < M:\n",
    "            dp[j + 1][i + 1] = max(dp[j + 1][i + 1], dp[j][i] + A[i] * (j + 1))\n",
    "print(dp[M][N])"
   ]
  },
  {
   "cell_type": "code",
   "execution_count": null,
   "metadata": {},
   "outputs": [],
   "source": [
    "# E\n",
    "import sys\n",
    "from collections import deque\n",
    "input = sys.stdin.readline\n",
    "N, M = map(int, input().split())\n",
    "A = [0] + list(map(int, input().split()))\n",
    "edges = [[] for _ in range(N + 1)]\n",
    "\n",
    "for _ in range(M):\n",
    "    U, V = map(int, input().split())\n",
    "    edges[U].append(V)\n",
    "    edges[V].append(U)\n",
    "\n",
    "# 初期のコストの計算\n",
    "costs_init = [0] * (N + 1)\n",
    "for v in range(1, N + 1):\n",
    "    for adj_v in edges[v]:\n",
    "        costs_init[v] += A[adj_v]\n",
    "\n",
    "# コストX以下ですべての頂点を消せるかどうかを判定する\n",
    "def judge(X):\n",
    "    que = deque()\n",
    "    used = [False] * (N + 1)\n",
    "    costs = costs_init[:]\n",
    "    cnt = 0\n",
    "    for v in range(1, N + 1):\n",
    "        if costs[v] <= X:\n",
    "            que.append(v)\n",
    "            used[v] = True\n",
    "    while que:\n",
    "        s = que.popleft()\n",
    "        cnt += 1\n",
    "        for adj_s in edges[s]:\n",
    "            costs[adj_s] -= A[s]\n",
    "            if costs[adj_s] <= X and used[adj_s] == False:\n",
    "                que.append(adj_s)\n",
    "                used[adj_s] = True\n",
    "    return cnt == N\n",
    "\n",
    "ng = -1\n",
    "ok = max(costs_init)\n",
    "while abs(ok - ng) > 1:\n",
    "    mid = (ok + ng) // 2\n",
    "    if judge(mid):\n",
    "        ok = mid\n",
    "    else:\n",
    "        ng = mid\n",
    "print(ok)"
   ]
  },
  {
   "cell_type": "code",
   "execution_count": 5,
   "metadata": {},
   "outputs": [
    {
     "name": "stdout",
     "output_type": "stream",
     "text": [
      "1\n",
      "2\n",
      "3\n"
     ]
    }
   ],
   "source": [
    "# E\n",
    "from collections import defaultdict, deque\n",
    "N, M = map(int, input().split())\n",
    "A = [0] + list(map(int, input().split()))\n",
    "edges = defaultdict(list)\n",
    "\n",
    "for _ in range(M):\n",
    "    U, V = map(int, input().split())\n",
    "    edges[U].append(V)\n",
    "    edges[V].append(U)\n",
    "\n",
    "# 初期のコストの計算\n",
    "costs = [0] * (N + 1)\n",
    "for v in range(1, N + 1):\n",
    "    for adj_v in edges[v]:\n",
    "        costs[v] += A[adj_v]\n",
    "\n",
    "# コストX以下ですべての頂点を消せるかどうかを判定する\n",
    "def judge(X):\n",
    "    que = deque()\n",
    "    used = set()\n",
    "    for v in range(1, N + 1):\n",
    "        if costs[v] <= X:\n",
    "            que.append(v)\n",
    "            used.add(v)\n",
    "    while que:\n",
    "        s = que.popleft()\n",
    "        for adj_s in edges[s]:\n",
    "            if adj_s in used:\n",
    "                continue\n",
    "            costs[adj_s] -= A[s]\n",
    "            if costs[adj_s] <= X:\n",
    "                que.append(adj_s)\n",
    "                used.add(adj_s)\n",
    "    if len(used) == N:\n",
    "        return True\n",
    "    return False\n",
    "\n",
    "print(judge(0))\n",
    "print(judge(1))\n",
    "print(judge(2))\n",
    "print(judge(3))\n",
    "print(judge(4))\n",
    "print(judge(5))"
   ]
  },
  {
   "cell_type": "code",
   "execution_count": null,
   "metadata": {},
   "outputs": [],
   "source": [
    "from \n",
    "class animal:\n",
    "    def bow(self, ls: List[str]) -> int:\n"
   ]
  }
 ],
 "metadata": {
  "kernelspec": {
   "display_name": "Python 3.10.4 64-bit",
   "language": "python",
   "name": "python3"
  },
  "language_info": {
   "codemirror_mode": {
    "name": "ipython",
    "version": 3
   },
   "file_extension": ".py",
   "mimetype": "text/x-python",
   "name": "python",
   "nbconvert_exporter": "python",
   "pygments_lexer": "ipython3",
   "version": "3.10.4"
  },
  "orig_nbformat": 4,
  "vscode": {
   "interpreter": {
    "hash": "c036f8f3ad2f0d684820dfc35afda6e333e93b801313b3488a29c3dc9dff951a"
   }
  }
 },
 "nbformat": 4,
 "nbformat_minor": 2
}
