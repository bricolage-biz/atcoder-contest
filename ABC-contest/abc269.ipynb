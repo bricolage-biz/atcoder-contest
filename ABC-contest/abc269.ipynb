{
 "cells": [
  {
   "cell_type": "code",
   "execution_count": null,
   "metadata": {},
   "outputs": [],
   "source": [
    "a, b, c, d = map(int, input().split())\n",
    "print((a + b) * (c - d))\n",
    "print('Takahashi')"
   ]
  },
  {
   "cell_type": "code",
   "execution_count": null,
   "metadata": {},
   "outputs": [],
   "source": [
    "ab = []\n",
    "S = []\n",
    "for i in range(10):\n",
    "    s = input()\n",
    "    S.append(s)\n",
    "    if s != '..........':\n",
    "        ab.append(i)\n",
    "a, b = ab[0], ab[-1]\n",
    "cd = []\n",
    "for j in range(10):\n",
    "    if S[a][j] == '#':\n",
    "        cd.append(j)\n",
    "c, d = cd[0], cd[-1]\n",
    "\n",
    "print(a + 1, b + 1)\n",
    "print(c + 1, d + 1)"
   ]
  },
  {
   "cell_type": "code",
   "execution_count": 3,
   "metadata": {},
   "outputs": [
    {
     "data": {
      "text/plain": [
       "[0, 1, 3]"
      ]
     },
     "execution_count": 3,
     "metadata": {},
     "output_type": "execute_result"
    }
   ],
   "source": [
    "from itertools import product\n",
    "N = int(input())\n",
    "ind = []\n",
    "for i in range(60):\n",
    "    if N & 1 << i:\n",
    "        ind.append(i)\n",
    "\n",
    "ans = []\n",
    "for bins in product(range(2), repeat=len(ind)):\n",
    "    x = 0\n",
    "    for i, b in enumerate(bins):\n",
    "        if b == 1:\n",
    "            x += 2 ** ind[i]\n",
    "    ans.append(x)\n",
    "ans.sort()\n",
    "for a in ans:\n",
    "    print(a)"
   ]
  },
  {
   "cell_type": "code",
   "execution_count": null,
   "metadata": {},
   "outputs": [],
   "source": [
    "# unionFindで解く\n",
    "class UnionFind():\n",
    "    def __init__(self, n):\n",
    "        self.n = n\n",
    "        self.parents = [-1] * n\n",
    "    \n",
    "    def root(self, x): #xの根を取得\n",
    "        if self.parents[x] < 0:\n",
    "            return x\n",
    "        else:\n",
    "            self.parents[x] = self.root(self.parents[x])\n",
    "            return self.parents[x]\n",
    "\n",
    "    def unite(self, x, y): #xとyをマージ\n",
    "        x = self.root(x)\n",
    "        y = self.root(y)\n",
    "\n",
    "        if x == y:\n",
    "            return\n",
    "        if self.parents[x] > self.parents[y]:\n",
    "            x, y = y, x\n",
    "\n",
    "        self.parents[x] += self.parents[y]\n",
    "        self.parents[y] = x\n",
    "\n",
    "    def is_same(self, x, y): #xとyが同じ連結成分か判定\n",
    "        return self.root(x) == self.root(y)\n",
    "\n",
    "    def size(self, x):\n",
    "        return -self.parents[self.root(x)]\n",
    "\n",
    "    def get_groups(self): #すべてのグループについて親とそのメンバーを辞書で返します\n",
    "        members = {}\n",
    "        for member in range(self.n):\n",
    "            p = self.root(member)        \n",
    "            if members.get(p, False):\n",
    "                members[p].append(member)\n",
    "            else:\n",
    "                members[p] = [member]\n",
    "\n",
    "        return members\n",
    "\n",
    "N = int(input())\n",
    "xy = []\n",
    "uf = UnionFind(N)\n",
    "\n",
    "for i in range(N):\n",
    "    x, y = map(int, input().split())\n",
    "    if i == 0:\n",
    "        xy.append((x, y))\n",
    "        continue\n",
    "    for j in range(len(xy)):\n",
    "        x_j, y_j = xy[j][0], xy[j][1]\n",
    "        if ((x - 1, y - 1) == (x_j, y_j)\n",
    "        or (x - 1, y) == (x_j, y_j)\n",
    "        or (x, y - 1) == (x_j, y_j)\n",
    "        or (x, y + 1) == (x_j, y_j)\n",
    "        or (x + 1, y) == (x_j, y_j)\n",
    "        or (x + 1, y + 1) == (x_j, y_j)):\n",
    "            uf.unite(i, j)\n",
    "    xy.append((x, y))\n",
    "\n",
    "print(len(uf.get_groups()))"
   ]
  },
  {
   "cell_type": "code",
   "execution_count": null,
   "metadata": {},
   "outputs": [],
   "source": [
    "# bfsで解く\n",
    "from collections import deque\n",
    "N = int(input())\n",
    "Black = set()\n",
    "for _ in range(N):\n",
    "    x, y = map(int, input().split())\n",
    "    Black.add((x, y))\n",
    "\n",
    "def bfs(row, col):\n",
    "    que = deque()\n",
    "    dir = [(-1, -1), (-1, 0), (0, -1), (0, 1), (1, 0), (1, 1)]\n",
    "    que.append((row, col))\n",
    "    visited.add((row, col))\n",
    "    while que:\n",
    "        cur_x, cur_y = que.popleft()\n",
    "        for dx, dy in dir:\n",
    "            adj_x = cur_x + dx\n",
    "            adj_y = cur_y + dy\n",
    "            if (adj_x in range(-1000, 1001)\n",
    "            and adj_y in range(-1000, 1001)\n",
    "            and (adj_x, adj_y) in Black\n",
    "            and (adj_x, adj_y) not in visited):\n",
    "                visited.add((adj_x, adj_y))\n",
    "                que.append((adj_x, adj_y))\n",
    "\n",
    "visited = set()\n",
    "ans = 0\n",
    "for row in range(-1000, 1001):\n",
    "    for col in range(-1000, 1001):\n",
    "        if (row, col) in Black and (row, col) not in visited:\n",
    "            bfs(row, col)\n",
    "            ans += 1\n",
    "print(ans)"
   ]
  },
  {
   "cell_type": "code",
   "execution_count": 7,
   "metadata": {},
   "outputs": [
    {
     "name": "stdout",
     "output_type": "stream",
     "text": [
      "? 1 2 1 3\n",
      "? 1 3 1 2\n",
      "! 3 3\n"
     ]
    }
   ],
   "source": [
    "# E\n",
    "N = int(input())\n",
    "ans = []\n",
    "for i in range(2):\n",
    "    L, R = 1, N\n",
    "    while L != R:\n",
    "        M = (L + R) // 2\n",
    "        if i == 0:\n",
    "            print(\"?\", L, M, 1, N)\n",
    "        if i == 1:\n",
    "            print(\"?\", 1, N, L, M)\n",
    "        x = int(input())\n",
    "        if x == M - L :\n",
    "            R = M\n",
    "        else:\n",
    "            L = M + 1\n",
    "    ans.append(L)\n",
    "print(\"!\", ans[0], ans[1])"
   ]
  },
  {
   "cell_type": "code",
   "execution_count": null,
   "metadata": {},
   "outputs": [],
   "source": [
    "n = int(input())\n",
    "\n",
    "l = 0\n",
    "r = n\n",
    "while r - l > 1:\n",
    "    mid = (l + r) // 2\n",
    "    print(\"?\", 1, mid, 1, n, flush=True)\n",
    "    x = int(input())\n",
    "    if x == mid:\n",
    "        l = mid\n",
    "    else:\n",
    "        r = mid\n",
    "\n",
    "d = 0\n",
    "u = n\n",
    "while u - d > 1:\n",
    "    mid = (u + d) // 2\n",
    "    print(\"?\", 1, n, 1, mid, flush=True)\n",
    "    x = int(input())\n",
    "    if x == mid:\n",
    "        d = mid\n",
    "    else:\n",
    "        u = mid\n",
    "\n",
    "print(\"!\", r, u, flush=True)"
   ]
  },
  {
   "cell_type": "code",
   "execution_count": 9,
   "metadata": {},
   "outputs": [
    {
     "name": "stdout",
     "output_type": "stream",
     "text": [
      "1 4\n"
     ]
    }
   ],
   "source": [
    "N = int(input())\n",
    "row_span = []\n",
    "col_span = []\n",
    "mid = (a + b) // 2\n",
    "a, b, c, d = 1, N, 1, N\n",
    "i = 1 \n",
    "while abs(a - b) == 1:\n",
    "    if i == 1:\n",
    "        print('?', a, mid, c, d)\n",
    "    if i != 1:\n",
    "        print('?', a, b, c, d)\n",
    "    hint = int(input())\n",
    "    if hint < N // (2 ** i):\n",
    "        b = mid\n",
    "    else:\n",
    "        a = mid\n",
    "    mid = (a + b) // 2\n",
    "    i += 1\n",
    "\n",
    "print(a,b)\n"
   ]
  },
  {
   "cell_type": "code",
   "execution_count": null,
   "metadata": {},
   "outputs": [],
   "source": []
  }
 ],
 "metadata": {
  "kernelspec": {
   "display_name": "Python 3.10.4 64-bit",
   "language": "python",
   "name": "python3"
  },
  "language_info": {
   "codemirror_mode": {
    "name": "ipython",
    "version": 3
   },
   "file_extension": ".py",
   "mimetype": "text/x-python",
   "name": "python",
   "nbconvert_exporter": "python",
   "pygments_lexer": "ipython3",
   "version": "3.10.4"
  },
  "orig_nbformat": 4,
  "vscode": {
   "interpreter": {
    "hash": "c036f8f3ad2f0d684820dfc35afda6e333e93b801313b3488a29c3dc9dff951a"
   }
  }
 },
 "nbformat": 4,
 "nbformat_minor": 2
}
