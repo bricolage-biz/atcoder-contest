{
 "cells": [
  {
   "cell_type": "code",
   "execution_count": 26,
   "metadata": {},
   "outputs": [
    {
     "name": "stdout",
     "output_type": "stream",
     "text": [
      "4\n",
      "1\n",
      "3\n",
      "7\n",
      "9\n"
     ]
    }
   ],
   "source": [
    "def primeFactorization(x):\n",
    "    \"\"\"\n",
    "    xを素因数分解\n",
    "    \"\"\"\n",
    "    if x == 1:\n",
    "        return [1]\n",
    "    \n",
    "    factors = []\n",
    "    i = 2\n",
    "    while i ** 2 <= x:\n",
    "        if x % i == 0:\n",
    "            factors.append(i)\n",
    "            x //= i\n",
    "        else:\n",
    "            i += 1\n",
    "    if x != 1:\n",
    "        factors.append(x)\n",
    "    return factors\n",
    "\n",
    "N, M = map(int, input().split())\n",
    "A = list(map(int, input().split()))\n",
    "\n",
    "primes = set()\n",
    "for a in A:\n",
    "    if a == 1:\n",
    "        continue\n",
    "    factors = primeFactorization(a)\n",
    "    for fact in factors:\n",
    "        primes.add(fact)\n",
    "\n",
    "ans = [True] * (M + 1)\n",
    "ans[0] = False\n",
    "\n",
    "for p in sorted(primes):\n",
    "    if p == 1 or p > M: # pがM+1以上のときansの配列外参照になるためダメ \n",
    "        continue\n",
    "    if ans[p]:\n",
    "        for i in range(p, M + 1, p):\n",
    "            # if i > M:\n",
    "            #     break\n",
    "            ans[i] = False\n",
    "ans = [i for i in range(M + 1) if ans[i]]\n",
    "print(len(ans))\n",
    "print('\\n'.join(map(str, ans)))"
   ]
  },
  {
   "cell_type": "code",
   "execution_count": null,
   "metadata": {},
   "outputs": [],
   "source": []
  }
 ],
 "metadata": {
  "kernelspec": {
   "display_name": "Python 3.10.4 64-bit",
   "language": "python",
   "name": "python3"
  },
  "language_info": {
   "codemirror_mode": {
    "name": "ipython",
    "version": 3
   },
   "file_extension": ".py",
   "mimetype": "text/x-python",
   "name": "python",
   "nbconvert_exporter": "python",
   "pygments_lexer": "ipython3",
   "version": "3.10.4"
  },
  "orig_nbformat": 4,
  "vscode": {
   "interpreter": {
    "hash": "c036f8f3ad2f0d684820dfc35afda6e333e93b801313b3488a29c3dc9dff951a"
   }
  }
 },
 "nbformat": 4,
 "nbformat_minor": 2
}
