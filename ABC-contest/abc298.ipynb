{
 "cells": [
  {
   "cell_type": "code",
   "execution_count": null,
   "metadata": {},
   "outputs": [],
   "source": [
    "from collections import Counter\n",
    "n = int(input())\n",
    "s = input()\n",
    "cntS = Counter(s)\n",
    "print('Yes' if cntS['o'] >= 1 and cntS['x'] == 0 else 'No')"
   ]
  },
  {
   "cell_type": "code",
   "execution_count": 3,
   "metadata": {},
   "outputs": [
    {
     "data": {
      "text/plain": [
       "0"
      ]
     },
     "execution_count": 3,
     "metadata": {},
     "output_type": "execute_result"
    }
   ],
   "source": [
    "N = int(input())\n",
    "A = [list(map(int, input().split())) for _ in range(N)]\n",
    "B = [list(map(int, input().split())) for _ in range(N)]\n",
    "\n",
    "def judge(X, Y):\n",
    "    for i in range(N):\n",
    "        for j in range(N):\n",
    "            if X[i][j] == 1 and Y[i][j] != 1:\n",
    "                return False\n",
    "    return True\n",
    "\n",
    "A1 = [[0] * N for _ in range(N)]\n",
    "A2 = [[0] * N for _ in range(N)]\n",
    "A3 = [[0] * N for _ in range(N)]\n",
    "\n",
    "for i in range(N):\n",
    "    for j in range(N):\n",
    "        A1[N - 1 - j][i] = A[i][j]\n",
    "        A2[N - 1 - i][N - 1 - j] = A[i][j]\n",
    "        A3[j][N - 1 - i] = A[i][j]\n",
    "\n",
    "print('Yes' if judge(A, B) or judge(A1, B) or judge(A2, B) or judge(A3, B) else 'No')"
   ]
  },
  {
   "cell_type": "code",
   "execution_count": null,
   "metadata": {},
   "outputs": [],
   "source": [
    "from collections import defaultdict\n",
    "cards = defaultdict(list)\n",
    "boxes = defaultdict(set)\n",
    "\n",
    "N = int(input())\n",
    "Q = int(input())\n",
    "\n",
    "for _ in range(Q):\n",
    "    query = list(map(int, input().split()))\n",
    "    if query[0] == 1:\n",
    "        i, j = query[1], query[2]\n",
    "        cards[j].append(i)\n",
    "        boxes[i].add(j)\n",
    "    elif query[0] == 2:\n",
    "        i = query[1]\n",
    "        cards[i].sort()\n",
    "        print(*cards[i])\n",
    "    else:\n",
    "        i = query[1]\n",
    "        boxes[i] = sorted(boxes[i])\n",
    "        print(*boxes[i])"
   ]
  },
  {
   "cell_type": "code",
   "execution_count": null,
   "metadata": {},
   "outputs": [],
   "source": [
    "Q = int(input())\n",
    "digit = 0\n",
    "S = 1\n",
    "MOD = 998244353\n",
    "for _ in range(Q):\n",
    "    query = list(map(int, input().split()))\n",
    "    ind = query[0]\n",
    "    if ind == 1:\n",
    "        x = query[1]\n",
    "        S *= 10\n",
    "        S += x\n",
    "        S %= MOD\n",
    "        digit = len(str(S)) - 1\n",
    "    elif ind == 2:\n",
    "        S %= 10 ** digit * (S // (10 ** digit))\n",
    "        digit -= 1\n",
    "    else:\n",
    "        print(S % MOD)"
   ]
  },
  {
   "cell_type": "code",
   "execution_count": null,
   "metadata": {},
   "outputs": [],
   "source": [
    "from collections import deque\n",
    "Q = int(input())\n",
    "ans = 1\n",
    "MOD = 998244353\n",
    "q = deque([1])\n",
    "\n",
    "for _ in range(Q):\n",
    "    query = list(map(int, input().split()))\n",
    "    ind = query[0]\n",
    "    if ind == 1:\n",
    "        x = query[1]\n",
    "        q.append(x)\n",
    "        ans = (ans * 10 + x) % MOD\n",
    "    elif ind == 2:\n",
    "        head = q.popleft()\n",
    "        ans -= (head * pow(10, len(q), MOD)) % MOD\n",
    "        ans %= MOD\n",
    "    else:\n",
    "        print(ans % MOD)"
   ]
  },
  {
   "cell_type": "code",
   "execution_count": null,
   "metadata": {},
   "outputs": [],
   "source": []
  }
 ],
 "metadata": {
  "kernelspec": {
   "display_name": "Python 3",
   "language": "python",
   "name": "python3"
  },
  "language_info": {
   "codemirror_mode": {
    "name": "ipython",
    "version": 3
   },
   "file_extension": ".py",
   "mimetype": "text/x-python",
   "name": "python",
   "nbconvert_exporter": "python",
   "pygments_lexer": "ipython3",
   "version": "3.10.4"
  },
  "orig_nbformat": 4
 },
 "nbformat": 4,
 "nbformat_minor": 2
}
