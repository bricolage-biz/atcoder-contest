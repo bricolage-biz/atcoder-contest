{
 "cells": [
  {
   "cell_type": "code",
   "execution_count": null,
   "metadata": {},
   "outputs": [],
   "source": [
    "from collections import deque\n",
    "N, K = map(int, input().split())\n",
    "S = input()\n",
    "\n",
    "cnt = 0\n",
    "bef = '1'\n",
    "stack = []\n",
    "for s in S:\n",
    "    if s == bef:\n",
    "        cnt += 1\n",
    "    else:\n",
    "        stack.append(cnt)\n",
    "        bef = s\n",
    "        cnt = 1\n",
    "stack.append(cnt)\n",
    "if bef == '0':\n",
    "    stack.append(0)\n",
    "\n",
    "if len(stack) <= 2 * K + 1:\n",
    "    print(N)\n",
    "    exit()\n",
    "\n",
    "cum = [0]\n",
    "for s in stack:\n",
    "    cum.append(cum[-1] + s)\n",
    "\n",
    "ans = 0\n",
    "for i in range(2 * K, len(stack) + 1, 2):\n",
    "    ans = max(ans, cum[i + 1] - cum[i - 2 * K])\n",
    "print(ans)"
   ]
  },
  {
   "cell_type": "code",
   "execution_count": null,
   "metadata": {},
   "outputs": [],
   "source": [
    "from collections import deque\n",
    "N, K = map(int, input().split())\n",
    "S = input()\n",
    "cnt = 0\n",
    "bef = '1'\n",
    "stack = []\n",
    "for s in S:\n",
    "    if s == bef:\n",
    "        cnt += 1\n",
    "    else:\n",
    "        stack.append(cnt)\n",
    "        bef = s\n",
    "        cnt = 1\n",
    "stack.append(cnt)\n",
    "if bef == '0':\n",
    "    stack.append(0)\n",
    "\n",
    "if len(stack) <= 2 * K + 1:\n",
    "    print(N)\n",
    "    exit()\n",
    "\n",
    "ans = 0\n",
    "score = 0\n",
    "que = deque()\n",
    "for i in range(2 * K + 1):\n",
    "    que.append(stack[i])\n",
    "    score += stack[i]\n",
    "ans = max(ans, score)\n",
    "\n",
    "for i in range(2 * K + 1, len(stack) - 1, 2):\n",
    "    que.append(stack[i])\n",
    "    que.append(stack[i + 1])\n",
    "    score += stack[i]\n",
    "    score += stack[i + 1]\n",
    "    rm = que.popleft()\n",
    "    score -= rm\n",
    "    rm = que.popleft()\n",
    "    score -= rm\n",
    "    ans = max(ans, score)\n",
    "print(ans)"
   ]
  }
 ],
 "metadata": {
  "kernelspec": {
   "display_name": "Python 3.10.4 64-bit",
   "language": "python",
   "name": "python3"
  },
  "language_info": {
   "codemirror_mode": {
    "name": "ipython",
    "version": 3
   },
   "file_extension": ".py",
   "mimetype": "text/x-python",
   "name": "python",
   "nbconvert_exporter": "python",
   "pygments_lexer": "ipython3",
   "version": "3.10.4"
  },
  "orig_nbformat": 4,
  "vscode": {
   "interpreter": {
    "hash": "c036f8f3ad2f0d684820dfc35afda6e333e93b801313b3488a29c3dc9dff951a"
   }
  }
 },
 "nbformat": 4,
 "nbformat_minor": 2
}
