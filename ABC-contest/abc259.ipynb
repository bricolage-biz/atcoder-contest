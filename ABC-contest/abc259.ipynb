{
 "cells": [
  {
   "cell_type": "markdown",
   "metadata": {},
   "source": [
    "### AtCoder Beginner Contest 259"
   ]
  },
  {
   "cell_type": "code",
   "execution_count": 5,
   "metadata": {},
   "outputs": [
    {
     "name": "stdout",
     "output_type": "stream",
     "text": [
      "90\n"
     ]
    }
   ],
   "source": [
    "# A Growth Record\n",
    "n, m, x, t, d = map(int, input().split())\n",
    "first = t - x * d\n",
    "if m >= x:\n",
    "    print(t)\n",
    "else:\n",
    "    print(first + m * d)"
   ]
  },
  {
   "cell_type": "code",
   "execution_count": 10,
   "metadata": {},
   "outputs": [
    {
     "name": "stdout",
     "output_type": "stream",
     "text": [
      "118.85878514480687 526.6674369978655\n"
     ]
    }
   ],
   "source": [
    "# B Counterclockwise Rotation\n",
    "from math import cos, sin, radians\n",
    "a, b, d = map(int, input().split())\n",
    "\n",
    "rad = radians(d)\n",
    "c = cos(rad)\n",
    "s = sin(rad)\n",
    "a_dash = c * a - s * b\n",
    "b_dash = s * a + c * b\n",
    "print(a_dash, b_dash)"
   ]
  },
  {
   "cell_type": "code",
   "execution_count": 26,
   "metadata": {},
   "outputs": [
    {
     "name": "stdout",
     "output_type": "stream",
     "text": [
      "[2, 2, 1] [2, 2, 2]\n",
      "No\n"
     ]
    }
   ],
   "source": [
    "# C XX to XXX\n",
    "s, t = input(), input()\n",
    "S, T = [], []\n",
    "\n",
    "for i in range(len(s)):\n",
    "    if i == 0:\n",
    "        S.append([s[i], 1])\n",
    "        continue\n",
    "    if s[i] == s[i-1]:\n",
    "        S[-1][1] += 1\n",
    "    else:\n",
    "        S.append([s[i], 1])\n",
    "\n",
    "for i in range(len(t)):\n",
    "    if i == 0:\n",
    "        T.append([t[i], 1])\n",
    "        continue\n",
    "    if t[i] == t[i-1]:\n",
    "        T[-1][1] += 1\n",
    "    else:\n",
    "        T.append([t[i], 1])\n",
    "\n",
    "def solve():\n",
    "    if len(S) != len(T):\n",
    "        return 'No'\n",
    "    for i in range(len(S)):\n",
    "        if S[i] == T[i]:\n",
    "            continue\n",
    "        else:\n",
    "            if T[i][0] == S[i][0] and T[i][1] > S[i][1] and S[i][1] >= 2:\n",
    "                continue\n",
    "            else:\n",
    "                return 'No'\n",
    "    return 'Yes'\n",
    "\n",
    "print(solve())"
   ]
  },
  {
   "cell_type": "code",
   "execution_count": null,
   "metadata": {},
   "outputs": [],
   "source": []
  },
  {
   "cell_type": "code",
   "execution_count": null,
   "metadata": {},
   "outputs": [],
   "source": []
  }
 ],
 "metadata": {
  "kernelspec": {
   "display_name": "Python 3.10.4 64-bit",
   "language": "python",
   "name": "python3"
  },
  "language_info": {
   "codemirror_mode": {
    "name": "ipython",
    "version": 3
   },
   "file_extension": ".py",
   "mimetype": "text/x-python",
   "name": "python",
   "nbconvert_exporter": "python",
   "pygments_lexer": "ipython3",
   "version": "3.10.4"
  },
  "orig_nbformat": 4,
  "vscode": {
   "interpreter": {
    "hash": "c036f8f3ad2f0d684820dfc35afda6e333e93b801313b3488a29c3dc9dff951a"
   }
  }
 },
 "nbformat": 4,
 "nbformat_minor": 2
}
