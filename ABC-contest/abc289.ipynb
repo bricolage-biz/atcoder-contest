{
 "cells": [
  {
   "cell_type": "code",
   "execution_count": 1,
   "metadata": {},
   "outputs": [
    {
     "name": "stdout",
     "output_type": "stream",
     "text": [
      "1\n"
     ]
    }
   ],
   "source": [
    "S = input()\n",
    "ans = ''\n",
    "for s in S:\n",
    "  if s == '0':\n",
    "    ans += '1'\n",
    "  else:\n",
    "    ans += '0'\n",
    "print(ans)"
   ]
  },
  {
   "cell_type": "code",
   "execution_count": null,
   "metadata": {},
   "outputs": [],
   "source": [
    "N, M = map(int, input().split())\n",
    "A = list(map(int, input().split()))\n",
    "\n",
    "ans = []\n",
    "visited = set()\n",
    "class UnionFind():\n",
    "    def __init__(self, n):\n",
    "        self.n = n\n",
    "        self.parents = [-1] * n\n",
    "    \n",
    "    def root(self, x): #xの根を取得\n",
    "        if self.parents[x] < 0:\n",
    "            return x\n",
    "        else:\n",
    "            self.parents[x] = self.root(self.parents[x])\n",
    "            return self.parents[x]\n",
    "\n",
    "    def unite(self, x, y): #xとyをマージ\n",
    "        x = self.root(x)\n",
    "        y = self.root(y)\n",
    "\n",
    "        if x == y:\n",
    "            return\n",
    "        if self.parents[x] > self.parents[y]:\n",
    "            x, y = y, x\n",
    "\n",
    "        self.parents[x] += self.parents[y]\n",
    "        self.parents[y] = x\n",
    "\n",
    "    def is_same(self, x, y): #xとyが同じ連結成分か判定\n",
    "        return self.root(x) == self.root(y)\n",
    "\n",
    "    def size(self, x):\n",
    "        return -self.parents[self.root(x)]\n",
    "\n",
    "    def get_groups(self): #すべてのグループについて親とそのメンバーを辞書で返します\n",
    "        members = {}\n",
    "        for member in range(self.n):\n",
    "            p = self.root(member)        \n",
    "            if members.get(p, False):\n",
    "                members[p].append(member)\n",
    "            else:\n",
    "                members[p] = [member]\n",
    "\n",
    "            # if members.get(self.root(member), -1) == -1:\n",
    "            #     members[self.root(member)] = [member]\n",
    "            # else:\n",
    "            #     members[self.root(member)].append(member)\n",
    "        return members\n",
    "    \n",
    "uft = UnionFind(N + 1)\n",
    "for a in A:\n",
    "  uft.unite(a, a + 1)\n",
    "\n",
    "member = uft.get_groups()\n",
    "\n",
    "for i in range(1, N + 1):\n",
    "  if i in visited:\n",
    "    continue\n",
    "  if uft.size(i) == 1:\n",
    "    ans.append(i)\n",
    "    visited.add(i) \n",
    "  else:\n",
    "    mem = sorted(member[i], reverse=True)\n",
    "    ans.extend(mem)\n",
    "    for m in member[i]:\n",
    "        visited.add(m)\n",
    "\n",
    "print(*ans)"
   ]
  },
  {
   "cell_type": "code",
   "execution_count": null,
   "metadata": {},
   "outputs": [],
   "source": [
    "N, M = map(int, input().split())\n",
    "A = set(map(int, input().split()))\n",
    "\n",
    "ans = []\n",
    "stack = []\n",
    "for i in range(1, N + 1):\n",
    "    if i in A:\n",
    "        stack.append(i)\n",
    "        continue\n",
    "    if not(stack):\n",
    "        ans.append(i)\n",
    "        continue\n",
    "    stack.append(i)\n",
    "    while stack:\n",
    "        v = stack.pop()\n",
    "        ans.append(v)\n",
    "print(*ans)"
   ]
  },
  {
   "cell_type": "code",
   "execution_count": 5,
   "metadata": {},
   "outputs": [
    {
     "name": "stdout",
     "output_type": "stream",
     "text": [
      "(0, 0)\n",
      "(0, 1)\n",
      "(1, 0)\n",
      "(1, 1)\n"
     ]
    }
   ],
   "source": [
    "from itertools import product\n",
    "\n",
    "N, M = map(int, input().split())\n",
    "se = {}\n",
    "ans = 0\n",
    "\n",
    "for i in range(M):\n",
    "    c = int(input())\n",
    "    se[i] = list(map(int, input().split()))\n",
    "\n",
    "print(se)\n",
    "\n",
    "for bits in product(range(2), repeat=M):\n",
    "    nums = set()\n",
    "    for i, b in enumerate(bits):\n",
    "        if b == 0:\n",
    "            continue\n",
    "        for el in se[i]:\n",
    "            print(el)\n",
    "            nums.add(el)\n",
    "    for j in range(1, N + 1):\n",
    "        if j in nums:\n",
    "            continue\n",
    "        else:\n",
    "            break\n",
    "    else:\n",
    "        ans += 1\n",
    "\n",
    "print(ans)"
   ]
  },
  {
   "cell_type": "code",
   "execution_count": null,
   "metadata": {},
   "outputs": [],
   "source": [
    "N, M = map(int, input().split())\n",
    "C = {}\n",
    "ans = 0\n",
    "\n",
    "for i in range(M):\n",
    "    _ = int(input())\n",
    "    C[i] = list(map(int, input().split()))\n",
    "\n",
    "for bits in range(1 << M):\n",
    "    nums = set()\n",
    "    for i in range(M):\n",
    "        if (bits >> i) & 1 == 0:\n",
    "            continue    \n",
    "        for el in C[i]:\n",
    "            nums.add(el)\n",
    "    for x in range(1, N + 1):\n",
    "        if x in nums:\n",
    "            continue\n",
    "        else:\n",
    "            break\n",
    "    else:\n",
    "        ans += 1\n",
    "\n",
    "print(ans)"
   ]
  },
  {
   "cell_type": "code",
   "execution_count": 8,
   "metadata": {},
   "outputs": [
    {
     "ename": "TypeError",
     "evalue": "unhashable type: 'set'",
     "output_type": "error",
     "traceback": [
      "\u001b[1;31m---------------------------------------------------------------------------\u001b[0m",
      "\u001b[1;31mTypeError\u001b[0m                                 Traceback (most recent call last)",
      "\u001b[1;32mc:\\Users\\yamaguchi_sueko\\Documents\\atcoder\\abc289.ipynb セル 4\u001b[0m in \u001b[0;36m<cell line: 2>\u001b[1;34m()\u001b[0m\n\u001b[0;32m      <a href='vscode-notebook-cell:/c%3A/Users/yamaguchi_sueko/Documents/atcoder/abc289.ipynb#W3sZmlsZQ%3D%3D?line=0'>1</a>\u001b[0m a \u001b[39m=\u001b[39m \u001b[39mset\u001b[39m()\n\u001b[1;32m----> <a href='vscode-notebook-cell:/c%3A/Users/yamaguchi_sueko/Documents/atcoder/abc289.ipynb#W3sZmlsZQ%3D%3D?line=1'>2</a>\u001b[0m a\u001b[39m.\u001b[39;49madd(\u001b[39mset\u001b[39;49m([\u001b[39m1\u001b[39;49m,\u001b[39m2\u001b[39;49m,\u001b[39m3\u001b[39;49m]))\n\u001b[0;32m      <a href='vscode-notebook-cell:/c%3A/Users/yamaguchi_sueko/Documents/atcoder/abc289.ipynb#W3sZmlsZQ%3D%3D?line=2'>3</a>\u001b[0m a\n",
      "\u001b[1;31mTypeError\u001b[0m: unhashable type: 'set'"
     ]
    }
   ],
   "source": [
    "import sys\n",
    "sys.setrecursionlimit(10 ** 6)\n",
    "\n",
    "N = int(input())\n",
    "A = list(map(int, input().split()))\n",
    "M = int(input())\n",
    "B = list(map(int, input().split()))\n",
    "X = int(input())\n",
    "\n",
    "judge = [False] * (10 ** 5 + 1)\n",
    "mochi = [False] * (10 ** 5 + 1)\n",
    "for b in B:\n",
    "    mochi[b] = True\n",
    "\n",
    "def dfs(v):\n",
    "    judge[v] = True\n",
    "    for a in A:\n",
    "        if v + a > X:\n",
    "            continue\n",
    "        if mochi[v + a]:\n",
    "            continue\n",
    "        if judge[v + a]:\n",
    "            continue\n",
    "        dfs(v + a)\n",
    "dfs(0)\n",
    "\n",
    "print('Yes' if judge[X] else 'No')"
   ]
  },
  {
   "cell_type": "code",
   "execution_count": null,
   "metadata": {},
   "outputs": [],
   "source": []
  }
 ],
 "metadata": {
  "kernelspec": {
   "display_name": "Python 3",
   "language": "python",
   "name": "python3"
  },
  "language_info": {
   "codemirror_mode": {
    "name": "ipython",
    "version": 3
   },
   "file_extension": ".py",
   "mimetype": "text/x-python",
   "name": "python",
   "nbconvert_exporter": "python",
   "pygments_lexer": "ipython3",
   "version": "3.10.4"
  },
  "orig_nbformat": 4,
  "vscode": {
   "interpreter": {
    "hash": "c036f8f3ad2f0d684820dfc35afda6e333e93b801313b3488a29c3dc9dff951a"
   }
  }
 },
 "nbformat": 4,
 "nbformat_minor": 2
}
