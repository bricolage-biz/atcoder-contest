{
 "cells": [
  {
   "cell_type": "code",
   "execution_count": null,
   "metadata": {},
   "outputs": [],
   "source": [
    "# from operator import itemgetter\n",
    "\n",
    "N, D = map(int, input().split())\n",
    "LR = [list(map(int, input().split())) for _ in range(N)]\n",
    "LR.sort(key=lambda x: x[1])\n",
    "# LR.sort(key=itemgetter(1))\n",
    "\n",
    "ans = 0\n",
    "x = 0\n",
    "\n",
    "for l, r in LR:\n",
    "    if x < l: # パンチの衝撃波が届かない壁なので、直接パンチして破壊する必要があります\n",
    "        ans += 1\n",
    "        x = r + D - 1 # この壁をギリギリのrで破壊すると、r + D - 1列目の壁までついでに壊せます\n",
    "print(ans)"
   ]
  },
  {
   "cell_type": "code",
   "execution_count": null,
   "metadata": {},
   "outputs": [],
   "source": [
    "N, D = map(int, input().split())\n",
    "LR = [list(map(int, input().split())) for _ in range(N)]\n",
    "LR.sort(key=lambda x: x[1])\n",
    "\n",
    "ans = 1\n",
    "x = LR[0][1]\n",
    "\n",
    "for l, r in LR[1:]:\n",
    "    if x + D - 1 < l:\n",
    "        x = r\n",
    "        ans += 1\n",
    "print(ans)"
   ]
  },
  {
   "cell_type": "code",
   "execution_count": null,
   "metadata": {},
   "outputs": [],
   "source": [
    "from operator import itemgetter\n",
    "itemgetter([])"
   ]
  }
 ],
 "metadata": {
  "kernelspec": {
   "display_name": "Python 3.10.4 64-bit",
   "language": "python",
   "name": "python3"
  },
  "language_info": {
   "codemirror_mode": {
    "name": "ipython",
    "version": 3
   },
   "file_extension": ".py",
   "mimetype": "text/x-python",
   "name": "python",
   "nbconvert_exporter": "python",
   "pygments_lexer": "ipython3",
   "version": "3.10.4"
  },
  "orig_nbformat": 4,
  "vscode": {
   "interpreter": {
    "hash": "c036f8f3ad2f0d684820dfc35afda6e333e93b801313b3488a29c3dc9dff951a"
   }
  }
 },
 "nbformat": 4,
 "nbformat_minor": 2
}
