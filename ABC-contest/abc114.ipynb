{
 "cells": [
  {
   "cell_type": "code",
   "execution_count": 4,
   "metadata": {},
   "outputs": [
    {
     "name": "stdout",
     "output_type": "stream",
     "text": [
      "1\n"
     ]
    }
   ],
   "source": [
    "# C - 755\n",
    "import sys\n",
    "sys.setrecursionlimit(10 ** 5)\n",
    "n = int(input())\n",
    "\n",
    "def dfs(seq):\n",
    "    # ここで定義した ans は、定義した関数内でしか参照できないローカル関数。\n",
    "    ans = 0\n",
    "    # int(seq)が 1 以上 n 以下のときに{\"3\", \"5\", \"7\"}がそれぞれ一回以上出現するか確かめる\n",
    "    if len(seq) > 0:\n",
    "        if int(seq) > n:\n",
    "            return ans\n",
    "        else:\n",
    "            if \"3\" in seq and \"5\" in seq and \"7\" in seq:\n",
    "                ans += 1\n",
    "    \n",
    "    for i in (\"3\", \"5\", \"7\"):\n",
    "        seq_next = seq + i\n",
    "        # seq_next から派生する七五三数をすべて足し合わせる\n",
    "        ans += dfs(seq_next)\n",
    "    return ans\n",
    "\n",
    "print(dfs(''))"
   ]
  },
  {
   "cell_type": "code",
   "execution_count": null,
   "metadata": {},
   "outputs": [],
   "source": []
  }
 ],
 "metadata": {
  "kernelspec": {
   "display_name": "Python 3.10.4 64-bit",
   "language": "python",
   "name": "python3"
  },
  "language_info": {
   "codemirror_mode": {
    "name": "ipython",
    "version": 3
   },
   "file_extension": ".py",
   "mimetype": "text/x-python",
   "name": "python",
   "nbconvert_exporter": "python",
   "pygments_lexer": "ipython3",
   "version": "3.10.4"
  },
  "orig_nbformat": 4,
  "vscode": {
   "interpreter": {
    "hash": "c036f8f3ad2f0d684820dfc35afda6e333e93b801313b3488a29c3dc9dff951a"
   }
  }
 },
 "nbformat": 4,
 "nbformat_minor": 2
}
