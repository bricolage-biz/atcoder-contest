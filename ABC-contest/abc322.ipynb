{
 "cells": [
  {
   "cell_type": "code",
   "execution_count": 10,
   "metadata": {},
   "outputs": [
    {
     "data": {
      "text/plain": [
       "-1"
      ]
     },
     "execution_count": 10,
     "metadata": {},
     "output_type": "execute_result"
    }
   ],
   "source": [
    "N = int(input())\n",
    "S = input()\n",
    "ans = S.find('ABC') + 1\n",
    "print(ans if ans != 0 else -1)"
   ]
  },
  {
   "cell_type": "code",
   "execution_count": null,
   "metadata": {},
   "outputs": [],
   "source": [
    "N, M = map(int, input().split())\n",
    "S = input()\n",
    "T = input()\n",
    "def judge(s, t):\n",
    "  n = len(s)\n",
    "  if t[:n] == s and t[-n:] == s:\n",
    "    return 0\n",
    "  elif t[:n] == s and t[-n:] != s:\n",
    "    return 1\n",
    "  elif t[:n] != s and t[-n:] == s:\n",
    "    return 2\n",
    "  else:\n",
    "    return 3\n",
    "\n",
    "ans = judge(S, T)\n",
    "print(ans)"
   ]
  },
  {
   "cell_type": "code",
   "execution_count": 16,
   "metadata": {},
   "outputs": [
    {
     "name": "stdout",
     "output_type": "stream",
     "text": [
      "[0, 1, 0]\n"
     ]
    }
   ],
   "source": [
    "N, M = map(int, input().split())\n",
    "A = list(map(int, input().split()))\n",
    "flag = [False] * (N + 1)\n",
    "for a in A:\n",
    "  flag[a] = True\n",
    "ans = [0] * (N + 1)\n",
    "\n",
    "for i in reversed(range(1, N + 1)):\n",
    "  if flag[i]:\n",
    "    continue\n",
    "  ans[i] = ans[i + 1] + 1\n",
    "\n",
    "print(*ans[1:])"
   ]
  },
  {
   "cell_type": "code",
   "execution_count": null,
   "metadata": {},
   "outputs": [],
   "source": []
  },
  {
   "cell_type": "code",
   "execution_count": null,
   "metadata": {},
   "outputs": [],
   "source": []
  }
 ],
 "metadata": {
  "kernelspec": {
   "display_name": "Python 3",
   "language": "python",
   "name": "python3"
  },
  "language_info": {
   "codemirror_mode": {
    "name": "ipython",
    "version": 3
   },
   "file_extension": ".py",
   "mimetype": "text/x-python",
   "name": "python",
   "nbconvert_exporter": "python",
   "pygments_lexer": "ipython3",
   "version": "3.10.4"
  },
  "orig_nbformat": 4
 },
 "nbformat": 4,
 "nbformat_minor": 2
}
