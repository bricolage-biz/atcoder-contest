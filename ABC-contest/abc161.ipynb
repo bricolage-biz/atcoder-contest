{
 "cells": [
  {
   "cell_type": "code",
   "execution_count": 5,
   "metadata": {},
   "outputs": [
    {
     "name": "stdout",
     "output_type": "stream",
     "text": [
      "3234566667\n",
      "<class 'str'>\n"
     ]
    }
   ],
   "source": [
    "# D - Lunlun Number\n",
    "from collections import deque\n",
    "k = int(input())\n",
    "\n",
    "que = deque()\n",
    "for i in range(1, 10):\n",
    "    que.append(str(i))\n",
    "cnt = 0\n",
    "\n",
    "while cnt != k:\n",
    "    lunlun = que.popleft()\n",
    "    cnt += 1\n",
    "    num = int(lunlun[-1])\n",
    "    next = []\n",
    "    if num == 0:\n",
    "        next.append(lunlun + '0')\n",
    "        next.append(lunlun + '1')\n",
    "    elif num == 9:\n",
    "        next.append(lunlun + '8')\n",
    "        next.append(lunlun + '9')\n",
    "    else:\n",
    "        next.append(lunlun + str(num - 1))\n",
    "        next.append(lunlun + str(num))\n",
    "        next.append(lunlun + str(num + 1))\n",
    "    for char in next:\n",
    "        que.append(char)\n",
    "\n",
    "print(lunlun)"
   ]
  },
  {
   "cell_type": "code",
   "execution_count": null,
   "metadata": {},
   "outputs": [],
   "source": [
    "from collections import deque\n",
    " \n",
    "def solve():\n",
    "    K = int(input())\n",
    "    deq = deque(map(str, range(1, 10)))\n",
    "    cnt = 0\n",
    "    while True:\n",
    "        cnt += 1\n",
    "        x = deq.popleft()\n",
    "        if cnt == K:\n",
    "            return x\n",
    "        r = x[-1]\n",
    "        if int(r) != 0:\n",
    "            deq.append(x + str(int(r) - 1))\n",
    "        deq.append(x + str(int(r)))\n",
    "        if int(r) != 9:\n",
    "            deq.append(x + str(int(r) + 1))\n",
    " \n",
    " \n",
    "print(solve())"
   ]
  },
  {
   "cell_type": "code",
   "execution_count": 9,
   "metadata": {},
   "outputs": [
    {
     "name": "stdout",
     "output_type": "stream",
     "text": [
      "3234566667\n"
     ]
    }
   ],
   "source": [
    "from collections import deque\n",
    "k = int(input())\n",
    "que = deque(map(str, range(1, 10)))\n",
    "cnt = 0\n",
    "while True:\n",
    "    cnt += 1\n",
    "    x = que.popleft()\n",
    "    if cnt == k:\n",
    "        break\n",
    "    r = x[-1]\n",
    "    if int(r) != 0:\n",
    "        que.append(x + str(int(r) - 1))\n",
    "    que.append(x + str(int(r)))\n",
    "    if int(r) != 9:\n",
    "        que.append(x + str(int(r) + 1))\n",
    "print(x)"
   ]
  },
  {
   "cell_type": "code",
   "execution_count": null,
   "metadata": {},
   "outputs": [],
   "source": []
  }
 ],
 "metadata": {
  "kernelspec": {
   "display_name": "Python 3.10.4 64-bit",
   "language": "python",
   "name": "python3"
  },
  "language_info": {
   "codemirror_mode": {
    "name": "ipython",
    "version": 3
   },
   "file_extension": ".py",
   "mimetype": "text/x-python",
   "name": "python",
   "nbconvert_exporter": "python",
   "pygments_lexer": "ipython3",
   "version": "3.10.4"
  },
  "orig_nbformat": 4,
  "vscode": {
   "interpreter": {
    "hash": "c036f8f3ad2f0d684820dfc35afda6e333e93b801313b3488a29c3dc9dff951a"
   }
  }
 },
 "nbformat": 4,
 "nbformat_minor": 2
}
