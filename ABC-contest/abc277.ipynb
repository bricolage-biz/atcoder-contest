{
 "cells": [
  {
   "cell_type": "code",
   "execution_count": 1,
   "metadata": {},
   "outputs": [
    {
     "name": "stdout",
     "output_type": "stream",
     "text": [
      "1\n"
     ]
    }
   ],
   "source": [
    "N, X = map(int, input().split())\n",
    "P = list(map(int, input().split()))\n",
    "\n",
    "print(P.index(X) + 1)"
   ]
  },
  {
   "cell_type": "code",
   "execution_count": null,
   "metadata": {},
   "outputs": [],
   "source": [
    "N = int(input())\n",
    "ch1 = set([\"H\" , \"D\" , \"C\" , \"S\"])\n",
    "ch2 = set([\"A\", \"2\", \"3\", \"4\", \"5\", \"6\", \"7\", \"8\", \"9\", \"T\", \"J\", \"Q\", \"K\"])\n",
    "same = set()\n",
    "\n",
    "for _ in range(N):\n",
    "    s = input()\n",
    "    if s[0] in ch1 and s[1] in ch2 and s not in same:\n",
    "        same.add(s)\n",
    "        continue\n",
    "    else:\n",
    "        print('No')\n",
    "        exit()\n",
    "print('Yes')"
   ]
  },
  {
   "cell_type": "code",
   "execution_count": null,
   "metadata": {},
   "outputs": [],
   "source": [
    "class UnionFind():\n",
    "    def __init__(self, n):\n",
    "        self.n = n\n",
    "        self.parents = [-1] * n\n",
    "    \n",
    "    def root(self, x): #xの根を取得\n",
    "        if self.parents[x] < 0:\n",
    "            return x\n",
    "        else:\n",
    "            self.parents[x] = self.root(self.parents[x])\n",
    "            return self.parents[x]\n",
    "\n",
    "    def unite(self, x, y): #xとyをマージ\n",
    "        x = self.root(x)\n",
    "        y = self.root(y)\n",
    "\n",
    "        if x == y:\n",
    "            return\n",
    "        if self.parents[x] > self.parents[y]:\n",
    "            x, y = y, x\n",
    "\n",
    "        self.parents[x] += self.parents[y]\n",
    "        self.parents[y] = x\n",
    "\n",
    "    def is_same(self, x, y): #xとyが同じ連結成分か判定\n",
    "        return self.root(x) == self.root(y)\n",
    "\n",
    "    def size(self, x):\n",
    "        return -self.parents[self.root(x)]\n",
    "\n",
    "    def get_groups(self): #すべてのグループについて親とそのメンバーを辞書で返します\n",
    "        members = {}\n",
    "        for member in range(self.n):\n",
    "            p = self.root(member)        \n",
    "            if members.get(p, False):\n",
    "                members[p].append(member)\n",
    "            else:\n",
    "                members[p] = [member]\n",
    "    \n",
    "    def __str__(self): #すべてのグループについて親とそのメンバーを文字列型で返します\n",
    "        members = self.get_groups()\n",
    "        return '\\n'.join([f'parents: {member}, member: {members[member]}' for member in members])\n",
    "\n",
    "N = int(input())\n",
    "floor = set()\n",
    "A = []\n",
    "B = []\n",
    "for _ in range(N):\n",
    "    a, b = map(int, input().split())\n",
    "    A.append(a)\n",
    "    B.append(b)\n",
    "    floor.add(a)\n",
    "    floor.add(b)\n",
    "\n",
    "if 1 not in floor:\n",
    "    print(1)\n",
    "    exit()\n",
    "\n",
    "floor = sorted(floor)\n",
    "n = len(floor)\n",
    "floorInd = {}\n",
    "for i in range(n):\n",
    "    floorInd[floor[i]] = i\n",
    "\n",
    "UFT = UnionFind(n)\n",
    "for i in range(N):\n",
    "    x, y = floorInd[A[i]], floorInd[B[i]]\n",
    "    UFT.unite(x, y)\n",
    "\n",
    "ans = 1\n",
    "for i in range(n):\n",
    "    if UFT.is_same(floorInd[floor[0]], floorInd[floor[i]]):\n",
    "        ans = max(ans, floor[i])\n",
    "\n",
    "print(ans)"
   ]
  },
  {
   "cell_type": "code",
   "execution_count": 2,
   "metadata": {},
   "outputs": [
    {
     "data": {
      "text/plain": [
       "[1, 2, 3]"
      ]
     },
     "execution_count": 2,
     "metadata": {},
     "output_type": "execute_result"
    }
   ],
   "source": [
    "from collections import deque\n",
    "N, M = map(int, input().split())\n",
    "A = list(map(int, input().split()))\n",
    "A.sort()\n",
    "seA = set(A)\n",
    "que = deque()\n",
    "ans = 0\n",
    "now = 0\n",
    "for i in range(N):\n",
    "    visited = set()\n",
    "    if i != now:\n",
    "        continue\n",
    "    que.append(A[i])\n",
    "    tot = 0\n",
    "    now = i\n",
    "    while que:\n",
    "        v = que.popleft()\n",
    "        tot += v\n",
    "        visited.add(v)\n",
    "        if now + 1 <= N - 1 and A[now + 1] == v:\n",
    "            que.append(A[now + 1])\n",
    "            now += 1\n",
    "            continue\n",
    "        if now + 1 <= N - 1 and v + 1 < M and A[now + 1] == v + 1:\n",
    "            que.append(A[now + 1])\n",
    "            now = now + 1\n",
    "            continue\n",
    "        if v + 1 >= M and (v + 1) % M in seA and (v + 1) % M not in visited:\n",
    "            now = A.index((v + 1) % M)\n",
    "            que.append(A[now])\n",
    "            continue\n",
    "    ans = max(ans, tot)\n",
    "    now += 1\n",
    "\n",
    "print(ans)\n",
    "        "
   ]
  },
  {
   "cell_type": "code",
   "execution_count": 3,
   "metadata": {},
   "outputs": [
    {
     "name": "stdout",
     "output_type": "stream",
     "text": [
      "[1, 2, 3, 3, 3, 7, 8, 8, 9, 9, 11, 11, 12, 12, 14, 15, 16, 17, 17, 18]\n"
     ]
    }
   ],
   "source": [
    "P = list(map(int, input().split()))\n",
    "P.sort()\n",
    "print(P)"
   ]
  },
  {
   "cell_type": "code",
   "execution_count": 2,
   "metadata": {},
   "outputs": [
    {
     "name": "stdout",
     "output_type": "stream",
     "text": [
      "[[0, 1, 2, 3], [5, 5, 5], [7, 8]]\n"
     ]
    }
   ],
   "source": [
    "N, M = map(int, input().split())\n",
    "A = list(map(int, input().split()))\n",
    "totA = sum(A)\n",
    "G = []\n",
    "A.sort()\n",
    "\n",
    "for i, a in enumerate(A):\n",
    "    if i == 0:\n",
    "        G.append([a])\n",
    "        continue\n",
    "    if A[i] == A[i - 1] or A[i] == A[i - 1] + 1:\n",
    "        G[-1].append(A[i])\n",
    "    else:\n",
    "        G.append([a])\n",
    "\n",
    "if len(G) == 1:\n",
    "    print(0)\n",
    "    exit()\n",
    "\n",
    "if (G[-1][-1] + 1) % M == 0 and A[0] == 0:\n",
    "    end = G.pop()\n",
    "    G[0] = G[0] + end\n",
    "\n",
    "gMax = 0\n",
    "for g in G:\n",
    "    tot = sum(g)\n",
    "    gMax = max(gMax, tot)\n",
    "ans = totA - gMax\n",
    "print(ans)"
   ]
  },
  {
   "cell_type": "code",
   "execution_count": null,
   "metadata": {},
   "outputs": [],
   "source": [
    "class UnionFind():\n",
    "    def __init__(self, n):\n",
    "        self.n = n\n",
    "        self.parents = [-1] * n\n",
    "    \n",
    "    def root(self, x): #xの根を取得\n",
    "        if self.parents[x] < 0:\n",
    "            return x\n",
    "        else:\n",
    "            self.parents[x] = self.root(self.parents[x])\n",
    "            return self.parents[x]\n",
    "\n",
    "    def unite(self, x, y): #xとyをマージ\n",
    "        x = self.root(x)\n",
    "        y = self.root(y)\n",
    "\n",
    "        if x == y:\n",
    "            return\n",
    "        if self.parents[x] > self.parents[y]:\n",
    "            x, y = y, x\n",
    "\n",
    "        self.parents[x] += self.parents[y]\n",
    "        self.parents[y] = x\n",
    "\n",
    "    def is_same(self, x, y): #xとyが同じ連結成分か判定\n",
    "        return self.root(x) == self.root(y)\n",
    "\n",
    "    def size(self, x):\n",
    "        return -self.parents[self.root(x)]\n",
    "\n",
    "    def get_groups(self): #すべてのグループについて親とそのメンバーを辞書で返します\n",
    "        members = {}\n",
    "        for member in range(self.n):\n",
    "            p = self.root(member)        \n",
    "            if members.get(p, False):\n",
    "                members[p].append(member)\n",
    "            else:\n",
    "                members[p] = [member]\n",
    "        return members\n",
    "    \n",
    "    def __str__(self): #すべてのグループについて親とそのメンバーを文字列型で返します\n",
    "        members = self.get_groups()\n",
    "        return '\\n'.join([f'parents: {member}, member: {members[member]}' for member in members])\n",
    "\n",
    "N, M = map(int, input().split())\n",
    "A = list(map(int, input().split()))\n",
    "if N == 1:\n",
    "    print(0)\n",
    "    exit()\n",
    "\n",
    "A.sort()\n",
    "ans = sum(A)\n",
    "d = {a: i for i, a in enumerate(A)}\n",
    "d_inv = {i: a for i, a in enumerate(A)}\n",
    "uft = UnionFind(N)\n",
    "\n",
    "for i in range(N):\n",
    "    if i == N - 1:\n",
    "        if A[0] == 0 and A[0] == (A[i] + 1) % M:\n",
    "            uft.unite(0, N - 1)\n",
    "    else:        \n",
    "        if A[i] == A[i + 1] or (A[i] + 1) % M == A[i + 1]:\n",
    "            uft.unite(i, i + 1)\n",
    "\n",
    "tot = 0\n",
    "G = uft.get_groups()\n",
    "for p in G:\n",
    "    group = [d_inv[i] for i in G[p]]\n",
    "    tot = max(tot, sum(group))\n",
    "ans -= tot\n",
    "print(ans)"
   ]
  },
  {
   "cell_type": "code",
   "execution_count": null,
   "metadata": {},
   "outputs": [],
   "source": []
  }
 ],
 "metadata": {
  "kernelspec": {
   "display_name": "Python 3.10.4 64-bit",
   "language": "python",
   "name": "python3"
  },
  "language_info": {
   "codemirror_mode": {
    "name": "ipython",
    "version": 3
   },
   "file_extension": ".py",
   "mimetype": "text/x-python",
   "name": "python",
   "nbconvert_exporter": "python",
   "pygments_lexer": "ipython3",
   "version": "3.10.4"
  },
  "orig_nbformat": 4,
  "vscode": {
   "interpreter": {
    "hash": "c036f8f3ad2f0d684820dfc35afda6e333e93b801313b3488a29c3dc9dff951a"
   }
  }
 },
 "nbformat": 4,
 "nbformat_minor": 2
}
