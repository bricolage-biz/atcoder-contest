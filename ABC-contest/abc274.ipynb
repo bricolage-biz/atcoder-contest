{
 "cells": [
  {
   "cell_type": "code",
   "execution_count": 17,
   "metadata": {},
   "outputs": [
    {
     "name": "stdout",
     "output_type": "stream",
     "text": [
      "0.000\n"
     ]
    }
   ],
   "source": [
    "a, b = map(int, input().split())\n",
    "ans = b / a\n",
    "ans = ans * (10 ** 4)\n",
    "d = ans % 10\n",
    "\n",
    "if d >= 5:\n",
    "    ans += 10\n",
    "ans = ans // 10\n",
    "ans /= 10 ** 3\n",
    "print(str(ans).ljust(5, '0'))"
   ]
  },
  {
   "cell_type": "code",
   "execution_count": 12,
   "metadata": {},
   "outputs": [
    {
     "data": {
      "text/plain": [
       "'1000'"
      ]
     },
     "execution_count": 12,
     "metadata": {},
     "output_type": "execute_result"
    }
   ],
   "source": [
    "H, W = map(int, input().split())\n",
    "grid = []\n",
    "for _ in range(H):\n",
    "    grid.append(list(input()))\n",
    "ans = [0] * W\n",
    "\n",
    "for i in range(H):\n",
    "    for j in range(W):\n",
    "        if grid[i][j] == \"#\":\n",
    "            ans[j] += 1\n",
    "print(*ans)"
   ]
  },
  {
   "cell_type": "code",
   "execution_count": null,
   "metadata": {},
   "outputs": [],
   "source": [
    "import sys\n",
    "input = sys.stdin.readline\n",
    "\n",
    "N = int(input())\n",
    "A = list(map(int, input().split()))\n",
    "P = [0] * (2 * N + 2)\n",
    "\n",
    "for i, a in enumerate(A, 1):\n",
    "    P[2 * i] = a\n",
    "    P[2 * i + 1] = a\n",
    "\n",
    "memo = {}\n",
    "\n",
    "def Psearch(x):\n",
    "    now = x\n",
    "    cnt = 0\n",
    "    if now == 1:\n",
    "        return cnt\n",
    "\n",
    "    while now != 1 and now not in memo:\n",
    "        now = P[now]\n",
    "        cnt += 1\n",
    "    if now in memo:\n",
    "        memo[x] = cnt + memo[now]\n",
    "        return memo[x]\n",
    "    memo[x] = cnt\n",
    "    return memo[x]\n",
    "\n",
    "for k in range(1, 2 * N + 2):\n",
    "    print(Psearch(k))"
   ]
  },
  {
   "cell_type": "code",
   "execution_count": null,
   "metadata": {},
   "outputs": [],
   "source": [
    "# D\n",
    "N, x, y = map(int, input().split())\n",
    "A = list(map(int, input().split()))\n",
    "\n",
    "d = 10 ** 4\n",
    "x += d\n",
    "y += d\n",
    "Ax = []\n",
    "Ay = []\n",
    "for i in range(N):\n",
    "    if i % 2 == 0:\n",
    "        Ax.append(A[i])\n",
    "    else:\n",
    "        Ay.append(A[i])\n",
    "\n",
    "Nx = (N + 1) // 2\n",
    "Ny = N // 2\n",
    "\n",
    "dpX = [[False] * (2 * d + 1) for _ in range(Nx + 1)]\n",
    "dpY = [[False] * (2 * d + 1) for _ in range(Ny + 1)]\n",
    "\n",
    "# P1の座標を変換しておく\n",
    "dpX[0][d] = True\n",
    "dpY[0][d] = True\n",
    "\n",
    "# Axを前からi個みて点(x)に存在できるかどうかをdpX[i][x]で保持する\n",
    "for i in range(1, Nx + 1):\n",
    "    if i == 1:\n",
    "        dpX[i][d + Ax[i - 1]] = True\n",
    "        continue\n",
    "    for j in range(2 * d + 1):\n",
    "        if dpX[i - 1][j] == True:\n",
    "            dpX[i][j + Ax[i - 1]] = True\n",
    "            dpX[i][j - Ax[i - 1]] = True\n",
    "\n",
    "# Ayを前からi個みて点(y)に存在できるかどうかをdpY[i][y]で保持する\n",
    "for i in range(1, Ny + 1):\n",
    "    for j in range(2 * d + 1):\n",
    "        if dpY[i - 1][j] == True:\n",
    "            dpY[i][j + Ay[i - 1]] = True\n",
    "            dpY[i][j - Ay[i - 1]] = True\n",
    "\n",
    "print('Yes' if dpX[Nx][x] == dpY[Ny][y] == True else 'No')"
   ]
  },
  {
   "cell_type": "code",
   "execution_count": null,
   "metadata": {},
   "outputs": [],
   "source": [
    "#D別解\n",
    "N, x, y = map(int, input().split())\n",
    "A = list(map(int, input().split()))\n",
    "Ax = []\n",
    "Ay = []\n",
    "for i in range(N):\n",
    "    if i % 2 == 0:\n",
    "        Ax.append(A[i])\n",
    "    else:\n",
    "        Ay.append(A[i])\n",
    "\n",
    "Nx = (N + 1) // 2\n",
    "Ny = N // 2\n",
    "\n",
    "X_se = [set() for _ in range(Nx + 1)]\n",
    "Y_se = [set() for _ in range(Ny + 1)]\n",
    "X_se[0].add(0)\n",
    "X_se[1].add(Ax[0])\n",
    "Y_se[0].add(0)\n",
    "\n",
    "for i in range(1, Nx):\n",
    "    for j in X_se[i]:\n",
    "        X_se[i + 1].add(j + Ax[i])\n",
    "        X_se[i + 1].add(j - Ax[i])\n",
    "\n",
    "for i in range(Ny):\n",
    "    for j in Y_se[i]:\n",
    "        Y_se[i + 1].add(j + Ay[i])\n",
    "        Y_se[i + 1].add(j - Ay[i])\n",
    "\n",
    "print('Yes' if x in X_se[Nx] and y in Y_se[Ny] else 'No')"
   ]
  }
 ],
 "metadata": {
  "kernelspec": {
   "display_name": "Python 3.10.4 64-bit",
   "language": "python",
   "name": "python3"
  },
  "language_info": {
   "codemirror_mode": {
    "name": "ipython",
    "version": 3
   },
   "file_extension": ".py",
   "mimetype": "text/x-python",
   "name": "python",
   "nbconvert_exporter": "python",
   "pygments_lexer": "ipython3",
   "version": "3.10.4 (tags/v3.10.4:9d38120, Mar 23 2022, 23:13:41) [MSC v.1929 64 bit (AMD64)]"
  },
  "orig_nbformat": 4,
  "vscode": {
   "interpreter": {
    "hash": "c036f8f3ad2f0d684820dfc35afda6e333e93b801313b3488a29c3dc9dff951a"
   }
  }
 },
 "nbformat": 4,
 "nbformat_minor": 2
}
