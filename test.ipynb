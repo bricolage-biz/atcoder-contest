{
 "cells": [
  {
   "cell_type": "markdown",
   "metadata": {},
   "source": [
    "### これはテストです"
   ]
  },
  {
   "cell_type": "code",
   "execution_count": 13,
   "metadata": {},
   "outputs": [
    {
     "name": "stdout",
     "output_type": "stream",
     "text": [
      "0.0\n",
      "[(0, 0, 0), (0, 0, 1), (0, 1, 0), (0, 1, 1), (1, 0, 0), (1, 0, 1), (1, 1, 0), (1, 1, 1), (0, 0, 0), (0, 0, 1), (0, 1, 0), (0, 1, 1), (1, 0, 0), (1, 0, 1), (1, 1, 0), (1, 1, 1)]\n"
     ]
    }
   ],
   "source": [
    "from time import time\n",
    "ls = []\n",
    "s = time()\n",
    "for bits in range(1 << 4):\n",
    "    tmp = []\n",
    "    for i in range(3):\n",
    "        if bits & (1 << i):\n",
    "            tmp.append(1)\n",
    "        else:\n",
    "            tmp.append(0)\n",
    "    \n",
    "    ls.append(tuple(tmp[::-1]))\n",
    "g = time()\n",
    "print(g - s)\n",
    "print(ls)\n"
   ]
  },
  {
   "cell_type": "code",
   "execution_count": 11,
   "metadata": {},
   "outputs": [
    {
     "data": {
      "text/plain": [
       "[5, 4, 3, 2, 1]"
      ]
     },
     "execution_count": 11,
     "metadata": {},
     "output_type": "execute_result"
    }
   ],
   "source": [
    "tmp = [1,2,3,4,5]\n",
    "type(tmp.reverse())\n",
    "tmp"
   ]
  },
  {
   "cell_type": "code",
   "execution_count": 3,
   "metadata": {},
   "outputs": [
    {
     "name": "stdout",
     "output_type": "stream",
     "text": [
      "3400\n"
     ]
    }
   ],
   "source": [
    "X, Y, N = map(int, input().split())\n",
    "ans = float(\"inf\")\n",
    "for y in range(101):\n",
    "    x = N - 3 * y\n",
    "    if x < 0:\n",
    "        continue\n",
    "    ans = min(ans, x * X + y * Y)\n",
    "print(ans)"
   ]
  },
  {
   "cell_type": "code",
   "execution_count": 4,
   "metadata": {},
   "outputs": [
    {
     "ename": "ValueError",
     "evalue": "too many values to unpack (expected 3)",
     "output_type": "error",
     "traceback": [
      "\u001b[1;31m---------------------------------------------------------------------------\u001b[0m",
      "\u001b[1;31mValueError\u001b[0m                                Traceback (most recent call last)",
      "\u001b[1;32mセル5 を c:\\Users\\yamaguchi_sueko\\Documents\\atcoder\\test.ipynb\u001b[0m in \u001b[0;36m<cell line: 1>\u001b[1;34m()\u001b[0m\n\u001b[1;32m----> <a href='vscode-notebook-cell:/c%3A/Users/yamaguchi_sueko/Documents/atcoder/test.ipynb#W4sZmlsZQ%3D%3D?line=0'>1</a>\u001b[0m N, M, T \u001b[39m=\u001b[39m \u001b[39mmap\u001b[39m(\u001b[39mint\u001b[39m, \u001b[39minput\u001b[39m()\u001b[39m.\u001b[39msplit())\n\u001b[0;32m      <a href='vscode-notebook-cell:/c%3A/Users/yamaguchi_sueko/Documents/atcoder/test.ipynb#W4sZmlsZQ%3D%3D?line=1'>2</a>\u001b[0m A \u001b[39m=\u001b[39m \u001b[39mlist\u001b[39m(\u001b[39mmap\u001b[39m(\u001b[39mint\u001b[39m, \u001b[39minput\u001b[39m()\u001b[39m.\u001b[39msplit()))\n\u001b[0;32m      <a href='vscode-notebook-cell:/c%3A/Users/yamaguchi_sueko/Documents/atcoder/test.ipynb#W4sZmlsZQ%3D%3D?line=2'>3</a>\u001b[0m X, Y \u001b[39m=\u001b[39m [], []\n",
      "\u001b[1;31mValueError\u001b[0m: too many values to unpack (expected 3)"
     ]
    }
   ],
   "source": [
    "N, M, T = map(int, input().split())\n",
    "A = list(map(int, input().split()))\n",
    "XY = {}\n",
    "for _ in range(M):\n",
    "    x, y = map(int, input().split())\n",
    "    x -= 1\n",
    "    XY[x] = y\n",
    "\n",
    "pos = 0\n",
    "time = T\n",
    "ans = True\n",
    "while pos != N - 1:\n",
    "    if pos in XY:\n",
    "        time += XY[pos]\n",
    "    time -= A[pos]\n",
    "    if time <= 0:\n",
    "        ans = False\n",
    "        break\n",
    "    pos += 1\n",
    "\n",
    "print('Yes' if ans == True else 'No')"
   ]
  },
  {
   "cell_type": "code",
   "execution_count": null,
   "metadata": {},
   "outputs": [],
   "source": [
    "H, W = map(int, input().split())\n",
    "grid = []\n",
    "for _ in range(H):\n",
    "    grid.append(list(input()))\n",
    "\n",
    "visited = set()\n",
    "pos = [0, 0]\n",
    "while tuple(pos) not in visited:\n",
    "    visited.add((pos[0], pos[1]))\n",
    "\n",
    "    if grid[pos[0]][pos[1]] == 'U':\n",
    "        if pos[0] == 0:\n",
    "            print(pos[0] + 1, pos[1] + 1)\n",
    "            exit()\n",
    "        else:\n",
    "            pos[0] -= 1\n",
    "    if grid[pos[0]][pos[1]] == 'D':\n",
    "        if pos[0] == H - 1:\n",
    "            print(pos[0] + 1, pos[1] + 1)\n",
    "            exit()\n",
    "        else:\n",
    "            pos[0] += 1\n",
    "    if grid[pos[0]][pos[1]] == 'L':\n",
    "        if pos[1] == 0:\n",
    "            print(pos[0] + 1, pos[1] + 1)\n",
    "            exit()\n",
    "        else:\n",
    "            pos[1] -= 1\n",
    "    if grid[pos[0]][pos[1]] == 'R':\n",
    "        if pos[1] == W - 1:\n",
    "            print(pos[0] + 1, pos[1] + 1)\n",
    "            exit()\n",
    "        else:\n",
    "            pos[1] += 1\n",
    "print(-1)"
   ]
  },
  {
   "cell_type": "code",
   "execution_count": null,
   "metadata": {},
   "outputs": [],
   "source": [
    "from itertools import accumulate\n",
    "\n",
    "N, P, Q, R = map(int, input().split())\n",
    "A = list(map(int, input().split()))\n",
    "A_tot = accumulate(A)\n",
    "\n",
    "tot = 0\n",
    "l = 0\n",
    "r = 1\n",
    "cnt = 0\n",
    "\n",
    "while l < N - 2 and r < N - 1:\n",
    "    if l == 0 and r == 1:\n",
    "        tot = A[0]\n",
    "    elif l == 0:\n",
    "        tot = A[r - 1]\n",
    "    else:\n",
    "        tot = A_tot[r - 1] - A_tot[l - 1]\n",
    "\n",
    "    if tot > P:\n",
    "        l += 1\n",
    "        if r == l:\n",
    "            r += 1\n",
    "    elif tot < P:\n",
    "        r += 1\n",
    "    else:\n",
    "        while l < N - 1 and r < N:\n",
    "            if l == 0 and r == 1:\n",
    "                tot = A[0]\n",
    "            elif l == 0:\n",
    "                tot = A[r - 1]\n",
    "            else:\n",
    "                tot = A_tot[r - 1] - A_tot[l - 1]\n",
    "\n",
    "            if tot > Q:\n",
    "                l += 1\n",
    "                if r == l:\n",
    "                    r += 1\n",
    "            elif tot < Q:\n",
    "                r += 1\n",
    "            else:\n",
    "                while l < N and r < N + 1:\n",
    "                    if l == 0 and r == 1:\n",
    "                        tot = A[0]\n",
    "                    elif l == 0:\n",
    "                        tot = A[r - 1]\n",
    "                    else:\n",
    "                        tot = A_tot[r - 1] - A_tot[l - 1]\n",
    "\n",
    "                    if tot > Q:\n",
    "                        l += 1\n",
    "                        if r == l:\n",
    "                            r += 1\n",
    "                    elif tot < Q:\n",
    "                        r += 1\n",
    "                    else:\n",
    "                        print('Yes')\n",
    "                print('No')\n",
    "        print('No')\n",
    "print('No')\n"
   ]
  },
  {
   "cell_type": "code",
   "execution_count": 5,
   "metadata": {},
   "outputs": [
    {
     "name": "stdout",
     "output_type": "stream",
     "text": [
      "3\n"
     ]
    }
   ],
   "source": [
    "s = input()\n",
    "lst = [\"Monday\", \"Tuesday\", \"Wednesday\", \"Thursday\", \"Friday\"]\n",
    "print(5 - lst.index(s))"
   ]
  },
  {
   "cell_type": "code",
   "execution_count": null,
   "metadata": {},
   "outputs": [],
   "source": [
    "S = input()\n",
    "cols = [[6], [3], [1, 7], [0, 4], [2, 8], [5], [9]]\n",
    "if S[0] == '1':\n",
    "    print('No')\n",
    "    exit()\n",
    "\n",
    "for i in range(5):\n",
    "    cnt1 = 0\n",
    "    for pin1 in cols[i]:\n",
    "        if S[pin1] == '1':\n",
    "            cnt1 += 1\n",
    "    if cnt1 == 0:\n",
    "        continue\n",
    "    for j in range(i + 2, 7):\n",
    "        cnt2 = 0\n",
    "        for pin2 in cols[j]:\n",
    "            if S[pin2] == '1':\n",
    "                cnt2 += 1\n",
    "        if cnt2 >= 1:\n",
    "            for k in range(i + 1, j):\n",
    "                cnt3 = 0\n",
    "                for pin3 in cols[k]:\n",
    "                    if S[pin3] == '0':\n",
    "                        cnt3 += 1\n",
    "                if cnt3 == len(cols[k]):\n",
    "                    print('Yes')\n",
    "                    exit()\n",
    "print('No')\n"
   ]
  },
  {
   "cell_type": "code",
   "execution_count": 7,
   "metadata": {},
   "outputs": [
    {
     "data": {
      "text/plain": [
       "[0, 1, 3, 6]"
      ]
     },
     "execution_count": 7,
     "metadata": {},
     "output_type": "execute_result"
    }
   ],
   "source": [
    "from itertools import accumulate\n",
    "N, M = map(int, input().split())\n",
    "A = list(map(int, input().split()))\n",
    "A_tot = [0] + list(accumulate(A))\n",
    "ans = []\n",
    "tot = 0\n",
    "for i in range(M):\n",
    "    tot += (i + 1) * A[i]\n",
    "ans.append(tot)\n",
    "\n",
    "for i in range(1, N):\n",
    "    if i + M > N:\n",
    "        continue\n",
    "    ans.append(ans[-1] - (A_tot[i - 1 + M] - A_tot[i - 1] - A[i + M - 1] * M))\n",
    "print(max(ans))"
   ]
  },
  {
   "cell_type": "code",
   "execution_count": null,
   "metadata": {},
   "outputs": [],
   "source": [
    "from itertools import accumulate\n",
    "N, M = map(int, input().split())\n",
    "A = list(map(int, input().split()))\n",
    "A_tot = [0] + list(accumulate(A))\n",
    "\n",
    "dp = [[0] * N for _ in range(M + 1)]\n",
    "for i in range(1, M + 1):\n",
    "    for j in range(N):\n",
    "        \n",
    "\n",
    "ans = []\n",
    "tot = 0\n",
    "for i in range(M):\n",
    "    tot += (i + 1) * A[i]\n",
    "ans.append(tot)\n",
    "\n",
    "for i in range(1, N):\n",
    "    if i + M > N:\n",
    "        continue\n",
    "    ans.append(ans[-1] - (A_tot[i - 1 + M] - A_tot[i - 1] - A[i + M - 1] * M))\n",
    "print(max(ans))"
   ]
  }
 ],
 "metadata": {
  "interpreter": {
   "hash": "c036f8f3ad2f0d684820dfc35afda6e333e93b801313b3488a29c3dc9dff951a"
  },
  "kernelspec": {
   "display_name": "Python 3.10.4 64-bit",
   "language": "python",
   "name": "python3"
  },
  "language_info": {
   "codemirror_mode": {
    "name": "ipython",
    "version": 3
   },
   "file_extension": ".py",
   "mimetype": "text/x-python",
   "name": "python",
   "nbconvert_exporter": "python",
   "pygments_lexer": "ipython3",
   "version": "3.10.4"
  },
  "orig_nbformat": 4
 },
 "nbformat": 4,
 "nbformat_minor": 2
}
