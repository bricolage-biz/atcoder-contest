{
 "cells": [
  {
   "cell_type": "code",
   "execution_count": 3,
   "metadata": {},
   "outputs": [
    {
     "name": "stdout",
     "output_type": "stream",
     "text": [
      "16\n"
     ]
    }
   ],
   "source": [
    "# A\n",
    "N = int(input())\n",
    "A = list(map(int, input().split()))\n",
    "A.sort(reverse=True)\n",
    "print(sum([A[i] for i in range(0, N, 2)]))"
   ]
  },
  {
   "cell_type": "code",
   "execution_count": null,
   "metadata": {},
   "outputs": [],
   "source": [
    "# B\n",
    "import sys\n",
    "sys.setrecursionlimit(10 ** 5)\n",
    "\n",
    "H, W = map(int, input().split())\n",
    "S = []\n",
    "for _ in range(H):\n",
    "    S.append(input())\n",
    "\n",
    "memo = {}\n",
    "def dfs(i, j): #駒が(i, j)にあるとき手番が回って来た人の勝敗 1が勝ち、0が負け\n",
    "    if (i, j) in memo: #すでに求まっているマスはメモを取る\n",
    "        return memo[(i, j)]\n",
    "    if i >= H or j >= W or S[i][j] == '#':\n",
    "        memo[(i, j)] = 1\n",
    "        return 1\n",
    "    if dfs(i + 1, j) == 0:\n",
    "        memo[(i, j)] = 1\n",
    "        return 1\n",
    "    if dfs(i, j + 1) == 0:\n",
    "        memo[(i, j)] = 1\n",
    "        return 1\n",
    "    if dfs(i + 1, j + 1) == 0:\n",
    "        memo[(i, j)] = 1\n",
    "        return 1\n",
    "    memo[(i, j)] = 0\n",
    "    return 0\n",
    "\n",
    "print('First' if dfs(0, 0) else 'Second')"
   ]
  }
 ],
 "metadata": {
  "kernelspec": {
   "display_name": "Python 3.10.4 64-bit",
   "language": "python",
   "name": "python3"
  },
  "language_info": {
   "codemirror_mode": {
    "name": "ipython",
    "version": 3
   },
   "file_extension": ".py",
   "mimetype": "text/x-python",
   "name": "python",
   "nbconvert_exporter": "python",
   "pygments_lexer": "ipython3",
   "version": "3.10.4"
  },
  "orig_nbformat": 4,
  "vscode": {
   "interpreter": {
    "hash": "c036f8f3ad2f0d684820dfc35afda6e333e93b801313b3488a29c3dc9dff951a"
   }
  }
 },
 "nbformat": 4,
 "nbformat_minor": 2
}
