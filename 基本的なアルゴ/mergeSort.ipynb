{
 "cells": [
  {
   "cell_type": "code",
   "execution_count": null,
   "metadata": {},
   "outputs": [],
   "source": [
    "def merge(L, R):\n",
    "    if len(L) == 0:\n",
    "        return R\n",
    "    if len(R) == 0:\n",
    "        return L\n",
    "    if L[0] < R[0]:\n",
    "        return [L[0]] + merge(L[1:], R)\n",
    "    else:\n",
    "        return [R[0]] + merge(L, R[1:])\n",
    "\n",
    "def mergeSort(x):\n",
    "    N = len(x)\n",
    "    if N == 1:\n",
    "        return x\n",
    "    mid = N // 2  \n",
    "    L = x[:mid]\n",
    "    R = x[mid:]\n",
    "    Ls = mergeSort(L)\n",
    "    Rs = mergeSort(R)\n",
    "    return merge(Ls, Rs)\n",
    "\n",
    "X = [3,1,5,8,3,5,2,63,7]\n",
    "mergeSort(X)"
   ]
  }
 ],
 "metadata": {
  "kernelspec": {
   "display_name": "Python 3.10.4 64-bit",
   "language": "python",
   "name": "python3"
  },
  "language_info": {
   "name": "python",
   "version": "3.10.4"
  },
  "orig_nbformat": 4,
  "vscode": {
   "interpreter": {
    "hash": "c036f8f3ad2f0d684820dfc35afda6e333e93b801313b3488a29c3dc9dff951a"
   }
  }
 },
 "nbformat": 4,
 "nbformat_minor": 2
}
