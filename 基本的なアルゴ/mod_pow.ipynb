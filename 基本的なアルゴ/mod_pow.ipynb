{
 "cells": [
  {
   "cell_type": "code",
   "execution_count": null,
   "metadata": {},
   "outputs": [],
   "source": [
    "# x^n(mod)をO(logn)で求めるアルゴリズム\n",
    "def mod_pow(x, n, mod):\n",
    "    if n == 0:\n",
    "        return 1\n",
    "    return (mod_pow(x ** 2, n // 2, mod) * (x ** (n % 2))) % mod # odd, evenの場合分けをせずに書いている。\n",
    "\n",
    "    # if n % 2 == 0:\n",
    "        # ret = mod_pow(x ** 2, n // 2, mod)\n",
    "    # else:\n",
    "        # ret = (mod_pow(x ** 2, n // 2, mod) * x) % mod\n",
    "    # return ret\n",
    "\n",
    "mod_pow(123, 22, 1000)"
   ]
  }
 ],
 "metadata": {
  "language_info": {
   "name": "python"
  },
  "orig_nbformat": 4
 },
 "nbformat": 4,
 "nbformat_minor": 2
}
