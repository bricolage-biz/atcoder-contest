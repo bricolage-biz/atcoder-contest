{
 "cells": [
  {
   "cell_type": "code",
   "execution_count": 9,
   "metadata": {},
   "outputs": [
    {
     "name": "stdout",
     "output_type": "stream",
     "text": [
      "aaaa\n",
      "aaab\n",
      "aaba\n",
      "aabb\n",
      "aabc\n",
      "abaa\n",
      "abab\n",
      "abac\n",
      "abba\n",
      "abbb\n",
      "abbc\n",
      "abca\n",
      "abcb\n",
      "abcc\n",
      "abcd\n"
     ]
    }
   ],
   "source": [
    "# D - String Equivalence\n",
    "# 再帰DFS\n",
    "import sys\n",
    "sys.setrecursionlimit(10 ** 5)\n",
    "n = int(input())\n",
    "\n",
    "def dfs(seq):\n",
    "    chars = \"abcdefghij\"\n",
    "    if len(seq) == n:\n",
    "        print(seq)\n",
    "        return\n",
    "    else:\n",
    "        for i in range(len(set(seq)) + 1):\n",
    "            seq_next = seq + chars[i]\n",
    "            dfs(seq_next)\n",
    "\n",
    "dfs('')"
   ]
  },
  {
   "cell_type": "code",
   "execution_count": 13,
   "metadata": {},
   "outputs": [
    {
     "name": "stdout",
     "output_type": "stream",
     "text": [
      "aaa\n",
      "aab\n",
      "aba\n",
      "abb\n",
      "abc\n"
     ]
    }
   ],
   "source": [
    "# キュー再帰\n",
    "from collections import deque\n",
    "n = int(input())\n",
    "chars = \"abcdefghij\"\n",
    "\n",
    "que = deque()\n",
    "que.append(\"a\")\n",
    "while que:\n",
    "    seq = que.popleft()\n",
    "    if len(seq) == n:\n",
    "        print(seq)\n",
    "    else:\n",
    "        for i in range(len(set(seq)) + 1):\n",
    "            seq_next = seq + chars[i]\n",
    "            que.append(seq_next)"
   ]
  },
  {
   "cell_type": "code",
   "execution_count": 1,
   "metadata": {},
   "outputs": [
    {
     "name": "stdout",
     "output_type": "stream",
     "text": [
      "aaaa\n",
      "aaab\n",
      "aaba\n",
      "aabb\n",
      "aabc\n",
      "abaa\n",
      "abab\n",
      "abac\n",
      "abba\n",
      "abbb\n",
      "abbc\n",
      "abca\n",
      "abcb\n",
      "abcc\n",
      "abcd\n"
     ]
    }
   ],
   "source": [
    "# 再帰DFS\n",
    "import sys\n",
    "sys.setrecursionlimit(10 ** 5)\n",
    "\n",
    "N = int(input())\n",
    "def dfs(seq):\n",
    "    chars = 'abcdefghij'\n",
    "    if len(seq) == N:\n",
    "        print(seq)\n",
    "        return\n",
    "    else:\n",
    "        for i in range(len(set(seq)) + 1):\n",
    "            seq_next = seq + chars[i]\n",
    "            dfs(seq_next)\n",
    "\n",
    "dfs('')"
   ]
  },
  {
   "cell_type": "code",
   "execution_count": null,
   "metadata": {},
   "outputs": [],
   "source": []
  },
  {
   "cell_type": "code",
   "execution_count": null,
   "metadata": {},
   "outputs": [],
   "source": []
  },
  {
   "cell_type": "code",
   "execution_count": null,
   "metadata": {},
   "outputs": [],
   "source": []
  }
 ],
 "metadata": {
  "kernelspec": {
   "display_name": "Python 3.10.4 64-bit",
   "language": "python",
   "name": "python3"
  },
  "language_info": {
   "codemirror_mode": {
    "name": "ipython",
    "version": 3
   },
   "file_extension": ".py",
   "mimetype": "text/x-python",
   "name": "python",
   "nbconvert_exporter": "python",
   "pygments_lexer": "ipython3",
   "version": "3.10.4"
  },
  "orig_nbformat": 4,
  "vscode": {
   "interpreter": {
    "hash": "c036f8f3ad2f0d684820dfc35afda6e333e93b801313b3488a29c3dc9dff951a"
   }
  }
 },
 "nbformat": 4,
 "nbformat_minor": 2
}
